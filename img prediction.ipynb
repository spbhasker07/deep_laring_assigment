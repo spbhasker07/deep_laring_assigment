{
 "cells": [
  {
   "cell_type": "code",
   "execution_count": 7,
   "id": "efdaacab-68da-4592-897e-936a0f41245c",
   "metadata": {},
   "outputs": [],
   "source": [
    "import pandas as pd\n",
    "import numpy as np\n",
    "from tensorflow.keras.applications.efficientnet_v2 import EfficientNetV2S,preprocess_input,decode_predictions\n",
    "import tensorflow as tf\n",
    "import random"
   ]
  },
  {
   "cell_type": "code",
   "execution_count": 8,
   "id": "c329fd9e-f0d0-4e3a-99c7-ccb62fe7a999",
   "metadata": {},
   "outputs": [],
   "source": [
    "model=EfficientNetV2S()"
   ]
  },
  {
   "cell_type": "code",
   "execution_count": 9,
   "id": "ccf442fe-02e7-4a56-a877-758725c27267",
   "metadata": {},
   "outputs": [],
   "source": [
    "from tensorflow.keras.preprocessing.image import load_img,img_to_array"
   ]
  },
  {
   "cell_type": "code",
   "execution_count": 16,
   "id": "239ff47a-d420-433e-b3af-92c46465c3b4",
   "metadata": {},
   "outputs": [
    {
     "name": "stdout",
     "output_type": "stream",
     "text": [
      "\u001b[1m1/1\u001b[0m \u001b[32m━━━━━━━━━━━━━━━━━━━━\u001b[0m\u001b[37m\u001b[0m \u001b[1m0s\u001b[0m 408ms/step\n"
     ]
    },
    {
     "data": {
      "text/plain": [
       "[[('n02504458', 'African_elephant', np.float32(0.31338733)),\n",
       "  ('n01871265', 'tusker', np.float32(0.2826985)),\n",
       "  ('n02504013', 'Indian_elephant', np.float32(0.26824167))]]"
      ]
     },
     "execution_count": 16,
     "metadata": {},
     "output_type": "execute_result"
    }
   ],
   "source": [
    "img=img_to_array(load_img(\"img 1.jpg\",target_size=(384,384),color_mode='rgb'))\n",
    "img=preprocess_input(img.reshape(1,384,384,3))\n",
    "probs=model.predict(img)\n",
    "decode_predictions(probs,top=3)"
   ]
  },
  {
   "cell_type": "code",
   "execution_count": null,
   "id": "809a48af-dbad-4457-be6a-09a93bee3e86",
   "metadata": {},
   "outputs": [],
   "source": []
  }
 ],
 "metadata": {
  "kernelspec": {
   "display_name": "Python 3 (ipykernel)",
   "language": "python",
   "name": "python3"
  },
  "language_info": {
   "codemirror_mode": {
    "name": "ipython",
    "version": 3
   },
   "file_extension": ".py",
   "mimetype": "text/x-python",
   "name": "python",
   "nbconvert_exporter": "python",
   "pygments_lexer": "ipython3",
   "version": "3.13.6"
  }
 },
 "nbformat": 4,
 "nbformat_minor": 5
}
