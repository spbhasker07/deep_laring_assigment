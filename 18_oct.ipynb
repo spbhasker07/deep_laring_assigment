{
 "cells": [
  {
   "cell_type": "code",
   "execution_count": 1,
   "id": "00a108a2-49b9-450a-98c6-bc96e2d36aee",
   "metadata": {},
   "outputs": [
    {
     "name": "stdout",
     "output_type": "stream",
     "text": [
      "['fo@od was good', 'taste was not good', 'will not re$commend to others', 'service was very prompt', 'awesome food']\n",
      "['food was good', 'taste was not good', 'will not recommend to others', 'service was very prompt', 'awesome food']\n"
     ]
    }
   ],
   "source": [
    "#sample=document=str\n",
    "doc1='fo@od was Good'\n",
    "doc2='taste was not good'\n",
    "doc3='will not re$commend to others'\n",
    "doc4='service was very prompt'\n",
    "doc5='awesome Food'\n",
    "import numpy as np\n",
    "\n",
    "target=np.array([1,0,0,1,1])\n",
    "\n",
    "#corpus=list or 1d array of docs\n",
    "corpus=[doc1,doc2,doc3,doc4,doc5]\n",
    "corpus2=list(map(str.lower,corpus))\n",
    "print(corpus2)\n",
    "\n",
    "import re\n",
    "def clean_punch(doc):\n",
    "    doc=re.sub('[^a-z ]','',doc)\n",
    "    return doc\n",
    "\n",
    "corpus3=list(map(clean_punch,corpus2))\n",
    "print(corpus3)"
   ]
  },
  {
   "cell_type": "code",
   "execution_count": 2,
   "id": "51a2051d-dec6-476f-9b74-c11e914097b8",
   "metadata": {},
   "outputs": [],
   "source": [
    "from tensorflow.keras.preprocessing.text import Tokenizer"
   ]
  },
  {
   "cell_type": "code",
   "execution_count": 3,
   "id": "ea2f0447-5c45-4912-a6dc-cf1f6e70d529",
   "metadata": {},
   "outputs": [],
   "source": [
    "tk=Tokenizer()\n",
    "tk.fit_on_texts(corpus3)"
   ]
  },
  {
   "cell_type": "code",
   "execution_count": 4,
   "id": "9faffdac-44ab-48b0-ad5e-55df20eef1c6",
   "metadata": {},
   "outputs": [
    {
     "data": {
      "text/plain": [
       "{1: 'was',\n",
       " 2: 'food',\n",
       " 3: 'good',\n",
       " 4: 'not',\n",
       " 5: 'taste',\n",
       " 6: 'will',\n",
       " 7: 'recommend',\n",
       " 8: 'to',\n",
       " 9: 'others',\n",
       " 10: 'service',\n",
       " 11: 'very',\n",
       " 12: 'prompt',\n",
       " 13: 'awesome'}"
      ]
     },
     "execution_count": 4,
     "metadata": {},
     "output_type": "execute_result"
    }
   ],
   "source": [
    "tk.index_word"
   ]
  },
  {
   "cell_type": "code",
   "execution_count": 19,
   "id": "eb83f60d-ab2e-4d73-9ca1-d5190a6b9d48",
   "metadata": {},
   "outputs": [
    {
     "data": {
      "text/plain": [
       "13"
      ]
     },
     "execution_count": 19,
     "metadata": {},
     "output_type": "execute_result"
    }
   ],
   "source": [
    "len(tk.index_word)"
   ]
  },
  {
   "cell_type": "code",
   "execution_count": 5,
   "id": "b5a5a3dc-df12-466d-94cc-ee087901c76f",
   "metadata": {},
   "outputs": [
    {
     "name": "stdout",
     "output_type": "stream",
     "text": [
      "[[2, 1, 3], [5, 1, 4, 3], [6, 4, 7, 8, 9], [10, 1, 11, 12], [13, 2]]\n"
     ]
    }
   ],
   "source": [
    "seqs=tk.texts_to_sequences(corpus3)\n",
    "print(seqs)"
   ]
  },
  {
   "cell_type": "code",
   "execution_count": 6,
   "id": "7ad4bd18-6ddc-4d97-8edf-caf16c17319d",
   "metadata": {},
   "outputs": [],
   "source": [
    "from tensorflow.keras.preprocessing.sequence import pad_sequences"
   ]
  },
  {
   "cell_type": "code",
   "execution_count": 7,
   "id": "06c35188-d205-400e-ab42-8d00a64ac713",
   "metadata": {},
   "outputs": [
    {
     "data": {
      "text/plain": [
       "array([[ 2,  1,  3,  0,  0],\n",
       "       [ 5,  1,  4,  3,  0],\n",
       "       [ 6,  4,  7,  8,  9],\n",
       "       [10,  1, 11, 12,  0],\n",
       "       [13,  2,  0,  0,  0]], dtype=int32)"
      ]
     },
     "execution_count": 7,
     "metadata": {},
     "output_type": "execute_result"
    }
   ],
   "source": [
    "pad_sequences(seqs,padding='post')"
   ]
  },
  {
   "cell_type": "code",
   "execution_count": 8,
   "id": "0adee538-d629-4f17-b35c-ad8cab87cef4",
   "metadata": {},
   "outputs": [
    {
     "data": {
      "text/plain": [
       "array([[ 0,  0,  2,  1,  3],\n",
       "       [ 0,  5,  1,  4,  3],\n",
       "       [ 6,  4,  7,  8,  9],\n",
       "       [ 0, 10,  1, 11, 12],\n",
       "       [ 0,  0,  0, 13,  2]], dtype=int32)"
      ]
     },
     "execution_count": 8,
     "metadata": {},
     "output_type": "execute_result"
    }
   ],
   "source": [
    "pad_sequences(seqs,padding='pre')"
   ]
  },
  {
   "cell_type": "code",
   "execution_count": 9,
   "id": "3ccc616b-5b32-4047-84b1-361cf4d574a4",
   "metadata": {},
   "outputs": [
    {
     "data": {
      "text/plain": [
       "array([[ 0,  0,  2,  1,  3],\n",
       "       [ 0,  5,  1,  4,  3],\n",
       "       [ 6,  4,  7,  8,  9],\n",
       "       [ 0, 10,  1, 11, 12],\n",
       "       [ 0,  0,  0, 13,  2]], dtype=int32)"
      ]
     },
     "execution_count": 9,
     "metadata": {},
     "output_type": "execute_result"
    }
   ],
   "source": [
    "pad_sequences(seqs)"
   ]
  },
  {
   "cell_type": "code",
   "execution_count": 10,
   "id": "8838d372-1903-4daa-b975-9bd6a1793756",
   "metadata": {},
   "outputs": [
    {
     "data": {
      "text/plain": [
       "array([[ 0,  2,  1,  3],\n",
       "       [ 5,  1,  4,  3],\n",
       "       [ 6,  4,  7,  8],\n",
       "       [10,  1, 11, 12],\n",
       "       [ 0,  0, 13,  2]], dtype=int32)"
      ]
     },
     "execution_count": 10,
     "metadata": {},
     "output_type": "execute_result"
    }
   ],
   "source": [
    "pad_sequences(seqs,padding='pre',maxlen=4,truncating='post')"
   ]
  },
  {
   "cell_type": "code",
   "execution_count": 11,
   "id": "a1926330-bb7c-4f04-8d9f-1f84880dc153",
   "metadata": {},
   "outputs": [],
   "source": [
    "pad_seqs=pad_sequences(seqs,padding='pre',maxlen=4,truncating='post')"
   ]
  },
  {
   "cell_type": "code",
   "execution_count": 13,
   "id": "f4b8790c-9f50-46c7-b7cd-7f653b2b0b11",
   "metadata": {},
   "outputs": [],
   "source": [
    "from tensorflow.keras.utils import to_categorical"
   ]
  },
  {
   "cell_type": "code",
   "execution_count": 16,
   "id": "9c4836b7-da45-4729-92a4-a76c2a6efc01",
   "metadata": {},
   "outputs": [
    {
     "data": {
      "text/plain": [
       "['food was good',\n",
       " 'taste was not good',\n",
       " 'will not recommend to others',\n",
       " 'service was very prompt',\n",
       " 'awesome food']"
      ]
     },
     "execution_count": 16,
     "metadata": {},
     "output_type": "execute_result"
    }
   ],
   "source": [
    "corpus3"
   ]
  },
  {
   "cell_type": "code",
   "execution_count": 17,
   "id": "5efb988b-7cb7-4be4-a07b-b87e91f89977",
   "metadata": {},
   "outputs": [
    {
     "data": {
      "text/plain": [
       "array([[ 0,  2,  1,  3],\n",
       "       [ 5,  1,  4,  3],\n",
       "       [ 6,  4,  7,  8],\n",
       "       [10,  1, 11, 12],\n",
       "       [ 0,  0, 13,  2]], dtype=int32)"
      ]
     },
     "execution_count": 17,
     "metadata": {},
     "output_type": "execute_result"
    }
   ],
   "source": [
    "pad_seqs"
   ]
  },
  {
   "cell_type": "code",
   "execution_count": 15,
   "id": "a8b1fc51-b7d4-4341-85b6-33a580b26ee7",
   "metadata": {},
   "outputs": [
    {
     "name": "stdout",
     "output_type": "stream",
     "text": [
      "(5, 4, 14)\n"
     ]
    },
    {
     "data": {
      "text/plain": [
       "array([[[1., 0., 0., 0., 0., 0., 0., 0., 0., 0., 0., 0., 0., 0.],\n",
       "        [0., 0., 1., 0., 0., 0., 0., 0., 0., 0., 0., 0., 0., 0.],\n",
       "        [0., 1., 0., 0., 0., 0., 0., 0., 0., 0., 0., 0., 0., 0.],\n",
       "        [0., 0., 0., 1., 0., 0., 0., 0., 0., 0., 0., 0., 0., 0.]],\n",
       "\n",
       "       [[0., 0., 0., 0., 0., 1., 0., 0., 0., 0., 0., 0., 0., 0.],\n",
       "        [0., 1., 0., 0., 0., 0., 0., 0., 0., 0., 0., 0., 0., 0.],\n",
       "        [0., 0., 0., 0., 1., 0., 0., 0., 0., 0., 0., 0., 0., 0.],\n",
       "        [0., 0., 0., 1., 0., 0., 0., 0., 0., 0., 0., 0., 0., 0.]],\n",
       "\n",
       "       [[0., 0., 0., 0., 0., 0., 1., 0., 0., 0., 0., 0., 0., 0.],\n",
       "        [0., 0., 0., 0., 1., 0., 0., 0., 0., 0., 0., 0., 0., 0.],\n",
       "        [0., 0., 0., 0., 0., 0., 0., 1., 0., 0., 0., 0., 0., 0.],\n",
       "        [0., 0., 0., 0., 0., 0., 0., 0., 1., 0., 0., 0., 0., 0.]],\n",
       "\n",
       "       [[0., 0., 0., 0., 0., 0., 0., 0., 0., 0., 1., 0., 0., 0.],\n",
       "        [0., 1., 0., 0., 0., 0., 0., 0., 0., 0., 0., 0., 0., 0.],\n",
       "        [0., 0., 0., 0., 0., 0., 0., 0., 0., 0., 0., 1., 0., 0.],\n",
       "        [0., 0., 0., 0., 0., 0., 0., 0., 0., 0., 0., 0., 1., 0.]],\n",
       "\n",
       "       [[1., 0., 0., 0., 0., 0., 0., 0., 0., 0., 0., 0., 0., 0.],\n",
       "        [1., 0., 0., 0., 0., 0., 0., 0., 0., 0., 0., 0., 0., 0.],\n",
       "        [0., 0., 0., 0., 0., 0., 0., 0., 0., 0., 0., 0., 0., 1.],\n",
       "        [0., 0., 1., 0., 0., 0., 0., 0., 0., 0., 0., 0., 0., 0.]]])"
      ]
     },
     "execution_count": 15,
     "metadata": {},
     "output_type": "execute_result"
    }
   ],
   "source": [
    "X=to_categorical(pad_seqs)\n",
    "print(X.shape)\n",
    "X"
   ]
  },
  {
   "cell_type": "code",
   "execution_count": 44,
   "id": "81bf0538-3511-40d0-aec0-66485f051927",
   "metadata": {},
   "outputs": [
    {
     "data": {
      "text/plain": [
       "array([1, 0, 0, 1, 1])"
      ]
     },
     "execution_count": 44,
     "metadata": {},
     "output_type": "execute_result"
    }
   ],
   "source": [
    "target"
   ]
  },
  {
   "cell_type": "code",
   "execution_count": 18,
   "id": "7f4b1b46-fd0a-4af2-8e26-78a25c9ca774",
   "metadata": {},
   "outputs": [],
   "source": [
    "from tensorflow.keras.layers import SimpleRNN,Dense,Embedding\n",
    "from tensorflow.keras.models import Sequential"
   ]
  },
  {
   "cell_type": "code",
   "execution_count": 20,
   "id": "d70163a7-ff5f-4ca2-9656-69f3e91fc731",
   "metadata": {},
   "outputs": [
    {
     "name": "stdout",
     "output_type": "stream",
     "text": [
      "Epoch 1/5\n",
      "\u001b[1m3/3\u001b[0m \u001b[32m━━━━━━━━━━━━━━━━━━━━\u001b[0m\u001b[37m\u001b[0m \u001b[1m2s\u001b[0m 24ms/step - accuracy: 0.8000 - loss: 0.6899\n",
      "Epoch 2/5\n",
      "\u001b[1m3/3\u001b[0m \u001b[32m━━━━━━━━━━━━━━━━━━━━\u001b[0m\u001b[37m\u001b[0m \u001b[1m0s\u001b[0m 14ms/step - accuracy: 0.8000 - loss: 0.6795\n",
      "Epoch 3/5\n",
      "\u001b[1m3/3\u001b[0m \u001b[32m━━━━━━━━━━━━━━━━━━━━\u001b[0m\u001b[37m\u001b[0m \u001b[1m0s\u001b[0m 17ms/step - accuracy: 0.8000 - loss: 0.6729\n",
      "Epoch 4/5\n",
      "\u001b[1m3/3\u001b[0m \u001b[32m━━━━━━━━━━━━━━━━━━━━\u001b[0m\u001b[37m\u001b[0m \u001b[1m0s\u001b[0m 14ms/step - accuracy: 1.0000 - loss: 0.6660\n",
      "Epoch 5/5\n",
      "\u001b[1m3/3\u001b[0m \u001b[32m━━━━━━━━━━━━━━━━━━━━\u001b[0m\u001b[37m\u001b[0m \u001b[1m0s\u001b[0m 17ms/step - accuracy: 1.0000 - loss: 0.6587\n"
     ]
    },
    {
     "data": {
      "text/plain": [
       "<keras.src.callbacks.history.History at 0x28c90b9be00>"
      ]
     },
     "execution_count": 20,
     "metadata": {},
     "output_type": "execute_result"
    }
   ],
   "source": [
    "model=Sequential()\n",
    "model.add(Embedding(input_dim=len(tk.index_word)+1,output_dim=10))\n",
    "model.add(SimpleRNN(units=10,activation='tanh'))\n",
    "model.add(Dense(units=5,activation='relu'))\n",
    "model.add(Dense(units=1,activation='sigmoid'))\n",
    "model.compile(loss='binary_crossentropy',optimizer='adam',metrics=['accuracy'])\n",
    "model.fit(pad_seqs,target,batch_size=2,epochs=5)"
   ]
  },
  {
   "cell_type": "code",
   "execution_count": 21,
   "id": "30eef107-2d9e-4926-a542-b2db1e25d182",
   "metadata": {},
   "outputs": [],
   "source": [
    "import pandas as pd\n",
    "import numpy as np\n",
    "import re\n",
    "from tensorflow.keras.preprocessing.text import Tokenizer\n",
    "from tensorflow.keras.layers import SimpleRNN,Dense,Embedding\n",
    "from tensorflow.keras.models import Sequential\n",
    "from tensorflow.keras.preprocessing.sequence import pad_sequences"
   ]
  },
  {
   "cell_type": "code",
   "execution_count": 22,
   "id": "dcef0cea-834d-4933-988e-7b6ad3faa8aa",
   "metadata": {},
   "outputs": [
    {
     "data": {
      "text/html": [
       "<div>\n",
       "<style scoped>\n",
       "    .dataframe tbody tr th:only-of-type {\n",
       "        vertical-align: middle;\n",
       "    }\n",
       "\n",
       "    .dataframe tbody tr th {\n",
       "        vertical-align: top;\n",
       "    }\n",
       "\n",
       "    .dataframe thead th {\n",
       "        text-align: right;\n",
       "    }\n",
       "</style>\n",
       "<table border=\"1\" class=\"dataframe\">\n",
       "  <thead>\n",
       "    <tr style=\"text-align: right;\">\n",
       "      <th></th>\n",
       "      <th>Review</th>\n",
       "      <th>Liked</th>\n",
       "    </tr>\n",
       "  </thead>\n",
       "  <tbody>\n",
       "    <tr>\n",
       "      <th>0</th>\n",
       "      <td>Wow... Loved this place.</td>\n",
       "      <td>1</td>\n",
       "    </tr>\n",
       "    <tr>\n",
       "      <th>1</th>\n",
       "      <td>Crust is not good.</td>\n",
       "      <td>0</td>\n",
       "    </tr>\n",
       "    <tr>\n",
       "      <th>2</th>\n",
       "      <td>Not tasty and the texture was just nasty.</td>\n",
       "      <td>0</td>\n",
       "    </tr>\n",
       "    <tr>\n",
       "      <th>3</th>\n",
       "      <td>Stopped by during the late May bank holiday of...</td>\n",
       "      <td>1</td>\n",
       "    </tr>\n",
       "    <tr>\n",
       "      <th>4</th>\n",
       "      <td>The selection on the menu was great and so wer...</td>\n",
       "      <td>1</td>\n",
       "    </tr>\n",
       "    <tr>\n",
       "      <th>...</th>\n",
       "      <td>...</td>\n",
       "      <td>...</td>\n",
       "    </tr>\n",
       "    <tr>\n",
       "      <th>1995</th>\n",
       "      <td>Everything was on point — from salads to ice c...</td>\n",
       "      <td>1</td>\n",
       "    </tr>\n",
       "    <tr>\n",
       "      <th>1996</th>\n",
       "      <td>Highly recommend trying the burger. Simply dis...</td>\n",
       "      <td>1</td>\n",
       "    </tr>\n",
       "    <tr>\n",
       "      <th>1997</th>\n",
       "      <td>Poor service and friendly hygiene standards.</td>\n",
       "      <td>0</td>\n",
       "    </tr>\n",
       "    <tr>\n",
       "      <th>1998</th>\n",
       "      <td>This is my go-to place for soup. Never disappo...</td>\n",
       "      <td>1</td>\n",
       "    </tr>\n",
       "    <tr>\n",
       "      <th>1999</th>\n",
       "      <td>Would definitely come again. Loved the present...</td>\n",
       "      <td>1</td>\n",
       "    </tr>\n",
       "  </tbody>\n",
       "</table>\n",
       "<p>2000 rows × 2 columns</p>\n",
       "</div>"
      ],
      "text/plain": [
       "                                                 Review  Liked\n",
       "0                              Wow... Loved this place.      1\n",
       "1                                    Crust is not good.      0\n",
       "2             Not tasty and the texture was just nasty.      0\n",
       "3     Stopped by during the late May bank holiday of...      1\n",
       "4     The selection on the menu was great and so wer...      1\n",
       "...                                                 ...    ...\n",
       "1995  Everything was on point — from salads to ice c...      1\n",
       "1996  Highly recommend trying the burger. Simply dis...      1\n",
       "1997       Poor service and friendly hygiene standards.      0\n",
       "1998  This is my go-to place for soup. Never disappo...      1\n",
       "1999  Would definitely come again. Loved the present...      1\n",
       "\n",
       "[2000 rows x 2 columns]"
      ]
     },
     "execution_count": 22,
     "metadata": {},
     "output_type": "execute_result"
    }
   ],
   "source": [
    "df=pd.read_csv('f:/ML_Dataset/food_review_dataset.csv')\n",
    "df"
   ]
  },
  {
   "cell_type": "code",
   "execution_count": 23,
   "id": "3f821422-20e8-4296-935a-44367bfdefbc",
   "metadata": {},
   "outputs": [
    {
     "data": {
      "text/plain": [
       "length\n",
       "55     108\n",
       "53     107\n",
       "51      61\n",
       "60      56\n",
       "54      55\n",
       "      ... \n",
       "129      1\n",
       "108      1\n",
       "145      1\n",
       "136      1\n",
       "149      1\n",
       "Name: count, Length: 134, dtype: int64"
      ]
     },
     "execution_count": 23,
     "metadata": {},
     "output_type": "execute_result"
    }
   ],
   "source": [
    "df['length']=list(map(len,df.Review))\n",
    "df.length.value_counts()"
   ]
  },
  {
   "cell_type": "code",
   "execution_count": 24,
   "id": "62b14f24-99ca-407f-ba5c-54d3d33541a2",
   "metadata": {},
   "outputs": [],
   "source": [
    "corpus=df.Review\n",
    "y=df.Liked\n"
   ]
  },
  {
   "cell_type": "code",
   "execution_count": 25,
   "id": "fe1e3cef-08ae-4d8e-9144-6cc3960fa403",
   "metadata": {},
   "outputs": [],
   "source": [
    "corpus2=list(map(str.lower,corpus))"
   ]
  },
  {
   "cell_type": "code",
   "execution_count": 26,
   "id": "e0c6e396-8673-4eb3-af05-6b5ffa23ff19",
   "metadata": {},
   "outputs": [
    {
     "name": "stdout",
     "output_type": "stream",
     "text": [
      "2064\n"
     ]
    }
   ],
   "source": [
    "def clean_punch(doc):\n",
    "    doc=re.sub('[^a-z ]','',doc)\n",
    "    return doc\n",
    "\n",
    "corpus3=list(map(clean_punch,corpus2))\n",
    "tk=Tokenizer()\n",
    "tk.fit_on_texts(corpus3)\n",
    "print(len(tk.index_word))\n",
    "seqs=tk.texts_to_sequences(corpus3)\n",
    "pad_seqs=pad_sequences(seqs,padding='pre',maxlen=70,truncating='post')"
   ]
  },
  {
   "cell_type": "code",
   "execution_count": 29,
   "id": "f597527e-ab40-4436-ac02-9413f4e2f29b",
   "metadata": {},
   "outputs": [
    {
     "name": "stdout",
     "output_type": "stream",
     "text": [
      "Epoch 1/10\n",
      "\u001b[1m50/50\u001b[0m \u001b[32m━━━━━━━━━━━━━━━━━━━━\u001b[0m\u001b[37m\u001b[0m \u001b[1m3s\u001b[0m 20ms/step - accuracy: 0.7181 - loss: 0.5646 - val_accuracy: 1.0000 - val_loss: 0.1736\n",
      "Epoch 2/10\n",
      "\u001b[1m50/50\u001b[0m \u001b[32m━━━━━━━━━━━━━━━━━━━━\u001b[0m\u001b[37m\u001b[0m \u001b[1m1s\u001b[0m 14ms/step - accuracy: 0.9325 - loss: 0.2899 - val_accuracy: 1.0000 - val_loss: 0.0795\n",
      "Epoch 3/10\n",
      "\u001b[1m50/50\u001b[0m \u001b[32m━━━━━━━━━━━━━━━━━━━━\u001b[0m\u001b[37m\u001b[0m \u001b[1m1s\u001b[0m 14ms/step - accuracy: 0.9794 - loss: 0.1413 - val_accuracy: 1.0000 - val_loss: 0.0364\n",
      "Epoch 4/10\n",
      "\u001b[1m50/50\u001b[0m \u001b[32m━━━━━━━━━━━━━━━━━━━━\u001b[0m\u001b[37m\u001b[0m \u001b[1m1s\u001b[0m 15ms/step - accuracy: 0.9925 - loss: 0.0696 - val_accuracy: 1.0000 - val_loss: 0.0205\n",
      "Epoch 5/10\n",
      "\u001b[1m50/50\u001b[0m \u001b[32m━━━━━━━━━━━━━━━━━━━━\u001b[0m\u001b[37m\u001b[0m \u001b[1m1s\u001b[0m 18ms/step - accuracy: 0.9962 - loss: 0.0389 - val_accuracy: 1.0000 - val_loss: 0.0118\n",
      "Epoch 6/10\n",
      "\u001b[1m50/50\u001b[0m \u001b[32m━━━━━━━━━━━━━━━━━━━━\u001b[0m\u001b[37m\u001b[0m \u001b[1m1s\u001b[0m 14ms/step - accuracy: 0.9987 - loss: 0.0221 - val_accuracy: 1.0000 - val_loss: 0.0082\n",
      "Epoch 7/10\n",
      "\u001b[1m50/50\u001b[0m \u001b[32m━━━━━━━━━━━━━━━━━━━━\u001b[0m\u001b[37m\u001b[0m \u001b[1m1s\u001b[0m 14ms/step - accuracy: 0.9994 - loss: 0.0141 - val_accuracy: 1.0000 - val_loss: 0.0065\n",
      "Epoch 8/10\n",
      "\u001b[1m50/50\u001b[0m \u001b[32m━━━━━━━━━━━━━━━━━━━━\u001b[0m\u001b[37m\u001b[0m \u001b[1m1s\u001b[0m 16ms/step - accuracy: 1.0000 - loss: 0.0098 - val_accuracy: 1.0000 - val_loss: 0.0043\n",
      "Epoch 9/10\n",
      "\u001b[1m50/50\u001b[0m \u001b[32m━━━━━━━━━━━━━━━━━━━━\u001b[0m\u001b[37m\u001b[0m \u001b[1m1s\u001b[0m 15ms/step - accuracy: 1.0000 - loss: 0.0071 - val_accuracy: 1.0000 - val_loss: 0.0033\n",
      "Epoch 10/10\n",
      "\u001b[1m50/50\u001b[0m \u001b[32m━━━━━━━━━━━━━━━━━━━━\u001b[0m\u001b[37m\u001b[0m \u001b[1m1s\u001b[0m 14ms/step - accuracy: 1.0000 - loss: 0.0054 - val_accuracy: 1.0000 - val_loss: 0.0028\n"
     ]
    },
    {
     "data": {
      "text/plain": [
       "<keras.src.callbacks.history.History at 0x28c92552520>"
      ]
     },
     "execution_count": 29,
     "metadata": {},
     "output_type": "execute_result"
    }
   ],
   "source": [
    "model=Sequential()\n",
    "model.add(Embedding(input_dim=len(tk.index_word)+1,output_dim=200))\n",
    "model.add(SimpleRNN(units=10,activation='tanh'))\n",
    "model.add(Dense(units=10,activation='relu'))\n",
    "model.add(Dense(units=1,activation='sigmoid'))\n",
    "model.compile(loss='binary_crossentropy',optimizer='adam',metrics=['accuracy'])\n",
    "model.fit(pad_seqs,y,batch_size=32,epochs=10,validation_split=.2)"
   ]
  },
  {
   "cell_type": "code",
   "execution_count": 30,
   "id": "f66ec288-4f5b-45af-b73e-c5a7e5eb73f9",
   "metadata": {},
   "outputs": [
    {
     "name": "stdout",
     "output_type": "stream",
     "text": [
      "\u001b[1m1/1\u001b[0m \u001b[32m━━━━━━━━━━━━━━━━━━━━\u001b[0m\u001b[37m\u001b[0m \u001b[1m0s\u001b[0m 183ms/step\n"
     ]
    },
    {
     "data": {
      "text/plain": [
       "array([[0.8316051 ],\n",
       "       [0.04384704]], dtype=float32)"
      ]
     },
     "execution_count": 30,
     "metadata": {},
     "output_type": "execute_result"
    }
   ],
   "source": [
    "new_sample1='food was good'\n",
    "new_sample2='we did not like the food'\n",
    "\n",
    "test_corpus=[new_sample1,new_sample2]\n",
    "test_corpus2=list(map(str.lower,test_corpus))\n",
    "test_corpus3=list(map(clean_punch,test_corpus2))\n",
    "\n",
    "seqs=tk.texts_to_sequences(test_corpus3)\n",
    "pad_seqs=pad_sequences(seqs,padding='pre',maxlen=70,truncating='post')\n",
    "model.predict(pad_seqs)"
   ]
  },
  {
   "cell_type": "code",
   "execution_count": 72,
   "id": "b5ed8d0c-d765-4580-8187-4904b0a23c1a",
   "metadata": {},
   "outputs": [
    {
     "data": {
      "text/html": [
       "<div>\n",
       "<style scoped>\n",
       "    .dataframe tbody tr th:only-of-type {\n",
       "        vertical-align: middle;\n",
       "    }\n",
       "\n",
       "    .dataframe tbody tr th {\n",
       "        vertical-align: top;\n",
       "    }\n",
       "\n",
       "    .dataframe thead th {\n",
       "        text-align: right;\n",
       "    }\n",
       "</style>\n",
       "<table border=\"1\" class=\"dataframe\">\n",
       "  <thead>\n",
       "    <tr style=\"text-align: right;\">\n",
       "      <th></th>\n",
       "      <th>text</th>\n",
       "      <th>label</th>\n",
       "    </tr>\n",
       "  </thead>\n",
       "  <tbody>\n",
       "    <tr>\n",
       "      <th>0</th>\n",
       "      <td>وہ بازار جا رہی ہے۔</td>\n",
       "      <td>URDU</td>\n",
       "    </tr>\n",
       "    <tr>\n",
       "      <th>1</th>\n",
       "      <td>यह एक सुंदर दिन है।</td>\n",
       "      <td>HINDI</td>\n",
       "    </tr>\n",
       "    <tr>\n",
       "      <th>2</th>\n",
       "      <td>She is going to the market.</td>\n",
       "      <td>ENGLISH</td>\n",
       "    </tr>\n",
       "    <tr>\n",
       "      <th>3</th>\n",
       "      <td>ਅੱਜ ਮੌਸਮ ਬਹੁਤ ਵਧੀਆ ਹੈ।</td>\n",
       "      <td>PUNJABI</td>\n",
       "    </tr>\n",
       "    <tr>\n",
       "      <th>4</th>\n",
       "      <td>मुझे किताबें पढ़ना पसंद है।</td>\n",
       "      <td>HINDI</td>\n",
       "    </tr>\n",
       "    <tr>\n",
       "      <th>...</th>\n",
       "      <td>...</td>\n",
       "      <td>...</td>\n",
       "    </tr>\n",
       "    <tr>\n",
       "      <th>4995</th>\n",
       "      <td>مجھے کتابیں پڑھنا پسند ہے۔</td>\n",
       "      <td>URDU</td>\n",
       "    </tr>\n",
       "    <tr>\n",
       "      <th>4996</th>\n",
       "      <td>ਇਹ ਇੱਕ ਸੋਹਣਾ ਦਿਨ ਹੈ।</td>\n",
       "      <td>PUNJABI</td>\n",
       "    </tr>\n",
       "    <tr>\n",
       "      <th>4997</th>\n",
       "      <td>भारतः महत्तमः देशः अस्ति।</td>\n",
       "      <td>SANSKRIT</td>\n",
       "    </tr>\n",
       "    <tr>\n",
       "      <th>4998</th>\n",
       "      <td>अद्य मौसमः अतीव उत्तमः अस्ति।</td>\n",
       "      <td>SANSKRIT</td>\n",
       "    </tr>\n",
       "    <tr>\n",
       "      <th>4999</th>\n",
       "      <td>ਪੰਜਾਬ ਇੱਕ ਸੁੰਦਰ ਰਾਜ ਹੈ।</td>\n",
       "      <td>PUNJABI</td>\n",
       "    </tr>\n",
       "  </tbody>\n",
       "</table>\n",
       "<p>5000 rows × 2 columns</p>\n",
       "</div>"
      ],
      "text/plain": [
       "                               text     label\n",
       "0               وہ بازار جا رہی ہے۔      URDU\n",
       "1               यह एक सुंदर दिन है।     HINDI\n",
       "2       She is going to the market.   ENGLISH\n",
       "3            ਅੱਜ ਮੌਸਮ ਬਹੁਤ ਵਧੀਆ ਹੈ।   PUNJABI\n",
       "4       मुझे किताबें पढ़ना पसंद है।     HINDI\n",
       "...                             ...       ...\n",
       "4995     مجھے کتابیں پڑھنا پسند ہے۔      URDU\n",
       "4996           ਇਹ ਇੱਕ ਸੋਹਣਾ ਦਿਨ ਹੈ।   PUNJABI\n",
       "4997      भारतः महत्तमः देशः अस्ति।  SANSKRIT\n",
       "4998  अद्य मौसमः अतीव उत्तमः अस्ति।  SANSKRIT\n",
       "4999        ਪੰਜਾਬ ਇੱਕ ਸੁੰਦਰ ਰਾਜ ਹੈ।   PUNJABI\n",
       "\n",
       "[5000 rows x 2 columns]"
      ]
     },
     "execution_count": 72,
     "metadata": {},
     "output_type": "execute_result"
    }
   ],
   "source": [
    "df=pd.read_csv('f:/ML_Dataset/language_detection_dataset.csv')\n",
    "df"
   ]
  },
  {
   "cell_type": "code",
   "execution_count": 73,
   "id": "81090d0f-346f-4b3d-ae6a-20f1a88e1df6",
   "metadata": {},
   "outputs": [
    {
     "data": {
      "text/plain": [
       "np.int64(4975)"
      ]
     },
     "execution_count": 73,
     "metadata": {},
     "output_type": "execute_result"
    }
   ],
   "source": [
    "df.label.value_counts()\n",
    "df.duplicated().sum()"
   ]
  },
  {
   "cell_type": "code",
   "execution_count": 74,
   "id": "9a7ac5db-971b-4a1c-b63b-45c8e3ddf6e0",
   "metadata": {},
   "outputs": [],
   "source": [
    "#df.drop_duplicates(inplace=True)"
   ]
  },
  {
   "cell_type": "code",
   "execution_count": 75,
   "id": "3e83644f-3ece-4cc6-91a2-328a75224c1c",
   "metadata": {},
   "outputs": [],
   "source": [
    "from sklearn.preprocessing import LabelEncoder"
   ]
  },
  {
   "cell_type": "code",
   "execution_count": 76,
   "id": "a43c1230-447e-4852-983f-e09c7ab2c5c8",
   "metadata": {},
   "outputs": [],
   "source": [
    "enc=LabelEncoder()\n",
    "df.label=enc.fit_transform(df.label)"
   ]
  },
  {
   "cell_type": "code",
   "execution_count": 77,
   "id": "b8531d6a-2e47-4eae-9713-fb6ba3da4394",
   "metadata": {},
   "outputs": [
    {
     "data": {
      "text/html": [
       "<div>\n",
       "<style scoped>\n",
       "    .dataframe tbody tr th:only-of-type {\n",
       "        vertical-align: middle;\n",
       "    }\n",
       "\n",
       "    .dataframe tbody tr th {\n",
       "        vertical-align: top;\n",
       "    }\n",
       "\n",
       "    .dataframe thead th {\n",
       "        text-align: right;\n",
       "    }\n",
       "</style>\n",
       "<table border=\"1\" class=\"dataframe\">\n",
       "  <thead>\n",
       "    <tr style=\"text-align: right;\">\n",
       "      <th></th>\n",
       "      <th>text</th>\n",
       "      <th>label</th>\n",
       "    </tr>\n",
       "  </thead>\n",
       "  <tbody>\n",
       "    <tr>\n",
       "      <th>0</th>\n",
       "      <td>وہ بازار جا رہی ہے۔</td>\n",
       "      <td>4</td>\n",
       "    </tr>\n",
       "    <tr>\n",
       "      <th>1</th>\n",
       "      <td>यह एक सुंदर दिन है।</td>\n",
       "      <td>1</td>\n",
       "    </tr>\n",
       "    <tr>\n",
       "      <th>2</th>\n",
       "      <td>She is going to the market.</td>\n",
       "      <td>0</td>\n",
       "    </tr>\n",
       "    <tr>\n",
       "      <th>3</th>\n",
       "      <td>ਅੱਜ ਮੌਸਮ ਬਹੁਤ ਵਧੀਆ ਹੈ।</td>\n",
       "      <td>2</td>\n",
       "    </tr>\n",
       "    <tr>\n",
       "      <th>4</th>\n",
       "      <td>मुझे किताबें पढ़ना पसंद है।</td>\n",
       "      <td>1</td>\n",
       "    </tr>\n",
       "    <tr>\n",
       "      <th>...</th>\n",
       "      <td>...</td>\n",
       "      <td>...</td>\n",
       "    </tr>\n",
       "    <tr>\n",
       "      <th>4995</th>\n",
       "      <td>مجھے کتابیں پڑھنا پسند ہے۔</td>\n",
       "      <td>4</td>\n",
       "    </tr>\n",
       "    <tr>\n",
       "      <th>4996</th>\n",
       "      <td>ਇਹ ਇੱਕ ਸੋਹਣਾ ਦਿਨ ਹੈ।</td>\n",
       "      <td>2</td>\n",
       "    </tr>\n",
       "    <tr>\n",
       "      <th>4997</th>\n",
       "      <td>भारतः महत्तमः देशः अस्ति।</td>\n",
       "      <td>3</td>\n",
       "    </tr>\n",
       "    <tr>\n",
       "      <th>4998</th>\n",
       "      <td>अद्य मौसमः अतीव उत्तमः अस्ति।</td>\n",
       "      <td>3</td>\n",
       "    </tr>\n",
       "    <tr>\n",
       "      <th>4999</th>\n",
       "      <td>ਪੰਜਾਬ ਇੱਕ ਸੁੰਦਰ ਰਾਜ ਹੈ।</td>\n",
       "      <td>2</td>\n",
       "    </tr>\n",
       "  </tbody>\n",
       "</table>\n",
       "<p>5000 rows × 2 columns</p>\n",
       "</div>"
      ],
      "text/plain": [
       "                               text  label\n",
       "0               وہ بازار جا رہی ہے۔      4\n",
       "1               यह एक सुंदर दिन है।      1\n",
       "2       She is going to the market.      0\n",
       "3            ਅੱਜ ਮੌਸਮ ਬਹੁਤ ਵਧੀਆ ਹੈ।      2\n",
       "4       मुझे किताबें पढ़ना पसंद है।      1\n",
       "...                             ...    ...\n",
       "4995     مجھے کتابیں پڑھنا پسند ہے۔      4\n",
       "4996           ਇਹ ਇੱਕ ਸੋਹਣਾ ਦਿਨ ਹੈ।      2\n",
       "4997      भारतः महत्तमः देशः अस्ति।      3\n",
       "4998  अद्य मौसमः अतीव उत्तमः अस्ति।      3\n",
       "4999        ਪੰਜਾਬ ਇੱਕ ਸੁੰਦਰ ਰਾਜ ਹੈ।      2\n",
       "\n",
       "[5000 rows x 2 columns]"
      ]
     },
     "execution_count": 77,
     "metadata": {},
     "output_type": "execute_result"
    }
   ],
   "source": [
    "df"
   ]
  },
  {
   "cell_type": "code",
   "execution_count": 78,
   "id": "33e561a7-d1a4-4116-8790-d949fc113a45",
   "metadata": {},
   "outputs": [
    {
     "data": {
      "text/plain": [
       "length\n",
       "20    813\n",
       "25    632\n",
       "22    601\n",
       "19    596\n",
       "27    557\n",
       "31    425\n",
       "21    414\n",
       "26    209\n",
       "23    201\n",
       "17    186\n",
       "29    185\n",
       "35    181\n",
       "Name: count, dtype: int64"
      ]
     },
     "execution_count": 78,
     "metadata": {},
     "output_type": "execute_result"
    }
   ],
   "source": [
    "df['length']=list(map(len,df.text))\n",
    "df.length.value_counts()"
   ]
  },
  {
   "cell_type": "code",
   "execution_count": 79,
   "id": "46d48c8e-3f92-49a8-95e3-6cfa5101feee",
   "metadata": {},
   "outputs": [],
   "source": [
    "corpus=df.text\n",
    "y=df.label"
   ]
  },
  {
   "cell_type": "code",
   "execution_count": 82,
   "id": "efeb4feb-f176-4fc6-b37e-118f42bb2bd7",
   "metadata": {},
   "outputs": [
    {
     "name": "stdout",
     "output_type": "stream",
     "text": [
      "98\n"
     ]
    }
   ],
   "source": [
    "tk=Tokenizer()\n",
    "tk.fit_on_texts(corpus)\n",
    "print(len(tk.index_word))\n",
    "seqs=tk.texts_to_sequences(corpus)\n",
    "pad_seqs=pad_sequences(seqs,padding='pre',maxlen=20,truncating='post')"
   ]
  },
  {
   "cell_type": "code",
   "execution_count": 83,
   "id": "e26a2e48-a74e-42cd-98fb-f92030a0fdf6",
   "metadata": {},
   "outputs": [],
   "source": [
    "import tensorflow as tf\n",
    "import numpy as np\n",
    "import random"
   ]
  },
  {
   "cell_type": "code",
   "execution_count": 85,
   "id": "f3b19600-a746-400b-acd9-46845f501086",
   "metadata": {},
   "outputs": [
    {
     "name": "stdout",
     "output_type": "stream",
     "text": [
      "Epoch 1/2\n",
      "\u001b[1m400/400\u001b[0m \u001b[32m━━━━━━━━━━━━━━━━━━━━\u001b[0m\u001b[37m\u001b[0m \u001b[1m3s\u001b[0m 4ms/step - accuracy: 0.9890 - loss: 0.6959 - val_accuracy: 1.0000 - val_loss: 0.4318\n",
      "Epoch 2/2\n",
      "\u001b[1m400/400\u001b[0m \u001b[32m━━━━━━━━━━━━━━━━━━━━\u001b[0m\u001b[37m\u001b[0m \u001b[1m2s\u001b[0m 4ms/step - accuracy: 1.0000 - loss: 0.3178 - val_accuracy: 1.0000 - val_loss: 0.2440\n"
     ]
    },
    {
     "data": {
      "text/plain": [
       "<keras.src.callbacks.history.History at 0x28cad3a69c0>"
      ]
     },
     "execution_count": 85,
     "metadata": {},
     "output_type": "execute_result"
    }
   ],
   "source": [
    "tf.random.set_seed(10)\n",
    "np.random.seed(10)\n",
    "random.seed(10)\n",
    "model=Sequential()\n",
    "model.add(Embedding(input_dim=len(tk.index_word)+1,output_dim=70))\n",
    "model.add(SimpleRNN(units=3,activation='tanh'))\n",
    "model.add(Dense(units=5,activation='softmax'))\n",
    "model.compile(loss='sparse_categorical_crossentropy',optimizer='adam',metrics=['accuracy'])\n",
    "model.fit(pad_seqs,y,batch_size=10,epochs=2,validation_split=.2)"
   ]
  },
  {
   "cell_type": "code",
   "execution_count": 97,
   "id": "ee3705db-763c-4372-844f-0171de632c8c",
   "metadata": {},
   "outputs": [
    {
     "name": "stdout",
     "output_type": "stream",
     "text": [
      "\u001b[1m1/1\u001b[0m \u001b[32m━━━━━━━━━━━━━━━━━━━━\u001b[0m\u001b[37m\u001b[0m \u001b[1m0s\u001b[0m 47ms/step\n"
     ]
    },
    {
     "data": {
      "text/plain": [
       "array([3, 0])"
      ]
     },
     "execution_count": 97,
     "metadata": {},
     "output_type": "execute_result"
    }
   ],
   "source": [
    "new_sample1='sky is the limit'\n",
    "new_sample2='खाना अच्छा था'\n",
    "\n",
    "test_corpus=[new_sample1,new_sample2]\n",
    "\n",
    "seqs=tk.texts_to_sequences(test_corpus)\n",
    "pad_seqs=pad_sequences(seqs,padding='pre',maxlen=20,truncating='post')\n",
    "np.argmax(model.predict(pad_seqs),axis=1)"
   ]
  },
  {
   "cell_type": "code",
   "execution_count": 98,
   "id": "f363e81c-220d-4fef-a234-e864e1453cc3",
   "metadata": {},
   "outputs": [
    {
     "data": {
      "text/plain": [
       "array(['SANSKRIT', 'SANSKRIT'], dtype=object)"
      ]
     },
     "execution_count": 98,
     "metadata": {},
     "output_type": "execute_result"
    }
   ],
   "source": [
    "enc.inverse_transform(res)"
   ]
  },
  {
   "cell_type": "code",
   "execution_count": null,
   "id": "ef6f8bd3-c0b2-4693-910b-5445acf8a8c3",
   "metadata": {},
   "outputs": [],
   "source": []
  }
 ],
 "metadata": {
  "kernelspec": {
   "display_name": "Python 3 (ipykernel)",
   "language": "python",
   "name": "python3"
  },
  "language_info": {
   "codemirror_mode": {
    "name": "ipython",
    "version": 3
   },
   "file_extension": ".py",
   "mimetype": "text/x-python",
   "name": "python",
   "nbconvert_exporter": "python",
   "pygments_lexer": "ipython3",
   "version": "3.13.5"
  }
 },
 "nbformat": 4,
 "nbformat_minor": 5
}
