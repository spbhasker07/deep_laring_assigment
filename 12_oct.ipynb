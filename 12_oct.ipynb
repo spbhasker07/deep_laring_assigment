{
 "cells": [
  {
   "cell_type": "code",
   "execution_count": null,
   "id": "8f909f3e-d58a-4aba-82d5-93084c3a64e5",
   "metadata": {},
   "outputs": [],
   "source": [
    "#RNN(Recurrent Neural Network)\n",
    ">best suitable for sequence data\n",
    "    text data:\n",
    "        >food was good\n",
    "        >i will let you know\n",
    "        >happy birthday\n",
    "        etc.\n",
    "    number sequence\n",
    "        >1,2,3,4,5,6,7,?\n",
    "        >10,20,30,40,?\n",
    "        etc.\n",
    "    timeseries data\n",
    "        >2020----->50k\n",
    "        >2021----->54k\n",
    "        >2022----->60\n",
    "        .\n",
    "        .\n",
    "        2025------>120000\n",
    "        2027------>?"
   ]
  },
  {
   "cell_type": "code",
   "execution_count": 31,
   "id": "00a108a2-49b9-450a-98c6-bc96e2d36aee",
   "metadata": {},
   "outputs": [
    {
     "name": "stdout",
     "output_type": "stream",
     "text": [
      "['fo@od was good', 'taste was not good', 'will not re$commend to others', 'service was very prompt', 'awesome food']\n",
      "['food was good', 'taste was not good', 'will not recommend to others', 'service was very prompt', 'awesome food']\n"
     ]
    }
   ],
   "source": [
    "#sample=document=str\n",
    "doc1='fo@od was Good'\n",
    "doc2='taste was not good'\n",
    "doc3='will not re$commend to others'\n",
    "doc4='service was very prompt'\n",
    "doc5='awesome Food'\n",
    "import numpy as np\n",
    "\n",
    "target=np.array([1,0,0,1,1])\n",
    "\n",
    "#corpus=list or 1d array of docs\n",
    "corpus=[doc1,doc2,doc3,doc4,doc5]\n",
    "corpus2=list(map(str.lower,corpus))\n",
    "print(corpus2)\n",
    "\n",
    "import re\n",
    "def clean_punch(doc):\n",
    "    doc=re.sub('[^a-z ]','',doc)\n",
    "    return doc\n",
    "\n",
    "corpus3=list(map(clean_punch,corpus2))\n",
    "print(corpus3)"
   ]
  },
  {
   "cell_type": "code",
   "execution_count": 2,
   "id": "ccf844d8-9478-4313-ae3f-eb041b62de3e",
   "metadata": {},
   "outputs": [
    {
     "data": {
      "text/plain": [
       "'!\"#$%&\\'()*+,-./:;<=>?@[\\\\]^_`{|}~'"
      ]
     },
     "execution_count": 2,
     "metadata": {},
     "output_type": "execute_result"
    }
   ],
   "source": [
    "import string\n",
    "string.punctuation"
   ]
  },
  {
   "cell_type": "code",
   "execution_count": 32,
   "id": "51a2051d-dec6-476f-9b74-c11e914097b8",
   "metadata": {},
   "outputs": [],
   "source": [
    "from tensorflow.keras.preprocessing.text import Tokenizer"
   ]
  },
  {
   "cell_type": "code",
   "execution_count": 33,
   "id": "ea2f0447-5c45-4912-a6dc-cf1f6e70d529",
   "metadata": {},
   "outputs": [],
   "source": [
    "tk=Tokenizer()\n",
    "tk.fit_on_texts(corpus3)"
   ]
  },
  {
   "cell_type": "code",
   "execution_count": 34,
   "id": "9faffdac-44ab-48b0-ad5e-55df20eef1c6",
   "metadata": {},
   "outputs": [
    {
     "data": {
      "text/plain": [
       "{1: 'was',\n",
       " 2: 'food',\n",
       " 3: 'good',\n",
       " 4: 'not',\n",
       " 5: 'taste',\n",
       " 6: 'will',\n",
       " 7: 'recommend',\n",
       " 8: 'to',\n",
       " 9: 'others',\n",
       " 10: 'service',\n",
       " 11: 'very',\n",
       " 12: 'prompt',\n",
       " 13: 'awesome'}"
      ]
     },
     "execution_count": 34,
     "metadata": {},
     "output_type": "execute_result"
    }
   ],
   "source": [
    "tk.index_word"
   ]
  },
  {
   "cell_type": "code",
   "execution_count": 35,
   "id": "b5a5a3dc-df12-466d-94cc-ee087901c76f",
   "metadata": {},
   "outputs": [
    {
     "name": "stdout",
     "output_type": "stream",
     "text": [
      "[[2, 1, 3], [5, 1, 4, 3], [6, 4, 7, 8, 9], [10, 1, 11, 12], [13, 2]]\n"
     ]
    }
   ],
   "source": [
    "seqs=tk.texts_to_sequences(corpus3)\n",
    "print(seqs)"
   ]
  },
  {
   "cell_type": "code",
   "execution_count": 36,
   "id": "7ad4bd18-6ddc-4d97-8edf-caf16c17319d",
   "metadata": {},
   "outputs": [],
   "source": [
    "from tensorflow.keras.preprocessing.sequence import pad_sequences"
   ]
  },
  {
   "cell_type": "code",
   "execution_count": 37,
   "id": "06c35188-d205-400e-ab42-8d00a64ac713",
   "metadata": {},
   "outputs": [
    {
     "data": {
      "text/plain": [
       "array([[ 2,  1,  3,  0,  0],\n",
       "       [ 5,  1,  4,  3,  0],\n",
       "       [ 6,  4,  7,  8,  9],\n",
       "       [10,  1, 11, 12,  0],\n",
       "       [13,  2,  0,  0,  0]], dtype=int32)"
      ]
     },
     "execution_count": 37,
     "metadata": {},
     "output_type": "execute_result"
    }
   ],
   "source": [
    "pad_sequences(seqs,padding='post')"
   ]
  },
  {
   "cell_type": "code",
   "execution_count": 38,
   "id": "0adee538-d629-4f17-b35c-ad8cab87cef4",
   "metadata": {},
   "outputs": [
    {
     "data": {
      "text/plain": [
       "array([[ 0,  0,  2,  1,  3],\n",
       "       [ 0,  5,  1,  4,  3],\n",
       "       [ 6,  4,  7,  8,  9],\n",
       "       [ 0, 10,  1, 11, 12],\n",
       "       [ 0,  0,  0, 13,  2]], dtype=int32)"
      ]
     },
     "execution_count": 38,
     "metadata": {},
     "output_type": "execute_result"
    }
   ],
   "source": [
    "pad_sequences(seqs,padding='pre')"
   ]
  },
  {
   "cell_type": "code",
   "execution_count": 39,
   "id": "3ccc616b-5b32-4047-84b1-361cf4d574a4",
   "metadata": {},
   "outputs": [
    {
     "data": {
      "text/plain": [
       "array([[ 0,  0,  2,  1,  3],\n",
       "       [ 0,  5,  1,  4,  3],\n",
       "       [ 6,  4,  7,  8,  9],\n",
       "       [ 0, 10,  1, 11, 12],\n",
       "       [ 0,  0,  0, 13,  2]], dtype=int32)"
      ]
     },
     "execution_count": 39,
     "metadata": {},
     "output_type": "execute_result"
    }
   ],
   "source": [
    "pad_sequences(seqs)"
   ]
  },
  {
   "cell_type": "code",
   "execution_count": 40,
   "id": "8838d372-1903-4daa-b975-9bd6a1793756",
   "metadata": {},
   "outputs": [
    {
     "data": {
      "text/plain": [
       "array([[ 0,  2,  1,  3],\n",
       "       [ 5,  1,  4,  3],\n",
       "       [ 6,  4,  7,  8],\n",
       "       [10,  1, 11, 12],\n",
       "       [ 0,  0, 13,  2]], dtype=int32)"
      ]
     },
     "execution_count": 40,
     "metadata": {},
     "output_type": "execute_result"
    }
   ],
   "source": [
    "pad_sequences(seqs,padding='pre',maxlen=4,truncating='post')"
   ]
  },
  {
   "cell_type": "code",
   "execution_count": 41,
   "id": "a1926330-bb7c-4f04-8d9f-1f84880dc153",
   "metadata": {},
   "outputs": [],
   "source": [
    "pad_seqs=pad_sequences(seqs,padding='pre',maxlen=4,truncating='post')"
   ]
  },
  {
   "cell_type": "code",
   "execution_count": 42,
   "id": "f4b8790c-9f50-46c7-b7cd-7f653b2b0b11",
   "metadata": {},
   "outputs": [],
   "source": [
    "from tensorflow.keras.utils import to_categorical"
   ]
  },
  {
   "cell_type": "code",
   "execution_count": 43,
   "id": "a8b1fc51-b7d4-4341-85b6-33a580b26ee7",
   "metadata": {},
   "outputs": [
    {
     "data": {
      "text/plain": [
       "(5, 4, 14)"
      ]
     },
     "execution_count": 43,
     "metadata": {},
     "output_type": "execute_result"
    }
   ],
   "source": [
    "X=to_categorical(pad_seqs)\n",
    "X.shape"
   ]
  },
  {
   "cell_type": "code",
   "execution_count": 44,
   "id": "81bf0538-3511-40d0-aec0-66485f051927",
   "metadata": {},
   "outputs": [
    {
     "data": {
      "text/plain": [
       "array([1, 0, 0, 1, 1])"
      ]
     },
     "execution_count": 44,
     "metadata": {},
     "output_type": "execute_result"
    }
   ],
   "source": [
    "target"
   ]
  },
  {
   "cell_type": "code",
   "execution_count": 45,
   "id": "7f4b1b46-fd0a-4af2-8e26-78a25c9ca774",
   "metadata": {},
   "outputs": [],
   "source": [
    "from tensorflow.keras.layers import SimpleRNN,Dense\n",
    "from tensorflow.keras.models import Sequential"
   ]
  },
  {
   "cell_type": "code",
   "execution_count": 46,
   "id": "d70163a7-ff5f-4ca2-9656-69f3e91fc731",
   "metadata": {},
   "outputs": [
    {
     "name": "stdout",
     "output_type": "stream",
     "text": [
      "Epoch 1/5\n",
      "\u001b[1m3/3\u001b[0m \u001b[32m━━━━━━━━━━━━━━━━━━━━\u001b[0m\u001b[37m\u001b[0m \u001b[1m2s\u001b[0m 31ms/step - accuracy: 0.6000 - loss: 0.6608\n",
      "Epoch 2/5\n",
      "\u001b[1m3/3\u001b[0m \u001b[32m━━━━━━━━━━━━━━━━━━━━\u001b[0m\u001b[37m\u001b[0m \u001b[1m0s\u001b[0m 27ms/step - accuracy: 0.6000 - loss: 0.6461 \n",
      "Epoch 3/5\n",
      "\u001b[1m3/3\u001b[0m \u001b[32m━━━━━━━━━━━━━━━━━━━━\u001b[0m\u001b[37m\u001b[0m \u001b[1m0s\u001b[0m 16ms/step - accuracy: 0.6000 - loss: 0.6319\n",
      "Epoch 4/5\n",
      "\u001b[1m3/3\u001b[0m \u001b[32m━━━━━━━━━━━━━━━━━━━━\u001b[0m\u001b[37m\u001b[0m \u001b[1m0s\u001b[0m 17ms/step - accuracy: 0.6000 - loss: 0.6195\n",
      "Epoch 5/5\n",
      "\u001b[1m3/3\u001b[0m \u001b[32m━━━━━━━━━━━━━━━━━━━━\u001b[0m\u001b[37m\u001b[0m \u001b[1m0s\u001b[0m 19ms/step - accuracy: 0.6000 - loss: 0.6068\n"
     ]
    },
    {
     "data": {
      "text/plain": [
       "<keras.src.callbacks.history.History at 0x1d524e95940>"
      ]
     },
     "execution_count": 46,
     "metadata": {},
     "output_type": "execute_result"
    }
   ],
   "source": [
    "model=Sequential()\n",
    "model.add(SimpleRNN(units=10,activation='tanh'))\n",
    "model.add(Dense(units=5,activation='relu'))\n",
    "model.add(Dense(units=1,activation='sigmoid'))\n",
    "model.compile(loss='binary_crossentropy',optimizer='adam',metrics=['accuracy'])\n",
    "model.fit(X,target,batch_size=2,epochs=5)"
   ]
  },
  {
   "cell_type": "code",
   "execution_count": 47,
   "id": "30eef107-2d9e-4926-a542-b2db1e25d182",
   "metadata": {},
   "outputs": [],
   "source": [
    "import pandas as pd\n",
    "import numpy as np\n",
    "import re\n",
    "from tensorflow.keras.preprocessing.text import Tokenizer\n",
    "from tensorflow.keras.utils import to_categorical\n",
    "from tensorflow.keras.layers import SimpleRNN,Dense\n",
    "from tensorflow.keras.models import Sequential"
   ]
  },
  {
   "cell_type": "code",
   "execution_count": 72,
   "id": "dcef0cea-834d-4933-988e-7b6ad3faa8aa",
   "metadata": {},
   "outputs": [
    {
     "data": {
      "text/html": [
       "<div>\n",
       "<style scoped>\n",
       "    .dataframe tbody tr th:only-of-type {\n",
       "        vertical-align: middle;\n",
       "    }\n",
       "\n",
       "    .dataframe tbody tr th {\n",
       "        vertical-align: top;\n",
       "    }\n",
       "\n",
       "    .dataframe thead th {\n",
       "        text-align: right;\n",
       "    }\n",
       "</style>\n",
       "<table border=\"1\" class=\"dataframe\">\n",
       "  <thead>\n",
       "    <tr style=\"text-align: right;\">\n",
       "      <th></th>\n",
       "      <th>Review</th>\n",
       "      <th>Liked</th>\n",
       "    </tr>\n",
       "  </thead>\n",
       "  <tbody>\n",
       "    <tr>\n",
       "      <th>0</th>\n",
       "      <td>Wow... Loved this place.</td>\n",
       "      <td>1</td>\n",
       "    </tr>\n",
       "    <tr>\n",
       "      <th>1</th>\n",
       "      <td>Crust is not good.</td>\n",
       "      <td>0</td>\n",
       "    </tr>\n",
       "    <tr>\n",
       "      <th>2</th>\n",
       "      <td>Not tasty and the texture was just nasty.</td>\n",
       "      <td>0</td>\n",
       "    </tr>\n",
       "    <tr>\n",
       "      <th>3</th>\n",
       "      <td>Stopped by during the late May bank holiday of...</td>\n",
       "      <td>1</td>\n",
       "    </tr>\n",
       "    <tr>\n",
       "      <th>4</th>\n",
       "      <td>The selection on the menu was great and so wer...</td>\n",
       "      <td>1</td>\n",
       "    </tr>\n",
       "    <tr>\n",
       "      <th>...</th>\n",
       "      <td>...</td>\n",
       "      <td>...</td>\n",
       "    </tr>\n",
       "    <tr>\n",
       "      <th>1995</th>\n",
       "      <td>Everything was on point — from salads to ice c...</td>\n",
       "      <td>1</td>\n",
       "    </tr>\n",
       "    <tr>\n",
       "      <th>1996</th>\n",
       "      <td>Highly recommend trying the burger. Simply dis...</td>\n",
       "      <td>1</td>\n",
       "    </tr>\n",
       "    <tr>\n",
       "      <th>1997</th>\n",
       "      <td>Poor service and friendly hygiene standards.</td>\n",
       "      <td>0</td>\n",
       "    </tr>\n",
       "    <tr>\n",
       "      <th>1998</th>\n",
       "      <td>This is my go-to place for soup. Never disappo...</td>\n",
       "      <td>1</td>\n",
       "    </tr>\n",
       "    <tr>\n",
       "      <th>1999</th>\n",
       "      <td>Would definitely come again. Loved the present...</td>\n",
       "      <td>1</td>\n",
       "    </tr>\n",
       "  </tbody>\n",
       "</table>\n",
       "<p>2000 rows × 2 columns</p>\n",
       "</div>"
      ],
      "text/plain": [
       "                                                 Review  Liked\n",
       "0                              Wow... Loved this place.      1\n",
       "1                                    Crust is not good.      0\n",
       "2             Not tasty and the texture was just nasty.      0\n",
       "3     Stopped by during the late May bank holiday of...      1\n",
       "4     The selection on the menu was great and so wer...      1\n",
       "...                                                 ...    ...\n",
       "1995  Everything was on point — from salads to ice c...      1\n",
       "1996  Highly recommend trying the burger. Simply dis...      1\n",
       "1997       Poor service and friendly hygiene standards.      0\n",
       "1998  This is my go-to place for soup. Never disappo...      1\n",
       "1999  Would definitely come again. Loved the present...      1\n",
       "\n",
       "[2000 rows x 2 columns]"
      ]
     },
     "execution_count": 72,
     "metadata": {},
     "output_type": "execute_result"
    }
   ],
   "source": [
    "df=pd.read_csv('f:/ML_Dataset/food_review_dataset.csv')\n",
    "df"
   ]
  },
  {
   "cell_type": "code",
   "execution_count": 73,
   "id": "3f821422-20e8-4296-935a-44367bfdefbc",
   "metadata": {},
   "outputs": [
    {
     "data": {
      "text/plain": [
       "length\n",
       "55     108\n",
       "53     107\n",
       "51      61\n",
       "60      56\n",
       "54      55\n",
       "      ... \n",
       "129      1\n",
       "108      1\n",
       "145      1\n",
       "136      1\n",
       "149      1\n",
       "Name: count, Length: 134, dtype: int64"
      ]
     },
     "execution_count": 73,
     "metadata": {},
     "output_type": "execute_result"
    }
   ],
   "source": [
    "df['length']=list(map(len,df.Review))\n",
    "df.length.value_counts()"
   ]
  },
  {
   "cell_type": "code",
   "execution_count": 74,
   "id": "62b14f24-99ca-407f-ba5c-54d3d33541a2",
   "metadata": {},
   "outputs": [],
   "source": [
    "corpus=df.Review\n",
    "y=df.Liked\n"
   ]
  },
  {
   "cell_type": "code",
   "execution_count": 75,
   "id": "fe1e3cef-08ae-4d8e-9144-6cc3960fa403",
   "metadata": {},
   "outputs": [],
   "source": [
    "corpus2=list(map(str.lower,corpus))"
   ]
  },
  {
   "cell_type": "code",
   "execution_count": 89,
   "id": "e0c6e396-8673-4eb3-af05-6b5ffa23ff19",
   "metadata": {},
   "outputs": [
    {
     "name": "stdout",
     "output_type": "stream",
     "text": [
      "2064\n"
     ]
    },
    {
     "data": {
      "text/plain": [
       "(2000, 70, 2065)"
      ]
     },
     "execution_count": 89,
     "metadata": {},
     "output_type": "execute_result"
    }
   ],
   "source": [
    "def clean_punch(doc):\n",
    "    doc=re.sub('[^a-z ]','',doc)\n",
    "    return doc\n",
    "\n",
    "corpus3=list(map(clean_punch,corpus2))\n",
    "tk=Tokenizer()\n",
    "tk.fit_on_texts(corpus3)\n",
    "print(len(tk.index_word))\n",
    "seqs=tk.texts_to_sequences(corpus3)\n",
    "pad_seqs=pad_sequences(seqs,padding='pre',maxlen=70,truncating='post')\n",
    "X=to_categorical(pad_seqs)\n",
    "X.shape"
   ]
  },
  {
   "cell_type": "code",
   "execution_count": 90,
   "id": "f597527e-ab40-4436-ac02-9413f4e2f29b",
   "metadata": {},
   "outputs": [
    {
     "name": "stdout",
     "output_type": "stream",
     "text": [
      "Epoch 1/10\n",
      "\u001b[1m50/50\u001b[0m \u001b[32m━━━━━━━━━━━━━━━━━━━━\u001b[0m\u001b[37m\u001b[0m \u001b[1m4s\u001b[0m 35ms/step - accuracy: 0.6394 - loss: 0.6726 - val_accuracy: 0.9900 - val_loss: 0.5395\n",
      "Epoch 2/10\n",
      "\u001b[1m50/50\u001b[0m \u001b[32m━━━━━━━━━━━━━━━━━━━━\u001b[0m\u001b[37m\u001b[0m \u001b[1m1s\u001b[0m 27ms/step - accuracy: 0.8125 - loss: 0.5329 - val_accuracy: 1.0000 - val_loss: 0.2014\n",
      "Epoch 3/10\n",
      "\u001b[1m50/50\u001b[0m \u001b[32m━━━━━━━━━━━━━━━━━━━━\u001b[0m\u001b[37m\u001b[0m \u001b[1m1s\u001b[0m 29ms/step - accuracy: 0.9150 - loss: 0.2887 - val_accuracy: 1.0000 - val_loss: 0.0360\n",
      "Epoch 4/10\n",
      "\u001b[1m50/50\u001b[0m \u001b[32m━━━━━━━━━━━━━━━━━━━━\u001b[0m\u001b[37m\u001b[0m \u001b[1m1s\u001b[0m 27ms/step - accuracy: 0.9700 - loss: 0.1207 - val_accuracy: 1.0000 - val_loss: 0.0105\n",
      "Epoch 5/10\n",
      "\u001b[1m50/50\u001b[0m \u001b[32m━━━━━━━━━━━━━━━━━━━━\u001b[0m\u001b[37m\u001b[0m \u001b[1m2s\u001b[0m 30ms/step - accuracy: 0.9919 - loss: 0.0559 - val_accuracy: 1.0000 - val_loss: 0.0042\n",
      "Epoch 6/10\n",
      "\u001b[1m50/50\u001b[0m \u001b[32m━━━━━━━━━━━━━━━━━━━━\u001b[0m\u001b[37m\u001b[0m \u001b[1m1s\u001b[0m 27ms/step - accuracy: 0.9969 - loss: 0.0304 - val_accuracy: 1.0000 - val_loss: 0.0017\n",
      "Epoch 7/10\n",
      "\u001b[1m50/50\u001b[0m \u001b[32m━━━━━━━━━━━━━━━━━━━━\u001b[0m\u001b[37m\u001b[0m \u001b[1m1s\u001b[0m 26ms/step - accuracy: 0.9994 - loss: 0.0182 - val_accuracy: 1.0000 - val_loss: 0.0012\n",
      "Epoch 8/10\n",
      "\u001b[1m50/50\u001b[0m \u001b[32m━━━━━━━━━━━━━━━━━━━━\u001b[0m\u001b[37m\u001b[0m \u001b[1m1s\u001b[0m 29ms/step - accuracy: 0.9994 - loss: 0.0120 - val_accuracy: 1.0000 - val_loss: 6.8684e-04\n",
      "Epoch 9/10\n",
      "\u001b[1m50/50\u001b[0m \u001b[32m━━━━━━━━━━━━━━━━━━━━\u001b[0m\u001b[37m\u001b[0m \u001b[1m2s\u001b[0m 31ms/step - accuracy: 1.0000 - loss: 0.0073 - val_accuracy: 1.0000 - val_loss: 4.4174e-04\n",
      "Epoch 10/10\n",
      "\u001b[1m50/50\u001b[0m \u001b[32m━━━━━━━━━━━━━━━━━━━━\u001b[0m\u001b[37m\u001b[0m \u001b[1m1s\u001b[0m 27ms/step - accuracy: 1.0000 - loss: 0.0049 - val_accuracy: 1.0000 - val_loss: 2.9626e-04\n"
     ]
    },
    {
     "data": {
      "text/plain": [
       "<keras.src.callbacks.history.History at 0x1d523f5de00>"
      ]
     },
     "execution_count": 90,
     "metadata": {},
     "output_type": "execute_result"
    }
   ],
   "source": [
    "model=Sequential()\n",
    "model.add(SimpleRNN(units=20,activation='tanh'))\n",
    "model.add(Dense(units=20,activation='relu'))\n",
    "model.add(Dense(units=10,activation='relu'))\n",
    "model.add(Dense(units=1,activation='sigmoid'))\n",
    "model.compile(loss='binary_crossentropy',optimizer='adam',metrics=['accuracy'])\n",
    "model.fit(X,y,batch_size=32,epochs=10,validation_split=.2)"
   ]
  },
  {
   "cell_type": "code",
   "execution_count": 94,
   "id": "f66ec288-4f5b-45af-b73e-c5a7e5eb73f9",
   "metadata": {},
   "outputs": [
    {
     "data": {
      "text/plain": [
       "(2, 70, 2065)"
      ]
     },
     "execution_count": 94,
     "metadata": {},
     "output_type": "execute_result"
    }
   ],
   "source": [
    "new_sample1='food was good'\n",
    "new_sample2='we did not like the food'\n",
    "\n",
    "test_corpus=[new_sample1,new_sample2]\n",
    "test_corpus2=list(map(str.lower,test_corpus))\n",
    "test_corpus3=list(map(clean_punch,test_corpus2))\n",
    "\n",
    "seqs=tk.texts_to_sequences(test_corpus3)\n",
    "pad_seqs=pad_sequences(seqs,padding='pre',maxlen=70,truncating='post')\n",
    "X_test=to_categorical(pad_seqs,num_classes=X.shape[2])\n",
    "X_test.shape"
   ]
  },
  {
   "cell_type": "code",
   "execution_count": 95,
   "id": "5afcd45e-ae29-4d3a-bf36-d26579cb1556",
   "metadata": {},
   "outputs": [
    {
     "data": {
      "text/plain": [
       "[[11, 3, 37], [46, 155, 12, 115, 1, 11]]"
      ]
     },
     "execution_count": 95,
     "metadata": {},
     "output_type": "execute_result"
    }
   ],
   "source": [
    "seqs"
   ]
  },
  {
   "cell_type": "code",
   "execution_count": 96,
   "id": "20a236a8-a74c-426e-953d-ad1a31f61294",
   "metadata": {},
   "outputs": [
    {
     "name": "stdout",
     "output_type": "stream",
     "text": [
      "\u001b[1m1/1\u001b[0m \u001b[32m━━━━━━━━━━━━━━━━━━━━\u001b[0m\u001b[37m\u001b[0m \u001b[1m0s\u001b[0m 50ms/step\n"
     ]
    },
    {
     "data": {
      "text/plain": [
       "array([[0.5165712 ],\n",
       "       [0.03325795]], dtype=float32)"
      ]
     },
     "execution_count": 96,
     "metadata": {},
     "output_type": "execute_result"
    }
   ],
   "source": [
    "model.predict(X_test)"
   ]
  },
  {
   "cell_type": "code",
   "execution_count": null,
   "id": "b5ed8d0c-d765-4580-8187-4904b0a23c1a",
   "metadata": {},
   "outputs": [],
   "source": []
  }
 ],
 "metadata": {
  "kernelspec": {
   "display_name": "Python 3 (ipykernel)",
   "language": "python",
   "name": "python3"
  },
  "language_info": {
   "codemirror_mode": {
    "name": "ipython",
    "version": 3
   },
   "file_extension": ".py",
   "mimetype": "text/x-python",
   "name": "python",
   "nbconvert_exporter": "python",
   "pygments_lexer": "ipython3",
   "version": "3.13.5"
  }
 },
 "nbformat": 4,
 "nbformat_minor": 5
}
