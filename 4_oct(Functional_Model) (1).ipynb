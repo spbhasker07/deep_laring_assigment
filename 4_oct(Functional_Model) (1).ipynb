{
 "cells": [
  {
   "cell_type": "code",
   "execution_count": 1,
   "id": "d0e01e47-460c-47e1-a2fc-f3a312ee8fe6",
   "metadata": {},
   "outputs": [],
   "source": [
    "from sklearn.datasets import load_iris"
   ]
  },
  {
   "cell_type": "code",
   "execution_count": 5,
   "id": "5b967e64-1493-48d2-be8a-3c454ffc6722",
   "metadata": {},
   "outputs": [
    {
     "data": {
      "text/plain": [
       "(150, 4)"
      ]
     },
     "execution_count": 5,
     "metadata": {},
     "output_type": "execute_result"
    }
   ],
   "source": [
    "iris=load_iris()\n",
    "X=iris.data\n",
    "y=iris.target\n",
    "X.shape"
   ]
  },
  {
   "cell_type": "code",
   "execution_count": 84,
   "id": "a26cf189-c360-45c1-9d94-2db296c43efa",
   "metadata": {},
   "outputs": [],
   "source": [
    "from tensorflow.keras.layers import Dense,Input,Conv2D,MaxPooling2D,Flatten,Concatenate\n",
    "from tensorflow.keras.models import Model\n",
    "import numpy as np\n",
    "import random\n",
    "import tensorflow as tf"
   ]
  },
  {
   "cell_type": "code",
   "execution_count": 11,
   "id": "d5eb95d5-f90f-403d-b7ab-3be993c0a2f6",
   "metadata": {},
   "outputs": [
    {
     "name": "stdout",
     "output_type": "stream",
     "text": [
      "Epoch 1/10\n",
      "\u001b[1m5/5\u001b[0m \u001b[32m━━━━━━━━━━━━━━━━━━━━\u001b[0m\u001b[37m\u001b[0m \u001b[1m1s\u001b[0m 7ms/step - accuracy: 0.3800 - loss: 1.0681  \n",
      "Epoch 2/10\n",
      "\u001b[1m5/5\u001b[0m \u001b[32m━━━━━━━━━━━━━━━━━━━━\u001b[0m\u001b[37m\u001b[0m \u001b[1m0s\u001b[0m 8ms/step - accuracy: 0.5733 - loss: 0.8940 \n",
      "Epoch 3/10\n",
      "\u001b[1m5/5\u001b[0m \u001b[32m━━━━━━━━━━━━━━━━━━━━\u001b[0m\u001b[37m\u001b[0m \u001b[1m0s\u001b[0m 12ms/step - accuracy: 0.6667 - loss: 0.8109\n",
      "Epoch 4/10\n",
      "\u001b[1m5/5\u001b[0m \u001b[32m━━━━━━━━━━━━━━━━━━━━\u001b[0m\u001b[37m\u001b[0m \u001b[1m0s\u001b[0m 9ms/step - accuracy: 0.6667 - loss: 0.7327 \n",
      "Epoch 5/10\n",
      "\u001b[1m5/5\u001b[0m \u001b[32m━━━━━━━━━━━━━━━━━━━━\u001b[0m\u001b[37m\u001b[0m \u001b[1m0s\u001b[0m 8ms/step - accuracy: 0.6800 - loss: 0.6559 \n",
      "Epoch 6/10\n",
      "\u001b[1m5/5\u001b[0m \u001b[32m━━━━━━━━━━━━━━━━━━━━\u001b[0m\u001b[37m\u001b[0m \u001b[1m0s\u001b[0m 7ms/step - accuracy: 0.8133 - loss: 0.5941 \n",
      "Epoch 7/10\n",
      "\u001b[1m5/5\u001b[0m \u001b[32m━━━━━━━━━━━━━━━━━━━━\u001b[0m\u001b[37m\u001b[0m \u001b[1m0s\u001b[0m 9ms/step - accuracy: 0.8933 - loss: 0.5456 \n",
      "Epoch 8/10\n",
      "\u001b[1m5/5\u001b[0m \u001b[32m━━━━━━━━━━━━━━━━━━━━\u001b[0m\u001b[37m\u001b[0m \u001b[1m0s\u001b[0m 8ms/step - accuracy: 0.8867 - loss: 0.5051 \n",
      "Epoch 9/10\n",
      "\u001b[1m5/5\u001b[0m \u001b[32m━━━━━━━━━━━━━━━━━━━━\u001b[0m\u001b[37m\u001b[0m \u001b[1m0s\u001b[0m 9ms/step - accuracy: 0.8800 - loss: 0.4707 \n",
      "Epoch 10/10\n",
      "\u001b[1m5/5\u001b[0m \u001b[32m━━━━━━━━━━━━━━━━━━━━\u001b[0m\u001b[37m\u001b[0m \u001b[1m0s\u001b[0m 8ms/step - accuracy: 0.9267 - loss: 0.4399 \n"
     ]
    },
    {
     "data": {
      "text/plain": [
       "<keras.src.callbacks.history.History at 0x28e3e897230>"
      ]
     },
     "execution_count": 11,
     "metadata": {},
     "output_type": "execute_result"
    }
   ],
   "source": [
    "random.seed(42)\n",
    "np.random.seed(42)\n",
    "tf.random.set_seed(42)\n",
    "in_layer=Input(shape=(4,))\n",
    "h1=Dense(units=128,activation='relu')(in_layer)\n",
    "h2=Dense(units=56,activation='relu')(h1)\n",
    "out_layer=Dense(units=3,activation='softmax')(h2)\n",
    "\n",
    "model=Model(inputs=in_layer,outputs=out_layer)\n",
    "model.compile(loss='sparse_categorical_crossentropy',optimizer='adam',metrics=['accuracy'])\n",
    "model.fit(X,y,epochs=10)"
   ]
  },
  {
   "cell_type": "code",
   "execution_count": 13,
   "id": "5ba2c93d-a90a-4b62-ba9d-b41be535ba94",
   "metadata": {},
   "outputs": [],
   "source": [
    "from tensorflow.keras.datasets import mnist "
   ]
  },
  {
   "cell_type": "code",
   "execution_count": 14,
   "id": "14bf448a-0454-49c2-aac1-0ea76412f134",
   "metadata": {},
   "outputs": [],
   "source": [
    "(X_train,y_train),(X_test,y_test)=mnist.load_data()"
   ]
  },
  {
   "cell_type": "code",
   "execution_count": 15,
   "id": "6dc19b67-5ec0-4295-bbab-214af4856c3d",
   "metadata": {},
   "outputs": [
    {
     "data": {
      "text/plain": [
       "(60000, 28, 28)"
      ]
     },
     "execution_count": 15,
     "metadata": {},
     "output_type": "execute_result"
    }
   ],
   "source": [
    "X_train.shape"
   ]
  },
  {
   "cell_type": "code",
   "execution_count": 16,
   "id": "ca3ae181-93d5-41c6-9dba-156f9b09965b",
   "metadata": {},
   "outputs": [
    {
     "data": {
      "text/plain": [
       "(60000,)"
      ]
     },
     "execution_count": 16,
     "metadata": {},
     "output_type": "execute_result"
    }
   ],
   "source": [
    "y_train.shape"
   ]
  },
  {
   "cell_type": "code",
   "execution_count": 18,
   "id": "5e553abf-2610-474b-9367-1f81fbd2ca48",
   "metadata": {},
   "outputs": [],
   "source": [
    "X_train=X_train/255\n",
    "X_test=X_test/255\n"
   ]
  },
  {
   "cell_type": "code",
   "execution_count": 19,
   "id": "e846e5b4-4e06-4528-b635-86f52ea8a375",
   "metadata": {},
   "outputs": [
    {
     "name": "stdout",
     "output_type": "stream",
     "text": [
      "Epoch 1/10\n",
      "\u001b[1m1500/1500\u001b[0m \u001b[32m━━━━━━━━━━━━━━━━━━━━\u001b[0m\u001b[37m\u001b[0m \u001b[1m13s\u001b[0m 8ms/step - accuracy: 0.7872 - loss: 0.6650 - val_accuracy: 0.8888 - val_loss: 0.3516\n",
      "Epoch 2/10\n",
      "\u001b[1m1500/1500\u001b[0m \u001b[32m━━━━━━━━━━━━━━━━━━━━\u001b[0m\u001b[37m\u001b[0m \u001b[1m13s\u001b[0m 8ms/step - accuracy: 0.9079 - loss: 0.3075 - val_accuracy: 0.9234 - val_loss: 0.2486\n",
      "Epoch 3/10\n",
      "\u001b[1m1500/1500\u001b[0m \u001b[32m━━━━━━━━━━━━━━━━━━━━\u001b[0m\u001b[37m\u001b[0m \u001b[1m12s\u001b[0m 8ms/step - accuracy: 0.9346 - loss: 0.2172 - val_accuracy: 0.9438 - val_loss: 0.1855\n",
      "Epoch 4/10\n",
      "\u001b[1m1500/1500\u001b[0m \u001b[32m━━━━━━━━━━━━━━━━━━━━\u001b[0m\u001b[37m\u001b[0m \u001b[1m12s\u001b[0m 8ms/step - accuracy: 0.9504 - loss: 0.1614 - val_accuracy: 0.9581 - val_loss: 0.1441\n",
      "Epoch 5/10\n",
      "\u001b[1m1500/1500\u001b[0m \u001b[32m━━━━━━━━━━━━━━━━━━━━\u001b[0m\u001b[37m\u001b[0m \u001b[1m13s\u001b[0m 8ms/step - accuracy: 0.9615 - loss: 0.1281 - val_accuracy: 0.9643 - val_loss: 0.1258\n",
      "Epoch 6/10\n",
      "\u001b[1m1500/1500\u001b[0m \u001b[32m━━━━━━━━━━━━━━━━━━━━\u001b[0m\u001b[37m\u001b[0m \u001b[1m12s\u001b[0m 8ms/step - accuracy: 0.9693 - loss: 0.1047 - val_accuracy: 0.9664 - val_loss: 0.1169\n",
      "Epoch 7/10\n",
      "\u001b[1m1500/1500\u001b[0m \u001b[32m━━━━━━━━━━━━━━━━━━━━\u001b[0m\u001b[37m\u001b[0m \u001b[1m14s\u001b[0m 9ms/step - accuracy: 0.9735 - loss: 0.0878 - val_accuracy: 0.9695 - val_loss: 0.1082\n",
      "Epoch 8/10\n",
      "\u001b[1m1500/1500\u001b[0m \u001b[32m━━━━━━━━━━━━━━━━━━━━\u001b[0m\u001b[37m\u001b[0m \u001b[1m14s\u001b[0m 9ms/step - accuracy: 0.9788 - loss: 0.0734 - val_accuracy: 0.9707 - val_loss: 0.1034\n",
      "Epoch 9/10\n",
      "\u001b[1m1500/1500\u001b[0m \u001b[32m━━━━━━━━━━━━━━━━━━━━\u001b[0m\u001b[37m\u001b[0m \u001b[1m13s\u001b[0m 9ms/step - accuracy: 0.9823 - loss: 0.0619 - val_accuracy: 0.9704 - val_loss: 0.1049\n",
      "Epoch 10/10\n",
      "\u001b[1m1500/1500\u001b[0m \u001b[32m━━━━━━━━━━━━━━━━━━━━\u001b[0m\u001b[37m\u001b[0m \u001b[1m14s\u001b[0m 9ms/step - accuracy: 0.9846 - loss: 0.0543 - val_accuracy: 0.9707 - val_loss: 0.1060\n"
     ]
    },
    {
     "data": {
      "text/plain": [
       "<keras.src.callbacks.history.History at 0x28e4616a690>"
      ]
     },
     "execution_count": 19,
     "metadata": {},
     "output_type": "execute_result"
    }
   ],
   "source": [
    "in_layer=Input(shape=(28,28))\n",
    "flatten_layer=Flatten()(in_layer)\n",
    "h1=Dense(512,activation='relu')(flatten_layer)\n",
    "h2=Dense(256,activation='relu')(h1)\n",
    "h3=Dense(128,activation='relu')(h2)\n",
    "out_layer=Dense(10,activation='softmax')(h3)\n",
    "model=Model(inputs=in_layer,outputs=out_layer)\n",
    "model.compile(loss='sparse_categorical_crossentropy',optimizer='adam',metrics=['accuracy'])\n",
    "model.fit(X_train,y_train,epochs=10,batch_size=32,validation_split=.2)"
   ]
  },
  {
   "cell_type": "code",
   "execution_count": 20,
   "id": "a3fa99d1-27ad-44ba-a683-089d5c55e769",
   "metadata": {},
   "outputs": [
    {
     "name": "stdout",
     "output_type": "stream",
     "text": [
      "Epoch 1/5\n",
      "\u001b[1m1500/1500\u001b[0m \u001b[32m━━━━━━━━━━━━━━━━━━━━\u001b[0m\u001b[37m\u001b[0m \u001b[1m30s\u001b[0m 19ms/step - accuracy: 0.8090 - loss: 0.5661 - val_accuracy: 0.9574 - val_loss: 0.1493\n",
      "Epoch 2/5\n",
      "\u001b[1m1500/1500\u001b[0m \u001b[32m━━━━━━━━━━━━━━━━━━━━\u001b[0m\u001b[37m\u001b[0m \u001b[1m29s\u001b[0m 19ms/step - accuracy: 0.9588 - loss: 0.1317 - val_accuracy: 0.9684 - val_loss: 0.1018\n",
      "Epoch 3/5\n",
      "\u001b[1m1500/1500\u001b[0m \u001b[32m━━━━━━━━━━━━━━━━━━━━\u001b[0m\u001b[37m\u001b[0m \u001b[1m34s\u001b[0m 22ms/step - accuracy: 0.9716 - loss: 0.0903 - val_accuracy: 0.9718 - val_loss: 0.0939\n",
      "Epoch 4/5\n",
      "\u001b[1m1500/1500\u001b[0m \u001b[32m━━━━━━━━━━━━━━━━━━━━\u001b[0m\u001b[37m\u001b[0m \u001b[1m40s\u001b[0m 27ms/step - accuracy: 0.9783 - loss: 0.0703 - val_accuracy: 0.9733 - val_loss: 0.0910\n",
      "Epoch 5/5\n",
      "\u001b[1m1500/1500\u001b[0m \u001b[32m━━━━━━━━━━━━━━━━━━━━\u001b[0m\u001b[37m\u001b[0m \u001b[1m42s\u001b[0m 28ms/step - accuracy: 0.9825 - loss: 0.0566 - val_accuracy: 0.9767 - val_loss: 0.0793\n"
     ]
    },
    {
     "data": {
      "text/plain": [
       "<keras.src.callbacks.history.History at 0x28e4579c8d0>"
      ]
     },
     "execution_count": 20,
     "metadata": {},
     "output_type": "execute_result"
    }
   ],
   "source": [
    "in_layer=Input(shape=(28,28,1))\n",
    "cnn1=Conv2D(32,(3,3),activation='relu')(in_layer)\n",
    "maxpool1=MaxPooling2D()(cnn1)\n",
    "\n",
    "cnn2=Conv2D(64,(3,3),activation='relu')(maxpool1)\n",
    "maxpool2=MaxPooling2D()(cnn2)\n",
    "\n",
    "flatten_layer=Flatten()(maxpool2)\n",
    "\n",
    "h1=Dense(512,activation='relu')(flatten_layer)\n",
    "h2=Dense(128,activation='relu')(h1)\n",
    "out_layer=Dense(10,activation='softmax')(h2)\n",
    "model=Model(inputs=in_layer,outputs=out_layer)\n",
    "model.compile(loss='sparse_categorical_crossentropy',optimizer='adam',metrics=['accuracy'])\n",
    "model.fit(X_train,y_train,epochs=5,batch_size=32,validation_split=.2)"
   ]
  },
  {
   "cell_type": "code",
   "execution_count": 21,
   "id": "d1f71f7a-633c-465f-9163-db3258f2392b",
   "metadata": {},
   "outputs": [],
   "source": [
    "import pandas as pd"
   ]
  },
  {
   "cell_type": "code",
   "execution_count": 22,
   "id": "4202403b-b753-4983-a757-331017c45013",
   "metadata": {},
   "outputs": [
    {
     "data": {
      "text/html": [
       "<div>\n",
       "<style scoped>\n",
       "    .dataframe tbody tr th:only-of-type {\n",
       "        vertical-align: middle;\n",
       "    }\n",
       "\n",
       "    .dataframe tbody tr th {\n",
       "        vertical-align: top;\n",
       "    }\n",
       "\n",
       "    .dataframe thead th {\n",
       "        text-align: right;\n",
       "    }\n",
       "</style>\n",
       "<table border=\"1\" class=\"dataframe\">\n",
       "  <thead>\n",
       "    <tr style=\"text-align: right;\">\n",
       "      <th></th>\n",
       "      <th>attendance_percent</th>\n",
       "      <th>study_hours_per_week</th>\n",
       "      <th>extra_classes</th>\n",
       "      <th>internal_marks</th>\n",
       "      <th>stress_level</th>\n",
       "      <th>final_score</th>\n",
       "      <th>pass_fail</th>\n",
       "    </tr>\n",
       "  </thead>\n",
       "  <tbody>\n",
       "    <tr>\n",
       "      <th>0</th>\n",
       "      <td>79.967142</td>\n",
       "      <td>21.996777</td>\n",
       "      <td>0</td>\n",
       "      <td>68.596917</td>\n",
       "      <td>7.336277</td>\n",
       "      <td>73.736999</td>\n",
       "      <td>1</td>\n",
       "    </tr>\n",
       "    <tr>\n",
       "      <th>1</th>\n",
       "      <td>73.617357</td>\n",
       "      <td>19.623168</td>\n",
       "      <td>0</td>\n",
       "      <td>33.212003</td>\n",
       "      <td>13.651135</td>\n",
       "      <td>44.439345</td>\n",
       "      <td>1</td>\n",
       "    </tr>\n",
       "    <tr>\n",
       "      <th>2</th>\n",
       "      <td>81.476885</td>\n",
       "      <td>15.298152</td>\n",
       "      <td>0</td>\n",
       "      <td>54.605555</td>\n",
       "      <td>11.995598</td>\n",
       "      <td>56.216378</td>\n",
       "      <td>1</td>\n",
       "    </tr>\n",
       "    <tr>\n",
       "      <th>3</th>\n",
       "      <td>90.230299</td>\n",
       "      <td>11.765316</td>\n",
       "      <td>0</td>\n",
       "      <td>64.516610</td>\n",
       "      <td>8.563583</td>\n",
       "      <td>64.919619</td>\n",
       "      <td>1</td>\n",
       "    </tr>\n",
       "    <tr>\n",
       "      <th>4</th>\n",
       "      <td>72.658466</td>\n",
       "      <td>18.491117</td>\n",
       "      <td>2</td>\n",
       "      <td>62.757518</td>\n",
       "      <td>10.954832</td>\n",
       "      <td>66.480198</td>\n",
       "      <td>1</td>\n",
       "    </tr>\n",
       "    <tr>\n",
       "      <th>...</th>\n",
       "      <td>...</td>\n",
       "      <td>...</td>\n",
       "      <td>...</td>\n",
       "      <td>...</td>\n",
       "      <td>...</td>\n",
       "      <td>...</td>\n",
       "      <td>...</td>\n",
       "    </tr>\n",
       "    <tr>\n",
       "      <th>995</th>\n",
       "      <td>72.188997</td>\n",
       "      <td>20.350751</td>\n",
       "      <td>0</td>\n",
       "      <td>53.813793</td>\n",
       "      <td>2.690650</td>\n",
       "      <td>55.932970</td>\n",
       "      <td>1</td>\n",
       "    </tr>\n",
       "    <tr>\n",
       "      <th>996</th>\n",
       "      <td>92.976865</td>\n",
       "      <td>14.867394</td>\n",
       "      <td>2</td>\n",
       "      <td>63.857985</td>\n",
       "      <td>0.910839</td>\n",
       "      <td>73.298823</td>\n",
       "      <td>1</td>\n",
       "    </tr>\n",
       "    <tr>\n",
       "      <th>997</th>\n",
       "      <td>81.408429</td>\n",
       "      <td>10.590627</td>\n",
       "      <td>0</td>\n",
       "      <td>56.390022</td>\n",
       "      <td>20.000000</td>\n",
       "      <td>46.654187</td>\n",
       "      <td>1</td>\n",
       "    </tr>\n",
       "    <tr>\n",
       "      <th>998</th>\n",
       "      <td>69.288210</td>\n",
       "      <td>14.184665</td>\n",
       "      <td>0</td>\n",
       "      <td>60.118203</td>\n",
       "      <td>8.597632</td>\n",
       "      <td>49.096115</td>\n",
       "      <td>1</td>\n",
       "    </tr>\n",
       "    <tr>\n",
       "      <th>999</th>\n",
       "      <td>80.725828</td>\n",
       "      <td>11.275487</td>\n",
       "      <td>0</td>\n",
       "      <td>55.115834</td>\n",
       "      <td>1.652790</td>\n",
       "      <td>58.716124</td>\n",
       "      <td>1</td>\n",
       "    </tr>\n",
       "  </tbody>\n",
       "</table>\n",
       "<p>1000 rows × 7 columns</p>\n",
       "</div>"
      ],
      "text/plain": [
       "     attendance_percent  study_hours_per_week  ...  final_score  pass_fail\n",
       "0             79.967142             21.996777  ...    73.736999          1\n",
       "1             73.617357             19.623168  ...    44.439345          1\n",
       "2             81.476885             15.298152  ...    56.216378          1\n",
       "3             90.230299             11.765316  ...    64.919619          1\n",
       "4             72.658466             18.491117  ...    66.480198          1\n",
       "..                  ...                   ...  ...          ...        ...\n",
       "995           72.188997             20.350751  ...    55.932970          1\n",
       "996           92.976865             14.867394  ...    73.298823          1\n",
       "997           81.408429             10.590627  ...    46.654187          1\n",
       "998           69.288210             14.184665  ...    49.096115          1\n",
       "999           80.725828             11.275487  ...    58.716124          1\n",
       "\n",
       "[1000 rows x 7 columns]"
      ]
     },
     "execution_count": 22,
     "metadata": {},
     "output_type": "execute_result"
    }
   ],
   "source": [
    "df=pd.read_excel(\"f:/dataset/student_performance_dataset_1000.xlsx\")\n",
    "df"
   ]
  },
  {
   "cell_type": "code",
   "execution_count": 23,
   "id": "37c4212d-150a-4641-9934-515ed0f944ae",
   "metadata": {},
   "outputs": [
    {
     "data": {
      "text/plain": [
       "attendance_percent      0\n",
       "study_hours_per_week    0\n",
       "extra_classes           0\n",
       "internal_marks          0\n",
       "stress_level            0\n",
       "final_score             0\n",
       "pass_fail               0\n",
       "dtype: int64"
      ]
     },
     "execution_count": 23,
     "metadata": {},
     "output_type": "execute_result"
    }
   ],
   "source": [
    "df.isnull().sum()"
   ]
  },
  {
   "cell_type": "code",
   "execution_count": 24,
   "id": "bec4e54d-16cc-473b-aeb7-3736e31caf44",
   "metadata": {},
   "outputs": [
    {
     "data": {
      "text/plain": [
       "np.int64(0)"
      ]
     },
     "execution_count": 24,
     "metadata": {},
     "output_type": "execute_result"
    }
   ],
   "source": [
    "df.duplicated().sum()"
   ]
  },
  {
   "cell_type": "code",
   "execution_count": 52,
   "id": "ca4bc1ca-4cad-42dd-8014-279e7eede767",
   "metadata": {},
   "outputs": [],
   "source": [
    "from sklearn.preprocessing import StandardScaler\n",
    "from imblearn.over_sampling import SMOTE\n",
    "X=df.iloc[:,:-1].values\n",
    "y=df.iloc[:,-1].values\n",
    "smote=SMOTE()\n",
    "X_new,y_new=smote.fit_resample(X,y)"
   ]
  },
  {
   "cell_type": "code",
   "execution_count": 53,
   "id": "f385afbd-3e1b-4276-a11a-88e391c824c3",
   "metadata": {},
   "outputs": [],
   "source": [
    "X=X_new[:,:-1]\n",
    "y_reg=X_new[:,-1]\n",
    "y_clf=y_new"
   ]
  },
  {
   "cell_type": "code",
   "execution_count": 54,
   "id": "4e8ba7e1-0217-479a-895e-03c0d120788b",
   "metadata": {},
   "outputs": [
    {
     "data": {
      "text/plain": [
       "(1962, 5)"
      ]
     },
     "execution_count": 54,
     "metadata": {},
     "output_type": "execute_result"
    }
   ],
   "source": [
    "X.shape"
   ]
  },
  {
   "cell_type": "code",
   "execution_count": 55,
   "id": "1d28c4c3-0a5b-420b-ad76-e8c77dbdd046",
   "metadata": {},
   "outputs": [],
   "source": [
    "sc=StandardScaler()\n",
    "X_train=sc.fit_transform(X)"
   ]
  },
  {
   "cell_type": "code",
   "execution_count": 56,
   "id": "0d8224bf-4d61-4fcb-810d-40905441f35a",
   "metadata": {},
   "outputs": [
    {
     "name": "stdout",
     "output_type": "stream",
     "text": [
      "Epoch 1/50\n",
      "\u001b[1m50/50\u001b[0m \u001b[32m━━━━━━━━━━━━━━━━━━━━\u001b[0m\u001b[37m\u001b[0m \u001b[1m3s\u001b[0m 15ms/step - clf_accuracy: 0.4251 - clf_loss: 1.8468 - loss: 1112.4711 - reg_loss: 1090.2698 - reg_r2_score: -3.1957 - val_clf_accuracy: 0.0000e+00 - val_clf_loss: 1.9874 - val_loss: 43.1385 - val_reg_loss: 41.3081 - val_reg_r2_score: -2.6108\n",
      "Epoch 2/50\n",
      "\u001b[1m50/50\u001b[0m \u001b[32m━━━━━━━━━━━━━━━━━━━━\u001b[0m\u001b[37m\u001b[0m \u001b[1m0s\u001b[0m 5ms/step - clf_accuracy: 0.6310 - clf_loss: 0.6393 - loss: 88.8871 - reg_loss: 86.6421 - reg_r2_score: 0.6666 - val_clf_accuracy: 0.0000e+00 - val_clf_loss: 0.9919 - val_loss: 25.4687 - val_reg_loss: 24.4724 - val_reg_r2_score: -1.1476\n",
      "Epoch 3/50\n",
      "\u001b[1m50/50\u001b[0m \u001b[32m━━━━━━━━━━━━━━━━━━━━\u001b[0m\u001b[37m\u001b[0m \u001b[1m0s\u001b[0m 9ms/step - clf_accuracy: 0.6354 - clf_loss: 0.5269 - loss: 67.2183 - reg_loss: 65.4383 - reg_r2_score: 0.7480 - val_clf_accuracy: 0.2087 - val_clf_loss: 0.7994 - val_loss: 21.1857 - val_reg_loss: 20.2557 - val_reg_r2_score: -0.7887\n",
      "Epoch 4/50\n",
      "\u001b[1m50/50\u001b[0m \u001b[32m━━━━━━━━━━━━━━━━━━━━\u001b[0m\u001b[37m\u001b[0m \u001b[1m0s\u001b[0m 6ms/step - clf_accuracy: 0.7342 - clf_loss: 0.4647 - loss: 55.6290 - reg_loss: 54.1146 - reg_r2_score: 0.7916 - val_clf_accuracy: 0.6489 - val_clf_loss: 0.6499 - val_loss: 17.7877 - val_reg_loss: 16.9759 - val_reg_r2_score: -0.5036\n",
      "Epoch 5/50\n",
      "\u001b[1m50/50\u001b[0m \u001b[32m━━━━━━━━━━━━━━━━━━━━\u001b[0m\u001b[37m\u001b[0m \u001b[1m1s\u001b[0m 9ms/step - clf_accuracy: 0.8866 - clf_loss: 0.3909 - loss: 46.1266 - reg_loss: 44.8615 - reg_r2_score: 0.8272 - val_clf_accuracy: 0.8626 - val_clf_loss: 0.5262 - val_loss: 14.6371 - val_reg_loss: 13.9432 - val_reg_r2_score: -0.2381\n",
      "Epoch 6/50\n",
      "\u001b[1m50/50\u001b[0m \u001b[32m━━━━━━━━━━━━━━━━━━━━\u001b[0m\u001b[37m\u001b[0m \u001b[1m0s\u001b[0m 6ms/step - clf_accuracy: 0.9414 - clf_loss: 0.3248 - loss: 38.3819 - reg_loss: 37.3306 - reg_r2_score: 0.8562 - val_clf_accuracy: 0.9313 - val_clf_loss: 0.4189 - val_loss: 11.9417 - val_reg_loss: 11.3743 - val_reg_r2_score: -0.0110\n",
      "Epoch 7/50\n",
      "\u001b[1m50/50\u001b[0m \u001b[32m━━━━━━━━━━━━━━━━━━━━\u001b[0m\u001b[37m\u001b[0m \u001b[1m0s\u001b[0m 5ms/step - clf_accuracy: 0.9528 - clf_loss: 0.2723 - loss: 32.3674 - reg_loss: 31.4855 - reg_r2_score: 0.8787 - val_clf_accuracy: 0.9567 - val_clf_loss: 0.3367 - val_loss: 9.8581 - val_reg_loss: 9.3983 - val_reg_r2_score: 0.1646\n",
      "Epoch 8/50\n",
      "\u001b[1m50/50\u001b[0m \u001b[32m━━━━━━━━━━━━━━━━━━━━\u001b[0m\u001b[37m\u001b[0m \u001b[1m0s\u001b[0m 5ms/step - clf_accuracy: 0.9592 - clf_loss: 0.2322 - loss: 27.9126 - reg_loss: 27.1587 - reg_r2_score: 0.8954 - val_clf_accuracy: 0.9695 - val_clf_loss: 0.2786 - val_loss: 8.4009 - val_reg_loss: 8.0210 - val_reg_r2_score: 0.2874\n",
      "Epoch 9/50\n",
      "\u001b[1m50/50\u001b[0m \u001b[32m━━━━━━━━━━━━━━━━━━━━\u001b[0m\u001b[37m\u001b[0m \u001b[1m1s\u001b[0m 6ms/step - clf_accuracy: 0.9573 - clf_loss: 0.2047 - loss: 24.7802 - reg_loss: 24.1193 - reg_r2_score: 0.9071 - val_clf_accuracy: 0.9695 - val_clf_loss: 0.2387 - val_loss: 7.4943 - val_reg_loss: 7.1672 - val_reg_r2_score: 0.3634\n",
      "Epoch 10/50\n",
      "\u001b[1m50/50\u001b[0m \u001b[32m━━━━━━━━━━━━━━━━━━━━\u001b[0m\u001b[37m\u001b[0m \u001b[1m0s\u001b[0m 7ms/step - clf_accuracy: 0.9579 - clf_loss: 0.1859 - loss: 22.6922 - reg_loss: 22.0956 - reg_r2_score: 0.9149 - val_clf_accuracy: 0.9720 - val_clf_loss: 0.2111 - val_loss: 6.9181 - val_reg_loss: 6.6296 - val_reg_r2_score: 0.4115\n",
      "Epoch 11/50\n",
      "\u001b[1m50/50\u001b[0m \u001b[32m━━━━━━━━━━━━━━━━━━━━\u001b[0m\u001b[37m\u001b[0m \u001b[1m0s\u001b[0m 9ms/step - clf_accuracy: 0.9579 - clf_loss: 0.1725 - loss: 21.3380 - reg_loss: 20.7821 - reg_r2_score: 0.9200 - val_clf_accuracy: 0.9720 - val_clf_loss: 0.1921 - val_loss: 6.4994 - val_reg_loss: 6.2472 - val_reg_r2_score: 0.4466\n",
      "Epoch 12/50\n",
      "\u001b[1m50/50\u001b[0m \u001b[32m━━━━━━━━━━━━━━━━━━━━\u001b[0m\u001b[37m\u001b[0m \u001b[1m0s\u001b[0m 6ms/step - clf_accuracy: 0.9567 - clf_loss: 0.1624 - loss: 20.3536 - reg_loss: 19.8303 - reg_r2_score: 0.9237 - val_clf_accuracy: 0.9720 - val_clf_loss: 0.1798 - val_loss: 6.2075 - val_reg_loss: 5.9863 - val_reg_r2_score: 0.4711\n",
      "Epoch 13/50\n",
      "\u001b[1m50/50\u001b[0m \u001b[32m━━━━━━━━━━━━━━━━━━━━\u001b[0m\u001b[37m\u001b[0m \u001b[1m0s\u001b[0m 6ms/step - clf_accuracy: 0.9567 - clf_loss: 0.1553 - loss: 19.6886 - reg_loss: 19.1849 - reg_r2_score: 0.9262 - val_clf_accuracy: 0.9720 - val_clf_loss: 0.1710 - val_loss: 6.0586 - val_reg_loss: 5.8680 - val_reg_r2_score: 0.4834\n",
      "Epoch 14/50\n",
      "\u001b[1m50/50\u001b[0m \u001b[32m━━━━━━━━━━━━━━━━━━━━\u001b[0m\u001b[37m\u001b[0m \u001b[1m1s\u001b[0m 10ms/step - clf_accuracy: 0.9586 - clf_loss: 0.1489 - loss: 19.1908 - reg_loss: 18.7016 - reg_r2_score: 0.9280 - val_clf_accuracy: 0.9720 - val_clf_loss: 0.1630 - val_loss: 5.8741 - val_reg_loss: 5.7072 - val_reg_r2_score: 0.4989\n",
      "Epoch 15/50\n",
      "\u001b[1m50/50\u001b[0m \u001b[32m━━━━━━━━━━━━━━━━━━━━\u001b[0m\u001b[37m\u001b[0m \u001b[1m0s\u001b[0m 6ms/step - clf_accuracy: 0.9592 - clf_loss: 0.1435 - loss: 18.8060 - reg_loss: 18.3272 - reg_r2_score: 0.9295 - val_clf_accuracy: 0.9720 - val_clf_loss: 0.1559 - val_loss: 5.6655 - val_reg_loss: 5.5177 - val_reg_r2_score: 0.5165\n",
      "Epoch 16/50\n",
      "\u001b[1m50/50\u001b[0m \u001b[32m━━━━━━━━━━━━━━━━━━━━\u001b[0m\u001b[37m\u001b[0m \u001b[1m0s\u001b[0m 8ms/step - clf_accuracy: 0.9579 - clf_loss: 0.1389 - loss: 18.4886 - reg_loss: 18.0187 - reg_r2_score: 0.9306 - val_clf_accuracy: 0.9720 - val_clf_loss: 0.1502 - val_loss: 5.4491 - val_reg_loss: 5.3151 - val_reg_r2_score: 0.5350\n",
      "Epoch 17/50\n",
      "\u001b[1m50/50\u001b[0m \u001b[32m━━━━━━━━━━━━━━━━━━━━\u001b[0m\u001b[37m\u001b[0m \u001b[1m0s\u001b[0m 5ms/step - clf_accuracy: 0.9586 - clf_loss: 0.1345 - loss: 18.2405 - reg_loss: 17.7789 - reg_r2_score: 0.9316 - val_clf_accuracy: 0.9720 - val_clf_loss: 0.1452 - val_loss: 5.2612 - val_reg_loss: 5.1378 - val_reg_r2_score: 0.5511\n",
      "Epoch 18/50\n",
      "\u001b[1m50/50\u001b[0m \u001b[32m━━━━━━━━━━━━━━━━━━━━\u001b[0m\u001b[37m\u001b[0m \u001b[1m0s\u001b[0m 5ms/step - clf_accuracy: 0.9598 - clf_loss: 0.1303 - loss: 18.0268 - reg_loss: 17.5718 - reg_r2_score: 0.9324 - val_clf_accuracy: 0.9720 - val_clf_loss: 0.1402 - val_loss: 5.1011 - val_reg_loss: 4.9886 - val_reg_r2_score: 0.5647\n",
      "Epoch 19/50\n",
      "\u001b[1m50/50\u001b[0m \u001b[32m━━━━━━━━━━━━━━━━━━━━\u001b[0m\u001b[37m\u001b[0m \u001b[1m1s\u001b[0m 9ms/step - clf_accuracy: 0.9605 - clf_loss: 0.1270 - loss: 17.8334 - reg_loss: 17.3851 - reg_r2_score: 0.9331 - val_clf_accuracy: 0.9720 - val_clf_loss: 0.1365 - val_loss: 4.9454 - val_reg_loss: 4.8415 - val_reg_r2_score: 0.5780\n",
      "Epoch 20/50\n",
      "\u001b[1m50/50\u001b[0m \u001b[32m━━━━━━━━━━━━━━━━━━━━\u001b[0m\u001b[37m\u001b[0m \u001b[1m0s\u001b[0m 6ms/step - clf_accuracy: 0.9630 - clf_loss: 0.1235 - loss: 17.6706 - reg_loss: 17.2272 - reg_r2_score: 0.9337 - val_clf_accuracy: 0.9720 - val_clf_loss: 0.1317 - val_loss: 4.7651 - val_reg_loss: 4.6700 - val_reg_r2_score: 0.5934\n",
      "Epoch 21/50\n",
      "\u001b[1m50/50\u001b[0m \u001b[32m━━━━━━━━━━━━━━━━━━━━\u001b[0m\u001b[37m\u001b[0m \u001b[1m0s\u001b[0m 6ms/step - clf_accuracy: 0.9637 - clf_loss: 0.1204 - loss: 17.5108 - reg_loss: 17.0725 - reg_r2_score: 0.9343 - val_clf_accuracy: 0.9720 - val_clf_loss: 0.1287 - val_loss: 4.6587 - val_reg_loss: 4.5710 - val_reg_r2_score: 0.6025\n",
      "Epoch 22/50\n",
      "\u001b[1m50/50\u001b[0m \u001b[32m━━━━━━━━━━━━━━━━━━━━\u001b[0m\u001b[37m\u001b[0m \u001b[1m0s\u001b[0m 6ms/step - clf_accuracy: 0.9637 - clf_loss: 0.1171 - loss: 17.3803 - reg_loss: 16.9450 - reg_r2_score: 0.9348 - val_clf_accuracy: 0.9720 - val_clf_loss: 0.1250 - val_loss: 4.5168 - val_reg_loss: 4.4335 - val_reg_r2_score: 0.6146\n",
      "Epoch 23/50\n",
      "\u001b[1m50/50\u001b[0m \u001b[32m━━━━━━━━━━━━━━━━━━━━\u001b[0m\u001b[37m\u001b[0m \u001b[1m0s\u001b[0m 8ms/step - clf_accuracy: 0.9643 - clf_loss: 0.1146 - loss: 17.2660 - reg_loss: 16.8356 - reg_r2_score: 0.9352 - val_clf_accuracy: 0.9720 - val_clf_loss: 0.1230 - val_loss: 4.4180 - val_reg_loss: 4.3394 - val_reg_r2_score: 0.6231\n",
      "Epoch 24/50\n",
      "\u001b[1m50/50\u001b[0m \u001b[32m━━━━━━━━━━━━━━━━━━━━\u001b[0m\u001b[37m\u001b[0m \u001b[1m0s\u001b[0m 7ms/step - clf_accuracy: 0.9643 - clf_loss: 0.1116 - loss: 17.1545 - reg_loss: 16.7275 - reg_r2_score: 0.9356 - val_clf_accuracy: 0.9720 - val_clf_loss: 0.1199 - val_loss: 4.2878 - val_reg_loss: 4.2140 - val_reg_r2_score: 0.6343\n",
      "Epoch 25/50\n",
      "\u001b[1m50/50\u001b[0m \u001b[32m━━━━━━━━━━━━━━━━━━━━\u001b[0m\u001b[37m\u001b[0m \u001b[1m0s\u001b[0m 8ms/step - clf_accuracy: 0.9669 - clf_loss: 0.1089 - loss: 17.0511 - reg_loss: 16.6273 - reg_r2_score: 0.9360 - val_clf_accuracy: 0.9746 - val_clf_loss: 0.1159 - val_loss: 4.1605 - val_reg_loss: 4.0913 - val_reg_r2_score: 0.6451\n",
      "Epoch 26/50\n",
      "\u001b[1m50/50\u001b[0m \u001b[32m━━━━━━━━━━━━━━━━━━━━\u001b[0m\u001b[37m\u001b[0m \u001b[1m0s\u001b[0m 6ms/step - clf_accuracy: 0.9675 - clf_loss: 0.1069 - loss: 16.9571 - reg_loss: 16.5371 - reg_r2_score: 0.9363 - val_clf_accuracy: 0.9771 - val_clf_loss: 0.1139 - val_loss: 4.1034 - val_reg_loss: 4.0402 - val_reg_r2_score: 0.6499\n",
      "Epoch 27/50\n",
      "\u001b[1m50/50\u001b[0m \u001b[32m━━━━━━━━━━━━━━━━━━━━\u001b[0m\u001b[37m\u001b[0m \u001b[1m0s\u001b[0m 6ms/step - clf_accuracy: 0.9694 - clf_loss: 0.1046 - loss: 16.8735 - reg_loss: 16.4561 - reg_r2_score: 0.9366 - val_clf_accuracy: 0.9796 - val_clf_loss: 0.1114 - val_loss: 4.0200 - val_reg_loss: 3.9604 - val_reg_r2_score: 0.6570\n",
      "Epoch 28/50\n",
      "\u001b[1m50/50\u001b[0m \u001b[32m━━━━━━━━━━━━━━━━━━━━\u001b[0m\u001b[37m\u001b[0m \u001b[1m0s\u001b[0m 7ms/step - clf_accuracy: 0.9707 - clf_loss: 0.1025 - loss: 16.7821 - reg_loss: 16.3672 - reg_r2_score: 0.9370 - val_clf_accuracy: 0.9796 - val_clf_loss: 0.1081 - val_loss: 3.9198 - val_reg_loss: 3.8627 - val_reg_r2_score: 0.6655\n",
      "Epoch 29/50\n",
      "\u001b[1m50/50\u001b[0m \u001b[32m━━━━━━━━━━━━━━━━━━━━\u001b[0m\u001b[37m\u001b[0m \u001b[1m0s\u001b[0m 6ms/step - clf_accuracy: 0.9726 - clf_loss: 0.1011 - loss: 16.7021 - reg_loss: 16.2900 - reg_r2_score: 0.9373 - val_clf_accuracy: 0.9796 - val_clf_loss: 0.1071 - val_loss: 3.8564 - val_reg_loss: 3.8027 - val_reg_r2_score: 0.6710\n",
      "Epoch 30/50\n",
      "\u001b[1m50/50\u001b[0m \u001b[32m━━━━━━━━━━━━━━━━━━━━\u001b[0m\u001b[37m\u001b[0m \u001b[1m0s\u001b[0m 6ms/step - clf_accuracy: 0.9732 - clf_loss: 0.0991 - loss: 16.6247 - reg_loss: 16.2151 - reg_r2_score: 0.9375 - val_clf_accuracy: 0.9847 - val_clf_loss: 0.1040 - val_loss: 3.7930 - val_reg_loss: 3.7408 - val_reg_r2_score: 0.6763\n",
      "Epoch 31/50\n",
      "\u001b[1m50/50\u001b[0m \u001b[32m━━━━━━━━━━━━━━━━━━━━\u001b[0m\u001b[37m\u001b[0m \u001b[1m0s\u001b[0m 6ms/step - clf_accuracy: 0.9745 - clf_loss: 0.0976 - loss: 16.5514 - reg_loss: 16.1444 - reg_r2_score: 0.9378 - val_clf_accuracy: 0.9847 - val_clf_loss: 0.1019 - val_loss: 3.7121 - val_reg_loss: 3.6620 - val_reg_r2_score: 0.6832\n",
      "Epoch 32/50\n",
      "\u001b[1m50/50\u001b[0m \u001b[32m━━━━━━━━━━━━━━━━━━━━\u001b[0m\u001b[37m\u001b[0m \u001b[1m0s\u001b[0m 7ms/step - clf_accuracy: 0.9758 - clf_loss: 0.0959 - loss: 16.4936 - reg_loss: 16.0887 - reg_r2_score: 0.9380 - val_clf_accuracy: 0.9873 - val_clf_loss: 0.1002 - val_loss: 3.6390 - val_reg_loss: 3.5890 - val_reg_r2_score: 0.6895\n",
      "Epoch 33/50\n",
      "\u001b[1m50/50\u001b[0m \u001b[32m━━━━━━━━━━━━━━━━━━━━\u001b[0m\u001b[37m\u001b[0m \u001b[1m0s\u001b[0m 8ms/step - clf_accuracy: 0.9764 - clf_loss: 0.0946 - loss: 16.4259 - reg_loss: 16.0231 - reg_r2_score: 0.9383 - val_clf_accuracy: 0.9898 - val_clf_loss: 0.0981 - val_loss: 3.5903 - val_reg_loss: 3.5430 - val_reg_r2_score: 0.6936\n",
      "Epoch 34/50\n",
      "\u001b[1m50/50\u001b[0m \u001b[32m━━━━━━━━━━━━━━━━━━━━\u001b[0m\u001b[37m\u001b[0m \u001b[1m0s\u001b[0m 9ms/step - clf_accuracy: 0.9771 - clf_loss: 0.0933 - loss: 16.3829 - reg_loss: 15.9820 - reg_r2_score: 0.9384 - val_clf_accuracy: 0.9924 - val_clf_loss: 0.0966 - val_loss: 3.4989 - val_reg_loss: 3.4521 - val_reg_r2_score: 0.7015\n",
      "Epoch 35/50\n",
      "\u001b[1m50/50\u001b[0m \u001b[32m━━━━━━━━━━━━━━━━━━━━\u001b[0m\u001b[37m\u001b[0m \u001b[1m0s\u001b[0m 5ms/step - clf_accuracy: 0.9777 - clf_loss: 0.0919 - loss: 16.3347 - reg_loss: 15.9357 - reg_r2_score: 0.9386 - val_clf_accuracy: 0.9924 - val_clf_loss: 0.0945 - val_loss: 3.4500 - val_reg_loss: 3.4068 - val_reg_r2_score: 0.7056\n",
      "Epoch 36/50\n",
      "\u001b[1m50/50\u001b[0m \u001b[32m━━━━━━━━━━━━━━━━━━━━\u001b[0m\u001b[37m\u001b[0m \u001b[1m0s\u001b[0m 6ms/step - clf_accuracy: 0.9790 - clf_loss: 0.0905 - loss: 16.2784 - reg_loss: 15.8812 - reg_r2_score: 0.9388 - val_clf_accuracy: 0.9924 - val_clf_loss: 0.0923 - val_loss: 3.3625 - val_reg_loss: 3.3188 - val_reg_r2_score: 0.7131\n",
      "Epoch 37/50\n",
      "\u001b[1m50/50\u001b[0m \u001b[32m━━━━━━━━━━━━━━━━━━━━\u001b[0m\u001b[37m\u001b[0m \u001b[1m0s\u001b[0m 9ms/step - clf_accuracy: 0.9790 - clf_loss: 0.0896 - loss: 16.2483 - reg_loss: 15.8525 - reg_r2_score: 0.9389 - val_clf_accuracy: 0.9924 - val_clf_loss: 0.0909 - val_loss: 3.3013 - val_reg_loss: 3.2614 - val_reg_r2_score: 0.7183\n",
      "Epoch 38/50\n",
      "\u001b[1m50/50\u001b[0m \u001b[32m━━━━━━━━━━━━━━━━━━━━\u001b[0m\u001b[37m\u001b[0m \u001b[1m0s\u001b[0m 5ms/step - clf_accuracy: 0.9790 - clf_loss: 0.0878 - loss: 16.1871 - reg_loss: 15.7936 - reg_r2_score: 0.9392 - val_clf_accuracy: 0.9924 - val_clf_loss: 0.0892 - val_loss: 3.2410 - val_reg_loss: 3.1985 - val_reg_r2_score: 0.7235\n",
      "Epoch 39/50\n",
      "\u001b[1m50/50\u001b[0m \u001b[32m━━━━━━━━━━━━━━━━━━━━\u001b[0m\u001b[37m\u001b[0m \u001b[1m0s\u001b[0m 6ms/step - clf_accuracy: 0.9783 - clf_loss: 0.0868 - loss: 16.1554 - reg_loss: 15.7638 - reg_r2_score: 0.9393 - val_clf_accuracy: 0.9924 - val_clf_loss: 0.0858 - val_loss: 3.1523 - val_reg_loss: 3.1151 - val_reg_r2_score: 0.7310\n",
      "Epoch 40/50\n",
      "\u001b[1m50/50\u001b[0m \u001b[32m━━━━━━━━━━━━━━━━━━━━\u001b[0m\u001b[37m\u001b[0m \u001b[1m0s\u001b[0m 8ms/step - clf_accuracy: 0.9783 - clf_loss: 0.0862 - loss: 16.1138 - reg_loss: 15.7237 - reg_r2_score: 0.9394 - val_clf_accuracy: 0.9924 - val_clf_loss: 0.0837 - val_loss: 3.1064 - val_reg_loss: 3.0713 - val_reg_r2_score: 0.7348\n",
      "Epoch 41/50\n",
      "\u001b[1m50/50\u001b[0m \u001b[32m━━━━━━━━━━━━━━━━━━━━\u001b[0m\u001b[37m\u001b[0m \u001b[1m0s\u001b[0m 5ms/step - clf_accuracy: 0.9790 - clf_loss: 0.0851 - loss: 16.0559 - reg_loss: 15.6680 - reg_r2_score: 0.9396 - val_clf_accuracy: 0.9924 - val_clf_loss: 0.0825 - val_loss: 3.0706 - val_reg_loss: 3.0370 - val_reg_r2_score: 0.7378\n",
      "Epoch 42/50\n",
      "\u001b[1m50/50\u001b[0m \u001b[32m━━━━━━━━━━━━━━━━━━━━\u001b[0m\u001b[37m\u001b[0m \u001b[1m0s\u001b[0m 9ms/step - clf_accuracy: 0.9790 - clf_loss: 0.0836 - loss: 16.0059 - reg_loss: 15.6195 - reg_r2_score: 0.9398 - val_clf_accuracy: 0.9924 - val_clf_loss: 0.0819 - val_loss: 2.9923 - val_reg_loss: 2.9569 - val_reg_r2_score: 0.7447\n",
      "Epoch 43/50\n",
      "\u001b[1m50/50\u001b[0m \u001b[32m━━━━━━━━━━━━━━━━━━━━\u001b[0m\u001b[37m\u001b[0m \u001b[1m0s\u001b[0m 6ms/step - clf_accuracy: 0.9790 - clf_loss: 0.0828 - loss: 15.9798 - reg_loss: 15.5945 - reg_r2_score: 0.9399 - val_clf_accuracy: 0.9924 - val_clf_loss: 0.0790 - val_loss: 2.9424 - val_reg_loss: 2.9099 - val_reg_r2_score: 0.7488\n",
      "Epoch 44/50\n",
      "\u001b[1m50/50\u001b[0m \u001b[32m━━━━━━━━━━━━━━━━━━━━\u001b[0m\u001b[37m\u001b[0m \u001b[1m0s\u001b[0m 6ms/step - clf_accuracy: 0.9790 - clf_loss: 0.0822 - loss: 15.9353 - reg_loss: 15.5515 - reg_r2_score: 0.9401 - val_clf_accuracy: 0.9924 - val_clf_loss: 0.0781 - val_loss: 2.9073 - val_reg_loss: 2.8748 - val_reg_r2_score: 0.7518\n",
      "Epoch 45/50\n",
      "\u001b[1m50/50\u001b[0m \u001b[32m━━━━━━━━━━━━━━━━━━━━\u001b[0m\u001b[37m\u001b[0m \u001b[1m0s\u001b[0m 6ms/step - clf_accuracy: 0.9790 - clf_loss: 0.0815 - loss: 15.8878 - reg_loss: 15.5057 - reg_r2_score: 0.9403 - val_clf_accuracy: 0.9924 - val_clf_loss: 0.0773 - val_loss: 2.8829 - val_reg_loss: 2.8506 - val_reg_r2_score: 0.7538\n",
      "Epoch 46/50\n",
      "\u001b[1m50/50\u001b[0m \u001b[32m━━━━━━━━━━━━━━━━━━━━\u001b[0m\u001b[37m\u001b[0m \u001b[1m0s\u001b[0m 6ms/step - clf_accuracy: 0.9790 - clf_loss: 0.0807 - loss: 15.8607 - reg_loss: 15.4798 - reg_r2_score: 0.9404 - val_clf_accuracy: 0.9924 - val_clf_loss: 0.0734 - val_loss: 2.8049 - val_reg_loss: 2.7762 - val_reg_r2_score: 0.7604\n",
      "Epoch 47/50\n",
      "\u001b[1m50/50\u001b[0m \u001b[32m━━━━━━━━━━━━━━━━━━━━\u001b[0m\u001b[37m\u001b[0m \u001b[1m0s\u001b[0m 6ms/step - clf_accuracy: 0.9790 - clf_loss: 0.0798 - loss: 15.8101 - reg_loss: 15.4307 - reg_r2_score: 0.9406 - val_clf_accuracy: 0.9924 - val_clf_loss: 0.0724 - val_loss: 2.7821 - val_reg_loss: 2.7551 - val_reg_r2_score: 0.7623\n",
      "Epoch 48/50\n",
      "\u001b[1m50/50\u001b[0m \u001b[32m━━━━━━━━━━━━━━━━━━━━\u001b[0m\u001b[37m\u001b[0m \u001b[1m0s\u001b[0m 8ms/step - clf_accuracy: 0.9790 - clf_loss: 0.0792 - loss: 15.7715 - reg_loss: 15.3937 - reg_r2_score: 0.9407 - val_clf_accuracy: 0.9924 - val_clf_loss: 0.0721 - val_loss: 2.7646 - val_reg_loss: 2.7377 - val_reg_r2_score: 0.7638\n",
      "Epoch 49/50\n",
      "\u001b[1m50/50\u001b[0m \u001b[32m━━━━━━━━━━━━━━━━━━━━\u001b[0m\u001b[37m\u001b[0m \u001b[1m0s\u001b[0m 6ms/step - clf_accuracy: 0.9790 - clf_loss: 0.0786 - loss: 15.7511 - reg_loss: 15.3739 - reg_r2_score: 0.9408 - val_clf_accuracy: 0.9924 - val_clf_loss: 0.0702 - val_loss: 2.7131 - val_reg_loss: 2.6875 - val_reg_r2_score: 0.7681\n",
      "Epoch 50/50\n",
      "\u001b[1m50/50\u001b[0m \u001b[32m━━━━━━━━━━━━━━━━━━━━\u001b[0m\u001b[37m\u001b[0m \u001b[1m0s\u001b[0m 9ms/step - clf_accuracy: 0.9790 - clf_loss: 0.0780 - loss: 15.7092 - reg_loss: 15.3336 - reg_r2_score: 0.9409 - val_clf_accuracy: 0.9975 - val_clf_loss: 0.0695 - val_loss: 2.7115 - val_reg_loss: 2.6881 - val_reg_r2_score: 0.7682\n"
     ]
    },
    {
     "data": {
      "text/plain": [
       "<keras.src.callbacks.history.History at 0x28e015e9040>"
      ]
     },
     "execution_count": 56,
     "metadata": {},
     "output_type": "execute_result"
    }
   ],
   "source": [
    "random.seed(42)\n",
    "np.random.seed(42)\n",
    "tf.random.set_seed(42)\n",
    "\n",
    "in_layer=Input(shape=(5,))\n",
    "h1=Dense(512,activation='relu')(in_layer)\n",
    "h2=Dense(256,activation='relu')(h1)\n",
    "h3=Dense(128,activation='relu')(h2)\n",
    "\n",
    "\n",
    "out_reg=Dense(1,activation='linear',name='reg')(h3)\n",
    "\n",
    "out_clf=Dense(1,activation='sigmoid',name='clf')(h3)\n",
    "\n",
    "model=Model(inputs=in_layer,outputs=[out_reg,out_clf])\n",
    "\n",
    "model.compile(loss={'reg':'mse','clf':'binary_crossentropy'},optimizer='adam',\n",
    "              metrics={'reg':'r2_score','clf':'accuracy'})\n",
    "model.fit(X_train,{'reg':y_reg,'clf':y_clf},validation_split=.2,epochs=50,batch_size=32)"
   ]
  },
  {
   "cell_type": "code",
   "execution_count": 70,
   "id": "911da42c-2f26-4c42-9d22-cb18385450d4",
   "metadata": {},
   "outputs": [
    {
     "name": "stdout",
     "output_type": "stream",
     "text": [
      "\u001b[1m1/1\u001b[0m \u001b[32m━━━━━━━━━━━━━━━━━━━━\u001b[0m\u001b[37m\u001b[0m \u001b[1m0s\u001b[0m 64ms/step\n",
      "marks=67.7464828491211\n",
      "Pass\n"
     ]
    }
   ],
   "source": [
    "new_sample=np.array([[45,15,2,80,12]])\n",
    "X_test=sc.transform(new_sample)\n",
    "pred=model.predict(X_test)\n",
    "print(f'marks={pred[0][0][0]}')\n",
    "if pred[1][0][0]<.5:\n",
    "    print('Fail')\n",
    "else:\n",
    "    print('Pass')"
   ]
  },
  {
   "cell_type": "code",
   "execution_count": 87,
   "id": "0e5d3cc0-6e8d-4f90-a80b-3c3ccd450a0c",
   "metadata": {},
   "outputs": [],
   "source": [
    "df1=pd.read_excel(f'f:/dataset/multi_input_student_dataset_1000.xlsx',sheet_name=0)\n",
    "df2=pd.read_excel(f'f:/dataset/multi_input_student_dataset_1000.xlsx',sheet_name=1)"
   ]
  },
  {
   "cell_type": "code",
   "execution_count": 88,
   "id": "1a1fd73b-7722-4333-af15-388d2d817d2c",
   "metadata": {},
   "outputs": [],
   "source": [
    "X1=df1.iloc[:,:-1].values\n",
    "X2=df2.values\n",
    "y=df1['final_score'].values"
   ]
  },
  {
   "cell_type": "code",
   "execution_count": 91,
   "id": "fdf536e9-349f-4c19-bc07-f7e2e3b45bee",
   "metadata": {},
   "outputs": [
    {
     "name": "stdout",
     "output_type": "stream",
     "text": [
      "Epoch 1/40\n",
      "\u001b[1m25/25\u001b[0m \u001b[32m━━━━━━━━━━━━━━━━━━━━\u001b[0m\u001b[37m\u001b[0m \u001b[1m2s\u001b[0m 16ms/step - loss: 2782.2380 - r2_score: -23.3991 - val_loss: 606.5640 - val_r2_score: -4.3597\n",
      "Epoch 2/40\n",
      "\u001b[1m25/25\u001b[0m \u001b[32m━━━━━━━━━━━━━━━━━━━━\u001b[0m\u001b[37m\u001b[0m \u001b[1m0s\u001b[0m 8ms/step - loss: 412.2044 - r2_score: -2.6149 - val_loss: 275.3818 - val_r2_score: -1.4333\n",
      "Epoch 3/40\n",
      "\u001b[1m25/25\u001b[0m \u001b[32m━━━━━━━━━━━━━━━━━━━━\u001b[0m\u001b[37m\u001b[0m \u001b[1m0s\u001b[0m 8ms/step - loss: 219.2081 - r2_score: -0.9224 - val_loss: 168.0083 - val_r2_score: -0.4845\n",
      "Epoch 4/40\n",
      "\u001b[1m25/25\u001b[0m \u001b[32m━━━━━━━━━━━━━━━━━━━━\u001b[0m\u001b[37m\u001b[0m \u001b[1m0s\u001b[0m 12ms/step - loss: 149.4165 - r2_score: -0.3103 - val_loss: 119.3518 - val_r2_score: -0.0546\n",
      "Epoch 5/40\n",
      "\u001b[1m25/25\u001b[0m \u001b[32m━━━━━━━━━━━━━━━━━━━━\u001b[0m\u001b[37m\u001b[0m \u001b[1m0s\u001b[0m 12ms/step - loss: 106.3001 - r2_score: 0.0678 - val_loss: 88.1630 - val_r2_score: 0.2210\n",
      "Epoch 6/40\n",
      "\u001b[1m25/25\u001b[0m \u001b[32m━━━━━━━━━━━━━━━━━━━━\u001b[0m\u001b[37m\u001b[0m \u001b[1m0s\u001b[0m 10ms/step - loss: 77.7838 - r2_score: 0.3179 - val_loss: 66.7782 - val_r2_score: 0.4099\n",
      "Epoch 7/40\n",
      "\u001b[1m25/25\u001b[0m \u001b[32m━━━━━━━━━━━━━━━━━━━━\u001b[0m\u001b[37m\u001b[0m \u001b[1m0s\u001b[0m 13ms/step - loss: 59.3798 - r2_score: 0.4793 - val_loss: 53.2248 - val_r2_score: 0.5297\n",
      "Epoch 8/40\n",
      "\u001b[1m25/25\u001b[0m \u001b[32m━━━━━━━━━━━━━━━━━━━━\u001b[0m\u001b[37m\u001b[0m \u001b[1m0s\u001b[0m 9ms/step - loss: 47.6811 - r2_score: 0.5819 - val_loss: 44.6146 - val_r2_score: 0.6058\n",
      "Epoch 9/40\n",
      "\u001b[1m25/25\u001b[0m \u001b[32m━━━━━━━━━━━━━━━━━━━━\u001b[0m\u001b[37m\u001b[0m \u001b[1m0s\u001b[0m 8ms/step - loss: 40.1928 - r2_score: 0.6475 - val_loss: 38.9464 - val_r2_score: 0.6559\n",
      "Epoch 10/40\n",
      "\u001b[1m25/25\u001b[0m \u001b[32m━━━━━━━━━━━━━━━━━━━━\u001b[0m\u001b[37m\u001b[0m \u001b[1m0s\u001b[0m 9ms/step - loss: 35.3067 - r2_score: 0.6904 - val_loss: 35.1193 - val_r2_score: 0.6897\n",
      "Epoch 11/40\n",
      "\u001b[1m25/25\u001b[0m \u001b[32m━━━━━━━━━━━━━━━━━━━━\u001b[0m\u001b[37m\u001b[0m \u001b[1m0s\u001b[0m 8ms/step - loss: 32.0463 - r2_score: 0.7190 - val_loss: 32.5036 - val_r2_score: 0.7128\n",
      "Epoch 12/40\n",
      "\u001b[1m25/25\u001b[0m \u001b[32m━━━━━━━━━━━━━━━━━━━━\u001b[0m\u001b[37m\u001b[0m \u001b[1m0s\u001b[0m 14ms/step - loss: 29.8128 - r2_score: 0.7386 - val_loss: 30.6809 - val_r2_score: 0.7289\n",
      "Epoch 13/40\n",
      "\u001b[1m25/25\u001b[0m \u001b[32m━━━━━━━━━━━━━━━━━━━━\u001b[0m\u001b[37m\u001b[0m \u001b[1m0s\u001b[0m 8ms/step - loss: 28.2513 - r2_score: 0.7522 - val_loss: 29.3956 - val_r2_score: 0.7403\n",
      "Epoch 14/40\n",
      "\u001b[1m25/25\u001b[0m \u001b[32m━━━━━━━━━━━━━━━━━━━━\u001b[0m\u001b[37m\u001b[0m \u001b[1m0s\u001b[0m 13ms/step - loss: 27.1446 - r2_score: 0.7620 - val_loss: 28.4870 - val_r2_score: 0.7483\n",
      "Epoch 15/40\n",
      "\u001b[1m25/25\u001b[0m \u001b[32m━━━━━━━━━━━━━━━━━━━━\u001b[0m\u001b[37m\u001b[0m \u001b[1m0s\u001b[0m 9ms/step - loss: 26.3536 - r2_score: 0.7689 - val_loss: 27.8400 - val_r2_score: 0.7540\n",
      "Epoch 16/40\n",
      "\u001b[1m25/25\u001b[0m \u001b[32m━━━━━━━━━━━━━━━━━━━━\u001b[0m\u001b[37m\u001b[0m \u001b[1m0s\u001b[0m 10ms/step - loss: 25.7923 - r2_score: 0.7738 - val_loss: 27.3971 - val_r2_score: 0.7579\n",
      "Epoch 17/40\n",
      "\u001b[1m25/25\u001b[0m \u001b[32m━━━━━━━━━━━━━━━━━━━━\u001b[0m\u001b[37m\u001b[0m \u001b[1m0s\u001b[0m 15ms/step - loss: 25.4052 - r2_score: 0.7772 - val_loss: 27.0983 - val_r2_score: 0.7606\n",
      "Epoch 18/40\n",
      "\u001b[1m25/25\u001b[0m \u001b[32m━━━━━━━━━━━━━━━━━━━━\u001b[0m\u001b[37m\u001b[0m \u001b[1m0s\u001b[0m 8ms/step - loss: 25.1383 - r2_score: 0.7795 - val_loss: 26.9114 - val_r2_score: 0.7622\n",
      "Epoch 19/40\n",
      "\u001b[1m25/25\u001b[0m \u001b[32m━━━━━━━━━━━━━━━━━━━━\u001b[0m\u001b[37m\u001b[0m \u001b[1m0s\u001b[0m 8ms/step - loss: 24.9625 - r2_score: 0.7811 - val_loss: 26.7946 - val_r2_score: 0.7632\n",
      "Epoch 20/40\n",
      "\u001b[1m25/25\u001b[0m \u001b[32m━━━━━━━━━━━━━━━━━━━━\u001b[0m\u001b[37m\u001b[0m \u001b[1m0s\u001b[0m 10ms/step - loss: 24.8490 - r2_score: 0.7821 - val_loss: 26.7386 - val_r2_score: 0.7637\n",
      "Epoch 21/40\n",
      "\u001b[1m25/25\u001b[0m \u001b[32m━━━━━━━━━━━━━━━━━━━━\u001b[0m\u001b[37m\u001b[0m \u001b[1m0s\u001b[0m 8ms/step - loss: 24.7858 - r2_score: 0.7826 - val_loss: 26.7252 - val_r2_score: 0.7639\n",
      "Epoch 22/40\n",
      "\u001b[1m25/25\u001b[0m \u001b[32m━━━━━━━━━━━━━━━━━━━━\u001b[0m\u001b[37m\u001b[0m \u001b[1m0s\u001b[0m 8ms/step - loss: 24.7551 - r2_score: 0.7829 - val_loss: 26.7575 - val_r2_score: 0.7636\n",
      "Epoch 23/40\n",
      "\u001b[1m25/25\u001b[0m \u001b[32m━━━━━━━━━━━━━━━━━━━━\u001b[0m\u001b[37m\u001b[0m \u001b[1m0s\u001b[0m 14ms/step - loss: 24.7506 - r2_score: 0.7829 - val_loss: 26.8254 - val_r2_score: 0.7630\n",
      "Epoch 24/40\n",
      "\u001b[1m25/25\u001b[0m \u001b[32m━━━━━━━━━━━━━━━━━━━━\u001b[0m\u001b[37m\u001b[0m \u001b[1m0s\u001b[0m 8ms/step - loss: 24.7632 - r2_score: 0.7828 - val_loss: 26.9174 - val_r2_score: 0.7622\n",
      "Epoch 25/40\n",
      "\u001b[1m25/25\u001b[0m \u001b[32m━━━━━━━━━━━━━━━━━━━━\u001b[0m\u001b[37m\u001b[0m \u001b[1m0s\u001b[0m 12ms/step - loss: 24.7841 - r2_score: 0.7827 - val_loss: 27.0344 - val_r2_score: 0.7611\n",
      "Epoch 26/40\n",
      "\u001b[1m25/25\u001b[0m \u001b[32m━━━━━━━━━━━━━━━━━━━━\u001b[0m\u001b[37m\u001b[0m \u001b[1m0s\u001b[0m 12ms/step - loss: 24.8131 - r2_score: 0.7824 - val_loss: 27.1662 - val_r2_score: 0.7600\n",
      "Epoch 27/40\n",
      "\u001b[1m25/25\u001b[0m \u001b[32m━━━━━━━━━━━━━━━━━━━━\u001b[0m\u001b[37m\u001b[0m \u001b[1m0s\u001b[0m 8ms/step - loss: 24.8474 - r2_score: 0.7821 - val_loss: 27.3190 - val_r2_score: 0.7586\n",
      "Epoch 28/40\n",
      "\u001b[1m25/25\u001b[0m \u001b[32m━━━━━━━━━━━━━━━━━━━━\u001b[0m\u001b[37m\u001b[0m \u001b[1m0s\u001b[0m 9ms/step - loss: 24.8823 - r2_score: 0.7818 - val_loss: 27.4790 - val_r2_score: 0.7572\n",
      "Epoch 29/40\n",
      "\u001b[1m25/25\u001b[0m \u001b[32m━━━━━━━━━━━━━━━━━━━━\u001b[0m\u001b[37m\u001b[0m \u001b[1m0s\u001b[0m 9ms/step - loss: 24.9154 - r2_score: 0.7815 - val_loss: 27.6322 - val_r2_score: 0.7558\n",
      "Epoch 30/40\n",
      "\u001b[1m25/25\u001b[0m \u001b[32m━━━━━━━━━━━━━━━━━━━━\u001b[0m\u001b[37m\u001b[0m \u001b[1m0s\u001b[0m 8ms/step - loss: 24.9399 - r2_score: 0.7813 - val_loss: 27.7802 - val_r2_score: 0.7545\n",
      "Epoch 31/40\n",
      "\u001b[1m25/25\u001b[0m \u001b[32m━━━━━━━━━━━━━━━━━━━━\u001b[0m\u001b[37m\u001b[0m \u001b[1m0s\u001b[0m 8ms/step - loss: 24.9605 - r2_score: 0.7811 - val_loss: 27.9104 - val_r2_score: 0.7534\n",
      "Epoch 32/40\n",
      "\u001b[1m25/25\u001b[0m \u001b[32m━━━━━━━━━━━━━━━━━━━━\u001b[0m\u001b[37m\u001b[0m \u001b[1m0s\u001b[0m 10ms/step - loss: 24.9708 - r2_score: 0.7810 - val_loss: 28.0271 - val_r2_score: 0.7523\n",
      "Epoch 33/40\n",
      "\u001b[1m25/25\u001b[0m \u001b[32m━━━━━━━━━━━━━━━━━━━━\u001b[0m\u001b[37m\u001b[0m \u001b[1m0s\u001b[0m 16ms/step - loss: 24.9742 - r2_score: 0.7810 - val_loss: 28.1141 - val_r2_score: 0.7516\n",
      "Epoch 34/40\n",
      "\u001b[1m25/25\u001b[0m \u001b[32m━━━━━━━━━━━━━━━━━━━━\u001b[0m\u001b[37m\u001b[0m \u001b[1m0s\u001b[0m 8ms/step - loss: 24.9691 - r2_score: 0.7810 - val_loss: 28.1869 - val_r2_score: 0.7509\n",
      "Epoch 35/40\n",
      "\u001b[1m25/25\u001b[0m \u001b[32m━━━━━━━━━━━━━━━━━━━━\u001b[0m\u001b[37m\u001b[0m \u001b[1m0s\u001b[0m 11ms/step - loss: 24.9573 - r2_score: 0.7811 - val_loss: 28.2377 - val_r2_score: 0.7505\n",
      "Epoch 36/40\n",
      "\u001b[1m25/25\u001b[0m \u001b[32m━━━━━━━━━━━━━━━━━━━━\u001b[0m\u001b[37m\u001b[0m \u001b[1m0s\u001b[0m 14ms/step - loss: 24.9400 - r2_score: 0.7813 - val_loss: 28.2635 - val_r2_score: 0.7503\n",
      "Epoch 37/40\n",
      "\u001b[1m25/25\u001b[0m \u001b[32m━━━━━━━━━━━━━━━━━━━━\u001b[0m\u001b[37m\u001b[0m \u001b[1m0s\u001b[0m 8ms/step - loss: 24.9156 - r2_score: 0.7815 - val_loss: 28.2639 - val_r2_score: 0.7503\n",
      "Epoch 38/40\n",
      "\u001b[1m25/25\u001b[0m \u001b[32m━━━━━━━━━━━━━━━━━━━━\u001b[0m\u001b[37m\u001b[0m \u001b[1m0s\u001b[0m 9ms/step - loss: 24.8844 - r2_score: 0.7818 - val_loss: 28.2484 - val_r2_score: 0.7504\n",
      "Epoch 39/40\n",
      "\u001b[1m25/25\u001b[0m \u001b[32m━━━━━━━━━━━━━━━━━━━━\u001b[0m\u001b[37m\u001b[0m \u001b[1m0s\u001b[0m 9ms/step - loss: 24.8493 - r2_score: 0.7821 - val_loss: 28.2194 - val_r2_score: 0.7506\n",
      "Epoch 40/40\n",
      "\u001b[1m25/25\u001b[0m \u001b[32m━━━━━━━━━━━━━━━━━━━━\u001b[0m\u001b[37m\u001b[0m \u001b[1m0s\u001b[0m 9ms/step - loss: 24.8126 - r2_score: 0.7824 - val_loss: 28.1742 - val_r2_score: 0.7510\n"
     ]
    },
    {
     "data": {
      "text/plain": [
       "<keras.src.callbacks.history.History at 0x28e0b4e2dd0>"
      ]
     },
     "execution_count": 91,
     "metadata": {},
     "output_type": "execute_result"
    }
   ],
   "source": [
    "sc1=StandardScaler()\n",
    "sc2=StandardScaler()\n",
    "X1_train=sc1.fit_transform(X1)\n",
    "X2_train=sc2.fit_transform(X2)\n",
    "\n",
    "in1_layer=Input(shape=(2,))\n",
    "h11=Dense(512,activation='relu')(in1_layer)\n",
    "\n",
    "in2_layer=Input(shape=(2,))\n",
    "h21=Dense(512,activation='relu')(in2_layer)\n",
    "\n",
    "merged=Concatenate()([h11,h21])\n",
    "merged_h1=Dense(256,activation='relu')(merged)\n",
    "merged_h2=Dense(128,activation='relu')(merged_h1)\n",
    "merged_out=Dense(1,activation='linear')(merged_h2)\n",
    "\n",
    "model=Model(inputs=[in1_layer,in2_layer],outputs=merged_out)\n",
    "model.compile(loss='mse',optimizer='adam',metrics=['r2_score'])\n",
    "model.fit([X1_train,X2_train],y,epochs=40,batch_size=32,validation_split=.2)"
   ]
  },
  {
   "cell_type": "code",
   "execution_count": 97,
   "id": "f99d8f63-b53f-40f1-bf7f-6ce62898bcae",
   "metadata": {},
   "outputs": [
    {
     "name": "stdout",
     "output_type": "stream",
     "text": [
      "\u001b[1m1/1\u001b[0m \u001b[32m━━━━━━━━━━━━━━━━━━━━\u001b[0m\u001b[37m\u001b[0m \u001b[1m0s\u001b[0m 100ms/step\n"
     ]
    },
    {
     "data": {
      "text/plain": [
       "array([[66.03905]], dtype=float32)"
      ]
     },
     "execution_count": 97,
     "metadata": {},
     "output_type": "execute_result"
    }
   ],
   "source": [
    "sample_part1=np.array([[56,70]]) #att,internal\n",
    "sample_part2=np.array([[20,5]]) #study_hrs,stress\n",
    "X_test1=sc1.transform(sample_part1)\n",
    "X_test2=sc2.transform(sample_part2)\n",
    "model.predict([X_test1,X_test2])"
   ]
  },
  {
   "cell_type": "code",
   "execution_count": null,
   "id": "369f88a9-7bbe-49d9-ab88-24ec0b938eb5",
   "metadata": {},
   "outputs": [],
   "source": []
  }
 ],
 "metadata": {
  "kernelspec": {
   "display_name": "Python 3 (ipykernel)",
   "language": "python",
   "name": "python3"
  },
  "language_info": {
   "codemirror_mode": {
    "name": "ipython",
    "version": 3
   },
   "file_extension": ".py",
   "mimetype": "text/x-python",
   "name": "python",
   "nbconvert_exporter": "python",
   "pygments_lexer": "ipython3",
   "version": "3.13.5"
  }
 },
 "nbformat": 4,
 "nbformat_minor": 5
}
