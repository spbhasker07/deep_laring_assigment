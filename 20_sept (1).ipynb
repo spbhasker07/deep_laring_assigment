{
 "cells": [
  {
   "cell_type": "code",
   "execution_count": 9,
   "id": "de7055fa-42d6-4749-a382-6dbef641d19f",
   "metadata": {},
   "outputs": [],
   "source": [
    "import pandas as pd\n",
    "import numpy as np\n",
    "from tensorflow.keras.datasets.mnist import load_data\n",
    "from sklearn.preprocessing import StandardScaler\n",
    "from tensorflow.keras.models import Sequential\n",
    "from tensorflow.keras.layers import Dense,Flatten,Dropout,Conv2D,MaxPooling2D\n",
    "import tensorflow as tf\n",
    "import random"
   ]
  },
  {
   "cell_type": "code",
   "execution_count": 8,
   "id": "2339fdc1-0cd4-45af-aafc-92d75efe6a28",
   "metadata": {},
   "outputs": [
    {
     "name": "stdout",
     "output_type": "stream",
     "text": [
      "Epoch 1/5\n",
      "\u001b[1m1500/1500\u001b[0m \u001b[32m━━━━━━━━━━━━━━━━━━━━\u001b[0m\u001b[37m\u001b[0m \u001b[1m80s\u001b[0m 53ms/step - accuracy: 0.9450 - loss: 0.1819 - val_accuracy: 0.9758 - val_loss: 0.0783\n",
      "Epoch 2/5\n",
      "\u001b[1m1500/1500\u001b[0m \u001b[32m━━━━━━━━━━━━━━━━━━━━\u001b[0m\u001b[37m\u001b[0m \u001b[1m63s\u001b[0m 42ms/step - accuracy: 0.9837 - loss: 0.0541 - val_accuracy: 0.9802 - val_loss: 0.0745\n",
      "Epoch 3/5\n",
      "\u001b[1m1500/1500\u001b[0m \u001b[32m━━━━━━━━━━━━━━━━━━━━\u001b[0m\u001b[37m\u001b[0m \u001b[1m72s\u001b[0m 48ms/step - accuracy: 0.9910 - loss: 0.0303 - val_accuracy: 0.9800 - val_loss: 0.0775\n",
      "Epoch 4/5\n",
      "\u001b[1m1500/1500\u001b[0m \u001b[32m━━━━━━━━━━━━━━━━━━━━\u001b[0m\u001b[37m\u001b[0m \u001b[1m69s\u001b[0m 46ms/step - accuracy: 0.9924 - loss: 0.0229 - val_accuracy: 0.9749 - val_loss: 0.1068\n",
      "Epoch 5/5\n",
      "\u001b[1m1500/1500\u001b[0m \u001b[32m━━━━━━━━━━━━━━━━━━━━\u001b[0m\u001b[37m\u001b[0m \u001b[1m63s\u001b[0m 42ms/step - accuracy: 0.9942 - loss: 0.0169 - val_accuracy: 0.9833 - val_loss: 0.0693\n"
     ]
    },
    {
     "data": {
      "text/plain": [
       "<keras.src.callbacks.history.History at 0x19dfafb8770>"
      ]
     },
     "execution_count": 8,
     "metadata": {},
     "output_type": "execute_result"
    }
   ],
   "source": [
    "(X_train,y_train),(X_test,y_test)=load_data()\n",
    "X_train=X_train/255\n",
    "X_test=X_test/255\n",
    "\n",
    "X_train=X_train.reshape(60000,28,28,1)\n",
    "X_test=X_test.reshape(10000,28,28,1)\n",
    "\n",
    "random.seed(42)\n",
    "tf.random.set_seed(42)\n",
    "np.random.seed(42)\n",
    "\n",
    "model=Sequential()\n",
    "\n",
    "model.add(Conv2D(filters=32,kernel_size=(3,3),padding='valid',activation='relu',strides=1,))\n",
    "model.add(Flatten())\n",
    "model.add(Dense(units=128,activation='relu'))\n",
    "model.add(Dense(units=56,activation='relu'))\n",
    "model.add(Dense(units=28,activation='relu'))\n",
    "model.add(Dense(units=10,activation='softmax'))\n",
    "\n",
    "model.compile(loss='sparse_categorical_crossentropy',optimizer='adam',metrics=['accuracy'])\n",
    "\n",
    "model.fit(X_train,y_train,batch_size=32,epochs=5,validation_split=.2)"
   ]
  },
  {
   "cell_type": "code",
   "execution_count": 12,
   "id": "7822fecc-4798-4965-92de-a8ca59112b93",
   "metadata": {},
   "outputs": [
    {
     "name": "stdout",
     "output_type": "stream",
     "text": [
      "Epoch 1/5\n",
      "\u001b[1m1500/1500\u001b[0m \u001b[32m━━━━━━━━━━━━━━━━━━━━\u001b[0m\u001b[37m\u001b[0m \u001b[1m20s\u001b[0m 13ms/step - accuracy: 0.9508 - loss: 0.1627 - val_accuracy: 0.9831 - val_loss: 0.0582\n",
      "Epoch 2/5\n",
      "\u001b[1m1500/1500\u001b[0m \u001b[32m━━━━━━━━━━━━━━━━━━━━\u001b[0m\u001b[37m\u001b[0m \u001b[1m22s\u001b[0m 15ms/step - accuracy: 0.9832 - loss: 0.0544 - val_accuracy: 0.9858 - val_loss: 0.0538\n",
      "Epoch 3/5\n",
      "\u001b[1m1500/1500\u001b[0m \u001b[32m━━━━━━━━━━━━━━━━━━━━\u001b[0m\u001b[37m\u001b[0m \u001b[1m26s\u001b[0m 18ms/step - accuracy: 0.9877 - loss: 0.0386 - val_accuracy: 0.9862 - val_loss: 0.0536\n",
      "Epoch 4/5\n",
      "\u001b[1m1500/1500\u001b[0m \u001b[32m━━━━━━━━━━━━━━━━━━━━\u001b[0m\u001b[37m\u001b[0m \u001b[1m18s\u001b[0m 12ms/step - accuracy: 0.9911 - loss: 0.0287 - val_accuracy: 0.9849 - val_loss: 0.0599\n",
      "Epoch 5/5\n",
      "\u001b[1m1500/1500\u001b[0m \u001b[32m━━━━━━━━━━━━━━━━━━━━\u001b[0m\u001b[37m\u001b[0m \u001b[1m22s\u001b[0m 14ms/step - accuracy: 0.9923 - loss: 0.0236 - val_accuracy: 0.9850 - val_loss: 0.0640\n"
     ]
    },
    {
     "data": {
      "text/plain": [
       "<keras.src.callbacks.history.History at 0x19dfafb8e90>"
      ]
     },
     "execution_count": 12,
     "metadata": {},
     "output_type": "execute_result"
    }
   ],
   "source": [
    "(X_train,y_train),(X_test,y_test)=load_data()\n",
    "X_train=X_train/255\n",
    "X_test=X_test/255\n",
    "\n",
    "X_train=X_train.reshape(60000,28,28,1)\n",
    "X_test=X_test.reshape(10000,28,28,1)\n",
    "\n",
    "random.seed(42)\n",
    "tf.random.set_seed(42)\n",
    "np.random.seed(42)\n",
    "\n",
    "model=Sequential()\n",
    "\n",
    "model.add(Conv2D(filters=32,kernel_size=(3,3),padding='valid',activation='relu',strides=1))\n",
    "model.add(MaxPooling2D(pool_size=(2,2),strides=1))\n",
    "\n",
    "model.add(Conv2D(filters=16,kernel_size=(3,3),padding='valid',activation='relu',strides=1))\n",
    "model.add(MaxPooling2D(pool_size=(2,2),strides=1))\n",
    "          \n",
    "model.add(Flatten())          \n",
    "model.add(Dense(units=28,activation='relu'))\n",
    "model.add(Dense(units=10,activation='softmax'))\n",
    "\n",
    "model.compile(loss='sparse_categorical_crossentropy',optimizer='adam',metrics=['accuracy'])\n",
    "\n",
    "model.fit(X_train,y_train,batch_size=32,epochs=5,validation_split=.2)"
   ]
  },
  {
   "cell_type": "code",
   "execution_count": 13,
   "id": "23e8846c-796c-49d6-b93b-d29a8c8cd2af",
   "metadata": {},
   "outputs": [],
   "source": [
    "from tensorflow.keras.preprocessing.image import load_img,img_to_array"
   ]
  },
  {
   "cell_type": "code",
   "execution_count": 16,
   "id": "77d4fa1a-531f-418f-bba1-9a1e35c28bcf",
   "metadata": {},
   "outputs": [
    {
     "data": {
      "text/plain": [
       "(183, 275, 3)"
      ]
     },
     "execution_count": 16,
     "metadata": {},
     "output_type": "execute_result"
    }
   ],
   "source": [
    "img=img_to_array(load_img('dog.jpg'))\n",
    "img.shape"
   ]
  },
  {
   "cell_type": "code",
   "execution_count": 23,
   "id": "50b526b3-56b1-435b-aa80-538345295760",
   "metadata": {},
   "outputs": [],
   "source": [
    "gen=tf.keras.preprocessing.image.ImageDataGenerator(\n",
    "    brightness_range=(0,1),\n",
    "    zoom_range=(-2,2),\n",
    "    horizontal_flip=True,\n",
    "    vertical_flip=True)\n",
    "\n",
    "itr=gen.flow(img.reshape(1,183,275,3),save_format='png',save_prefix='img',save_to_dir=\"aug_imgs/\")\n",
    "for i in range(100):\n",
    "    next(itr)"
   ]
  },
  {
   "cell_type": "code",
   "execution_count": null,
   "id": "05136406-8836-4ab4-a37b-c603ad4adbb2",
   "metadata": {},
   "outputs": [],
   "source": []
  }
 ],
 "metadata": {
  "kernelspec": {
   "display_name": "Python 3 (ipykernel)",
   "language": "python",
   "name": "python3"
  },
  "language_info": {
   "codemirror_mode": {
    "name": "ipython",
    "version": 3
   },
   "file_extension": ".py",
   "mimetype": "text/x-python",
   "name": "python",
   "nbconvert_exporter": "python",
   "pygments_lexer": "ipython3",
   "version": "3.13.5"
  }
 },
 "nbformat": 4,
 "nbformat_minor": 5
}
