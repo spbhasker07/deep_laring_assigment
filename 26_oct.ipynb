{
 "cells": [
  {
   "cell_type": "code",
   "execution_count": 1,
   "id": "06b618e7-470b-4acc-82f2-8a14dfea9f6f",
   "metadata": {},
   "outputs": [],
   "source": [
    "import pandas as pd\n",
    "import numpy as np\n",
    "import re\n",
    "from tensorflow.keras.preprocessing.text import Tokenizer\n",
    "from tensorflow.keras.layers import SimpleRNN,Dense,Embedding,LSTM\n",
    "from tensorflow.keras.models import Sequential\n",
    "from tensorflow.keras.preprocessing.sequence import pad_sequences\n",
    "import random\n",
    "import tensorflow as tf\n",
    "import numpy as np"
   ]
  },
  {
   "cell_type": "code",
   "execution_count": 29,
   "id": "55449d56-cc41-4b21-bc54-46cc1821d5d4",
   "metadata": {},
   "outputs": [
    {
     "name": "stdout",
     "output_type": "stream",
     "text": [
      "{1: 'है', 2: 'रहा', 3: 'मौसम', 4: 'आज', 5: 'बहुत', 6: 'अच्छा', 7: 'मुझे', 8: 'चाय', 9: 'पीना', 10: 'पसंद', 11: 'वह', 12: 'स्कूल', 13: 'जा', 14: 'सूरज', 15: 'पूर्व', 16: 'दिशा', 17: 'से', 18: 'उगता', 19: 'रवि', 20: 'रोज', 21: 'सुबह', 22: 'दौड़ने', 23: 'जाता', 24: 'मां', 25: 'ने', 26: 'स्वादिष्ट', 27: 'खाना', 28: 'बनाया', 29: 'मैं', 30: 'किताब', 31: 'पढ़', 32: 'हूँ', 33: 'हम', 34: 'कल', 35: 'बाजार', 36: 'जाएंगे', 37: 'भारत', 38: 'एक', 39: 'महान', 40: 'देश', 41: 'बच्चे', 42: 'पार्क', 43: 'में', 44: 'खेल', 45: 'रहे', 46: 'हैं'}\n"
     ]
    }
   ],
   "source": [
    "corpus=[\n",
    "    'wish you a very happy birthday',\n",
    "    'python is widely used in AI and Automation',\n",
    "    'virat kohli is a cricketer',\n",
    "    'india is a great country',\n",
    "    'noida is a city in india',\n",
    "    'rajnikant is the superstar of south',\n",
    "    'Virat kohli was the captain of ODI indian cricket team',\n",
    "    'happy birthday to you'\n",
    "]\n",
    "corpus = [\n",
    "    \"मौसम आज बहुत अच्छा है\",\n",
    "    \"मुझे चाय पीना पसंद है\",\n",
    "    \"वह स्कूल जा रहा है\",\n",
    "    \"सूरज पूर्व दिशा से उगता है\",\n",
    "    \"रवि रोज सुबह दौड़ने जाता है\",\n",
    "    \"मां ने स्वादिष्ट खाना बनाया\",\n",
    "    \"मैं किताब पढ़ रहा हूँ\",\n",
    "    \"हम कल बाजार जाएंगे\",\n",
    "    \"भारत एक महान देश है\",\n",
    "    \"बच्चे पार्क में खेल रहे हैं\"\n",
    "]\n",
    "tk=Tokenizer()\n",
    "tk.fit_on_texts(corpus)\n",
    "print(tk.index_word)"
   ]
  },
  {
   "cell_type": "code",
   "execution_count": 30,
   "id": "38a58a00-8771-4396-b651-d89f1c7c9959",
   "metadata": {},
   "outputs": [
    {
     "name": "stdout",
     "output_type": "stream",
     "text": [
      "[[3, 4, 5, 6, 1], [7, 8, 9, 10, 1], [11, 12, 13, 2, 1], [14, 15, 16, 17, 18, 1], [19, 20, 21, 22, 23, 1], [24, 25, 26, 27, 28], [29, 30, 31, 2, 32], [33, 34, 35, 36], [37, 38, 39, 40, 1], [41, 42, 43, 44, 45, 46]]\n"
     ]
    }
   ],
   "source": [
    "sequences=tk.texts_to_sequences(corpus)\n",
    "print(sequences)"
   ]
  },
  {
   "cell_type": "code",
   "execution_count": 31,
   "id": "165e6b69-4313-4e9c-a539-916c61c5cdad",
   "metadata": {},
   "outputs": [
    {
     "name": "stdout",
     "output_type": "stream",
     "text": [
      "6\n"
     ]
    },
    {
     "data": {
      "text/plain": [
       "[[3, 4],\n",
       " [3, 4, 5],\n",
       " [3, 4, 5, 6],\n",
       " [3, 4, 5, 6, 1],\n",
       " [7, 8],\n",
       " [7, 8, 9],\n",
       " [7, 8, 9, 10],\n",
       " [7, 8, 9, 10, 1],\n",
       " [11, 12],\n",
       " [11, 12, 13],\n",
       " [11, 12, 13, 2],\n",
       " [11, 12, 13, 2, 1],\n",
       " [14, 15],\n",
       " [14, 15, 16],\n",
       " [14, 15, 16, 17],\n",
       " [14, 15, 16, 17, 18],\n",
       " [14, 15, 16, 17, 18, 1],\n",
       " [19, 20],\n",
       " [19, 20, 21],\n",
       " [19, 20, 21, 22],\n",
       " [19, 20, 21, 22, 23],\n",
       " [19, 20, 21, 22, 23, 1],\n",
       " [24, 25],\n",
       " [24, 25, 26],\n",
       " [24, 25, 26, 27],\n",
       " [24, 25, 26, 27, 28],\n",
       " [29, 30],\n",
       " [29, 30, 31],\n",
       " [29, 30, 31, 2],\n",
       " [29, 30, 31, 2, 32],\n",
       " [33, 34],\n",
       " [33, 34, 35],\n",
       " [33, 34, 35, 36],\n",
       " [37, 38],\n",
       " [37, 38, 39],\n",
       " [37, 38, 39, 40],\n",
       " [37, 38, 39, 40, 1],\n",
       " [41, 42],\n",
       " [41, 42, 43],\n",
       " [41, 42, 43, 44],\n",
       " [41, 42, 43, 44, 45],\n",
       " [41, 42, 43, 44, 45, 46]]"
      ]
     },
     "execution_count": 31,
     "metadata": {},
     "output_type": "execute_result"
    }
   ],
   "source": [
    "input_sequesces=[]\n",
    "maxlen=0\n",
    "for s in sequences:\n",
    "    length=len(s)\n",
    "    if length>maxlen:\n",
    "        maxlen=length\n",
    "    for i in range(1,len(s)):\n",
    "        input_sequesces.append(s[:i+1])\n",
    "print(maxlen)\n",
    "input_sequesces"
   ]
  },
  {
   "cell_type": "code",
   "execution_count": 32,
   "id": "ba2ea65f-7b57-4eff-bdf3-97b7ac2bcc0d",
   "metadata": {},
   "outputs": [
    {
     "data": {
      "text/plain": [
       "array([[ 0,  0,  0,  0,  3,  4],\n",
       "       [ 0,  0,  0,  3,  4,  5],\n",
       "       [ 0,  0,  3,  4,  5,  6],\n",
       "       [ 0,  3,  4,  5,  6,  1],\n",
       "       [ 0,  0,  0,  0,  7,  8],\n",
       "       [ 0,  0,  0,  7,  8,  9],\n",
       "       [ 0,  0,  7,  8,  9, 10],\n",
       "       [ 0,  7,  8,  9, 10,  1],\n",
       "       [ 0,  0,  0,  0, 11, 12],\n",
       "       [ 0,  0,  0, 11, 12, 13],\n",
       "       [ 0,  0, 11, 12, 13,  2],\n",
       "       [ 0, 11, 12, 13,  2,  1],\n",
       "       [ 0,  0,  0,  0, 14, 15],\n",
       "       [ 0,  0,  0, 14, 15, 16],\n",
       "       [ 0,  0, 14, 15, 16, 17],\n",
       "       [ 0, 14, 15, 16, 17, 18],\n",
       "       [14, 15, 16, 17, 18,  1],\n",
       "       [ 0,  0,  0,  0, 19, 20],\n",
       "       [ 0,  0,  0, 19, 20, 21],\n",
       "       [ 0,  0, 19, 20, 21, 22],\n",
       "       [ 0, 19, 20, 21, 22, 23],\n",
       "       [19, 20, 21, 22, 23,  1],\n",
       "       [ 0,  0,  0,  0, 24, 25],\n",
       "       [ 0,  0,  0, 24, 25, 26],\n",
       "       [ 0,  0, 24, 25, 26, 27],\n",
       "       [ 0, 24, 25, 26, 27, 28],\n",
       "       [ 0,  0,  0,  0, 29, 30],\n",
       "       [ 0,  0,  0, 29, 30, 31],\n",
       "       [ 0,  0, 29, 30, 31,  2],\n",
       "       [ 0, 29, 30, 31,  2, 32],\n",
       "       [ 0,  0,  0,  0, 33, 34],\n",
       "       [ 0,  0,  0, 33, 34, 35],\n",
       "       [ 0,  0, 33, 34, 35, 36],\n",
       "       [ 0,  0,  0,  0, 37, 38],\n",
       "       [ 0,  0,  0, 37, 38, 39],\n",
       "       [ 0,  0, 37, 38, 39, 40],\n",
       "       [ 0, 37, 38, 39, 40,  1],\n",
       "       [ 0,  0,  0,  0, 41, 42],\n",
       "       [ 0,  0,  0, 41, 42, 43],\n",
       "       [ 0,  0, 41, 42, 43, 44],\n",
       "       [ 0, 41, 42, 43, 44, 45],\n",
       "       [41, 42, 43, 44, 45, 46]], dtype=int32)"
      ]
     },
     "execution_count": 32,
     "metadata": {},
     "output_type": "execute_result"
    }
   ],
   "source": [
    "pad_input_sequences=pad_sequences(input_sequesces,maxlen=maxlen,padding='pre')\n",
    "pad_input_sequences"
   ]
  },
  {
   "cell_type": "code",
   "execution_count": 33,
   "id": "dfbb91a9-dc40-4679-9997-a2aec0e036d4",
   "metadata": {},
   "outputs": [],
   "source": [
    "X=pad_input_sequences[:,:-1]\n",
    "y=pad_input_sequences[:,-1]"
   ]
  },
  {
   "cell_type": "code",
   "execution_count": 34,
   "id": "c6511c02-553f-4022-a784-8f5c3f455a07",
   "metadata": {},
   "outputs": [
    {
     "name": "stdout",
     "output_type": "stream",
     "text": [
      "Epoch 1/50\n",
      "\u001b[1m5/5\u001b[0m \u001b[32m━━━━━━━━━━━━━━━━━━━━\u001b[0m\u001b[37m\u001b[0m \u001b[1m2s\u001b[0m 12ms/step - accuracy: 0.0000e+00 - loss: 3.8539\n",
      "Epoch 2/50\n",
      "\u001b[1m5/5\u001b[0m \u001b[32m━━━━━━━━━━━━━━━━━━━━\u001b[0m\u001b[37m\u001b[0m \u001b[1m0s\u001b[0m 9ms/step - accuracy: 0.1429 - loss: 3.8018 \n",
      "Epoch 3/50\n",
      "\u001b[1m5/5\u001b[0m \u001b[32m━━━━━━━━━━━━━━━━━━━━\u001b[0m\u001b[37m\u001b[0m \u001b[1m0s\u001b[0m 9ms/step - accuracy: 0.1905 - loss: 3.7511 \n",
      "Epoch 4/50\n",
      "\u001b[1m5/5\u001b[0m \u001b[32m━━━━━━━━━━━━━━━━━━━━\u001b[0m\u001b[37m\u001b[0m \u001b[1m0s\u001b[0m 10ms/step - accuracy: 0.2381 - loss: 3.6753\n",
      "Epoch 5/50\n",
      "\u001b[1m5/5\u001b[0m \u001b[32m━━━━━━━━━━━━━━━━━━━━\u001b[0m\u001b[37m\u001b[0m \u001b[1m0s\u001b[0m 9ms/step - accuracy: 0.1667 - loss: 3.5799 \n",
      "Epoch 6/50\n",
      "\u001b[1m5/5\u001b[0m \u001b[32m━━━━━━━━━━━━━━━━━━━━\u001b[0m\u001b[37m\u001b[0m \u001b[1m0s\u001b[0m 7ms/step - accuracy: 0.1667 - loss: 3.4793 \n",
      "Epoch 7/50\n",
      "\u001b[1m5/5\u001b[0m \u001b[32m━━━━━━━━━━━━━━━━━━━━\u001b[0m\u001b[37m\u001b[0m \u001b[1m0s\u001b[0m 9ms/step - accuracy: 0.1667 - loss: 3.3535 \n",
      "Epoch 8/50\n",
      "\u001b[1m5/5\u001b[0m \u001b[32m━━━━━━━━━━━━━━━━━━━━\u001b[0m\u001b[37m\u001b[0m \u001b[1m0s\u001b[0m 16ms/step - accuracy: 0.1667 - loss: 3.1869\n",
      "Epoch 9/50\n",
      "\u001b[1m5/5\u001b[0m \u001b[32m━━━━━━━━━━━━━━━━━━━━\u001b[0m\u001b[37m\u001b[0m \u001b[1m0s\u001b[0m 8ms/step - accuracy: 0.1905 - loss: 3.0246 \n",
      "Epoch 10/50\n",
      "\u001b[1m5/5\u001b[0m \u001b[32m━━━━━━━━━━━━━━━━━━━━\u001b[0m\u001b[37m\u001b[0m \u001b[1m0s\u001b[0m 8ms/step - accuracy: 0.1905 - loss: 2.8715 \n",
      "Epoch 11/50\n",
      "\u001b[1m5/5\u001b[0m \u001b[32m━━━━━━━━━━━━━━━━━━━━\u001b[0m\u001b[37m\u001b[0m \u001b[1m0s\u001b[0m 10ms/step - accuracy: 0.2381 - loss: 2.7076\n",
      "Epoch 12/50\n",
      "\u001b[1m5/5\u001b[0m \u001b[32m━━━━━━━━━━━━━━━━━━━━\u001b[0m\u001b[37m\u001b[0m \u001b[1m0s\u001b[0m 13ms/step - accuracy: 0.2857 - loss: 2.5434\n",
      "Epoch 13/50\n",
      "\u001b[1m5/5\u001b[0m \u001b[32m━━━━━━━━━━━━━━━━━━━━\u001b[0m\u001b[37m\u001b[0m \u001b[1m0s\u001b[0m 13ms/step - accuracy: 0.3333 - loss: 2.3786\n",
      "Epoch 14/50\n",
      "\u001b[1m5/5\u001b[0m \u001b[32m━━━━━━━━━━━━━━━━━━━━\u001b[0m\u001b[37m\u001b[0m \u001b[1m0s\u001b[0m 12ms/step - accuracy: 0.4524 - loss: 2.2077\n",
      "Epoch 15/50\n",
      "\u001b[1m5/5\u001b[0m \u001b[32m━━━━━━━━━━━━━━━━━━━━\u001b[0m\u001b[37m\u001b[0m \u001b[1m0s\u001b[0m 10ms/step - accuracy: 0.4524 - loss: 2.0297\n",
      "Epoch 16/50\n",
      "\u001b[1m5/5\u001b[0m \u001b[32m━━━━━━━━━━━━━━━━━━━━\u001b[0m\u001b[37m\u001b[0m \u001b[1m0s\u001b[0m 8ms/step - accuracy: 0.4762 - loss: 1.8588 \n",
      "Epoch 17/50\n",
      "\u001b[1m5/5\u001b[0m \u001b[32m━━━━━━━━━━━━━━━━━━━━\u001b[0m\u001b[37m\u001b[0m \u001b[1m0s\u001b[0m 7ms/step - accuracy: 0.5238 - loss: 1.6612 \n",
      "Epoch 18/50\n",
      "\u001b[1m5/5\u001b[0m \u001b[32m━━━━━━━━━━━━━━━━━━━━\u001b[0m\u001b[37m\u001b[0m \u001b[1m0s\u001b[0m 10ms/step - accuracy: 0.5952 - loss: 1.5141\n",
      "Epoch 19/50\n",
      "\u001b[1m5/5\u001b[0m \u001b[32m━━━━━━━━━━━━━━━━━━━━\u001b[0m\u001b[37m\u001b[0m \u001b[1m0s\u001b[0m 9ms/step - accuracy: 0.6667 - loss: 1.3659 \n",
      "Epoch 20/50\n",
      "\u001b[1m5/5\u001b[0m \u001b[32m━━━━━━━━━━━━━━━━━━━━\u001b[0m\u001b[37m\u001b[0m \u001b[1m0s\u001b[0m 8ms/step - accuracy: 0.6667 - loss: 1.2311 \n",
      "Epoch 21/50\n",
      "\u001b[1m5/5\u001b[0m \u001b[32m━━━━━━━━━━━━━━━━━━━━\u001b[0m\u001b[37m\u001b[0m \u001b[1m0s\u001b[0m 8ms/step - accuracy: 0.6667 - loss: 1.1305 \n",
      "Epoch 22/50\n",
      "\u001b[1m5/5\u001b[0m \u001b[32m━━━━━━━━━━━━━━━━━━━━\u001b[0m\u001b[37m\u001b[0m \u001b[1m0s\u001b[0m 15ms/step - accuracy: 0.7381 - loss: 1.0186\n",
      "Epoch 23/50\n",
      "\u001b[1m5/5\u001b[0m \u001b[32m━━━━━━━━━━━━━━━━━━━━\u001b[0m\u001b[37m\u001b[0m \u001b[1m0s\u001b[0m 13ms/step - accuracy: 0.8571 - loss: 0.9079\n",
      "Epoch 24/50\n",
      "\u001b[1m5/5\u001b[0m \u001b[32m━━━━━━━━━━━━━━━━━━━━\u001b[0m\u001b[37m\u001b[0m \u001b[1m0s\u001b[0m 12ms/step - accuracy: 0.9048 - loss: 0.8159\n",
      "Epoch 25/50\n",
      "\u001b[1m5/5\u001b[0m \u001b[32m━━━━━━━━━━━━━━━━━━━━\u001b[0m\u001b[37m\u001b[0m \u001b[1m0s\u001b[0m 9ms/step - accuracy: 0.8810 - loss: 0.7399 \n",
      "Epoch 26/50\n",
      "\u001b[1m5/5\u001b[0m \u001b[32m━━━━━━━━━━━━━━━━━━━━\u001b[0m\u001b[37m\u001b[0m \u001b[1m0s\u001b[0m 10ms/step - accuracy: 0.9286 - loss: 0.6685\n",
      "Epoch 27/50\n",
      "\u001b[1m5/5\u001b[0m \u001b[32m━━━━━━━━━━━━━━━━━━━━\u001b[0m\u001b[37m\u001b[0m \u001b[1m0s\u001b[0m 8ms/step - accuracy: 0.9048 - loss: 0.6125 \n",
      "Epoch 28/50\n",
      "\u001b[1m5/5\u001b[0m \u001b[32m━━━━━━━━━━━━━━━━━━━━\u001b[0m\u001b[37m\u001b[0m \u001b[1m0s\u001b[0m 8ms/step - accuracy: 0.9524 - loss: 0.5572 \n",
      "Epoch 29/50\n",
      "\u001b[1m5/5\u001b[0m \u001b[32m━━━━━━━━━━━━━━━━━━━━\u001b[0m\u001b[37m\u001b[0m \u001b[1m0s\u001b[0m 9ms/step - accuracy: 0.9286 - loss: 0.5277 \n",
      "Epoch 30/50\n",
      "\u001b[1m5/5\u001b[0m \u001b[32m━━━━━━━━━━━━━━━━━━━━\u001b[0m\u001b[37m\u001b[0m \u001b[1m0s\u001b[0m 11ms/step - accuracy: 0.9286 - loss: 0.4742\n",
      "Epoch 31/50\n",
      "\u001b[1m5/5\u001b[0m \u001b[32m━━━━━━━━━━━━━━━━━━━━\u001b[0m\u001b[37m\u001b[0m \u001b[1m0s\u001b[0m 22ms/step - accuracy: 0.9762 - loss: 0.4373\n",
      "Epoch 32/50\n",
      "\u001b[1m5/5\u001b[0m \u001b[32m━━━━━━━━━━━━━━━━━━━━\u001b[0m\u001b[37m\u001b[0m \u001b[1m0s\u001b[0m 16ms/step - accuracy: 0.9048 - loss: 0.4093\n",
      "Epoch 33/50\n",
      "\u001b[1m5/5\u001b[0m \u001b[32m━━━━━━━━━━━━━━━━━━━━\u001b[0m\u001b[37m\u001b[0m \u001b[1m0s\u001b[0m 9ms/step - accuracy: 0.9524 - loss: 0.4412 \n",
      "Epoch 34/50\n",
      "\u001b[1m5/5\u001b[0m \u001b[32m━━━━━━━━━━━━━━━━━━━━\u001b[0m\u001b[37m\u001b[0m \u001b[1m0s\u001b[0m 8ms/step - accuracy: 0.8571 - loss: 0.4754 \n",
      "Epoch 35/50\n",
      "\u001b[1m5/5\u001b[0m \u001b[32m━━━━━━━━━━━━━━━━━━━━\u001b[0m\u001b[37m\u001b[0m \u001b[1m0s\u001b[0m 9ms/step - accuracy: 0.9286 - loss: 0.4899 \n",
      "Epoch 36/50\n",
      "\u001b[1m5/5\u001b[0m \u001b[32m━━━━━━━━━━━━━━━━━━━━\u001b[0m\u001b[37m\u001b[0m \u001b[1m0s\u001b[0m 8ms/step - accuracy: 0.9048 - loss: 0.3770 \n",
      "Epoch 37/50\n",
      "\u001b[1m5/5\u001b[0m \u001b[32m━━━━━━━━━━━━━━━━━━━━\u001b[0m\u001b[37m\u001b[0m \u001b[1m0s\u001b[0m 8ms/step - accuracy: 0.9762 - loss: 0.3178 \n",
      "Epoch 38/50\n",
      "\u001b[1m5/5\u001b[0m \u001b[32m━━━━━━━━━━━━━━━━━━━━\u001b[0m\u001b[37m\u001b[0m \u001b[1m0s\u001b[0m 10ms/step - accuracy: 1.0000 - loss: 0.2469\n",
      "Epoch 39/50\n",
      "\u001b[1m5/5\u001b[0m \u001b[32m━━━━━━━━━━━━━━━━━━━━\u001b[0m\u001b[37m\u001b[0m \u001b[1m0s\u001b[0m 10ms/step - accuracy: 1.0000 - loss: 0.2328\n",
      "Epoch 40/50\n",
      "\u001b[1m5/5\u001b[0m \u001b[32m━━━━━━━━━━━━━━━━━━━━\u001b[0m\u001b[37m\u001b[0m \u001b[1m0s\u001b[0m 14ms/step - accuracy: 1.0000 - loss: 0.1996\n",
      "Epoch 41/50\n",
      "\u001b[1m5/5\u001b[0m \u001b[32m━━━━━━━━━━━━━━━━━━━━\u001b[0m\u001b[37m\u001b[0m \u001b[1m0s\u001b[0m 10ms/step - accuracy: 1.0000 - loss: 0.1761\n",
      "Epoch 42/50\n",
      "\u001b[1m5/5\u001b[0m \u001b[32m━━━━━━━━━━━━━━━━━━━━\u001b[0m\u001b[37m\u001b[0m \u001b[1m0s\u001b[0m 10ms/step - accuracy: 1.0000 - loss: 0.1567\n",
      "Epoch 43/50\n",
      "\u001b[1m5/5\u001b[0m \u001b[32m━━━━━━━━━━━━━━━━━━━━\u001b[0m\u001b[37m\u001b[0m \u001b[1m0s\u001b[0m 8ms/step - accuracy: 1.0000 - loss: 0.1388 \n",
      "Epoch 44/50\n",
      "\u001b[1m5/5\u001b[0m \u001b[32m━━━━━━━━━━━━━━━━━━━━\u001b[0m\u001b[37m\u001b[0m \u001b[1m0s\u001b[0m 10ms/step - accuracy: 1.0000 - loss: 0.1240\n",
      "Epoch 45/50\n",
      "\u001b[1m5/5\u001b[0m \u001b[32m━━━━━━━━━━━━━━━━━━━━\u001b[0m\u001b[37m\u001b[0m \u001b[1m0s\u001b[0m 10ms/step - accuracy: 1.0000 - loss: 0.1110\n",
      "Epoch 46/50\n",
      "\u001b[1m5/5\u001b[0m \u001b[32m━━━━━━━━━━━━━━━━━━━━\u001b[0m\u001b[37m\u001b[0m \u001b[1m0s\u001b[0m 12ms/step - accuracy: 1.0000 - loss: 0.1000\n",
      "Epoch 47/50\n",
      "\u001b[1m5/5\u001b[0m \u001b[32m━━━━━━━━━━━━━━━━━━━━\u001b[0m\u001b[37m\u001b[0m \u001b[1m0s\u001b[0m 9ms/step - accuracy: 1.0000 - loss: 0.0897 \n",
      "Epoch 48/50\n",
      "\u001b[1m5/5\u001b[0m \u001b[32m━━━━━━━━━━━━━━━━━━━━\u001b[0m\u001b[37m\u001b[0m \u001b[1m0s\u001b[0m 8ms/step - accuracy: 1.0000 - loss: 0.0813 \n",
      "Epoch 49/50\n",
      "\u001b[1m5/5\u001b[0m \u001b[32m━━━━━━━━━━━━━━━━━━━━\u001b[0m\u001b[37m\u001b[0m \u001b[1m0s\u001b[0m 9ms/step - accuracy: 1.0000 - loss: 0.0730 \n",
      "Epoch 50/50\n",
      "\u001b[1m5/5\u001b[0m \u001b[32m━━━━━━━━━━━━━━━━━━━━\u001b[0m\u001b[37m\u001b[0m \u001b[1m0s\u001b[0m 10ms/step - accuracy: 1.0000 - loss: 0.0658\n"
     ]
    },
    {
     "data": {
      "text/plain": [
       "<keras.src.callbacks.history.History at 0x2401005c550>"
      ]
     },
     "execution_count": 34,
     "metadata": {},
     "output_type": "execute_result"
    }
   ],
   "source": [
    "random.seed(42)\n",
    "tf.random.set_seed(42)\n",
    "np.random.seed(42)\n",
    "\n",
    "model=Sequential()\n",
    "model.add(Embedding(input_dim=len(tk.index_word)+1,output_dim=50))\n",
    "model.add(SimpleRNN(units=200))\n",
    "model.add(Dense(units=100,activation='relu'))\n",
    "model.add(Dense(units=50,activation='relu'))\n",
    "model.add(Dense(units=len(tk.index_word)+1,activation='softmax'))\n",
    "model.compile(loss='sparse_categorical_crossentropy',optimizer='adam',metrics=['accuracy'])\n",
    "model.fit(X,y,batch_size=10,epochs=50)"
   ]
  },
  {
   "cell_type": "code",
   "execution_count": 36,
   "id": "a488f2ed-18d6-4e2e-9a78-2a5808b61bb3",
   "metadata": {},
   "outputs": [
    {
     "name": "stdout",
     "output_type": "stream",
     "text": [
      "[[24]]\n",
      "[[ 0  0  0  0  0 24]]\n",
      "\u001b[1m1/1\u001b[0m \u001b[32m━━━━━━━━━━━━━━━━━━━━\u001b[0m\u001b[37m\u001b[0m \u001b[1m0s\u001b[0m 52ms/step\n",
      "ने\n"
     ]
    }
   ],
   "source": [
    "text='मां'\n",
    "seq=tk.texts_to_sequences([text])\n",
    "print(seq)\n",
    "pad_seq=pad_sequences(seq,maxlen=maxlen,padding='pre')\n",
    "print(pad_seq)\n",
    "\n",
    "index=np.argmax(model.predict(pad_seq))\n",
    "print(tk.index_word[index])"
   ]
  },
  {
   "cell_type": "code",
   "execution_count": 37,
   "id": "4d4a1f35-fb4d-4207-bd88-7ca1f49525f1",
   "metadata": {},
   "outputs": [
    {
     "name": "stdout",
     "output_type": "stream",
     "text": [
      "मौसम\n",
      "[[3]]\n",
      "[[0 0 0 0 0 3]]\n",
      "\u001b[1m1/1\u001b[0m \u001b[32m━━━━━━━━━━━━━━━━━━━━\u001b[0m\u001b[37m\u001b[0m \u001b[1m0s\u001b[0m 45ms/step\n",
      "आज\n",
      "मौसम आज\n",
      "[[3, 4]]\n",
      "[[0 0 0 0 3 4]]\n",
      "\u001b[1m1/1\u001b[0m \u001b[32m━━━━━━━━━━━━━━━━━━━━\u001b[0m\u001b[37m\u001b[0m \u001b[1m0s\u001b[0m 31ms/step\n",
      "बहुत\n",
      "मौसम आज बहुत\n",
      "[[3, 4, 5]]\n",
      "[[0 0 0 3 4 5]]\n",
      "\u001b[1m1/1\u001b[0m \u001b[32m━━━━━━━━━━━━━━━━━━━━\u001b[0m\u001b[37m\u001b[0m \u001b[1m0s\u001b[0m 37ms/step\n",
      "अच्छा\n",
      "मौसम आज बहुत अच्छा\n",
      "[[3, 4, 5, 6]]\n",
      "[[0 0 3 4 5 6]]\n",
      "\u001b[1m1/1\u001b[0m \u001b[32m━━━━━━━━━━━━━━━━━━━━\u001b[0m\u001b[37m\u001b[0m \u001b[1m0s\u001b[0m 38ms/step\n",
      "है\n"
     ]
    }
   ],
   "source": [
    "text='मौसम'\n",
    "for i in range(4):\n",
    "    print(text)\n",
    "    seq=tk.texts_to_sequences([text])\n",
    "    print(seq)\n",
    "    pad_seq=pad_sequences(seq,maxlen=maxlen,padding='pre')\n",
    "    print(pad_seq)\n",
    "    \n",
    "    index=np.argmax(model.predict(pad_seq))\n",
    "    nextword=tk.index_word[index]\n",
    "    print(nextword)\n",
    "    text=text+' '+nextword"
   ]
  },
  {
   "cell_type": "code",
   "execution_count": 38,
   "id": "303dc32a-82d2-4aa2-8d37-2e9c954ed2b7",
   "metadata": {},
   "outputs": [
    {
     "name": "stdout",
     "output_type": "stream",
     "text": [
      "Epoch 1/50\n",
      "\u001b[1m9/9\u001b[0m \u001b[32m━━━━━━━━━━━━━━━━━━━━\u001b[0m\u001b[37m\u001b[0m \u001b[1m2s\u001b[0m 7ms/step - accuracy: 0.0238 - loss: 4.4009    \n",
      "Epoch 2/50\n",
      "\u001b[1m9/9\u001b[0m \u001b[32m━━━━━━━━━━━━━━━━━━━━\u001b[0m\u001b[37m\u001b[0m \u001b[1m0s\u001b[0m 7ms/step - accuracy: 0.0714 - loss: 4.3492     \n",
      "Epoch 3/50\n",
      "\u001b[1m9/9\u001b[0m \u001b[32m━━━━━━━━━━━━━━━━━━━━\u001b[0m\u001b[37m\u001b[0m \u001b[1m0s\u001b[0m 7ms/step - accuracy: 0.0833 - loss: 4.2825 \n",
      "Epoch 4/50\n",
      "\u001b[1m9/9\u001b[0m \u001b[32m━━━━━━━━━━━━━━━━━━━━\u001b[0m\u001b[37m\u001b[0m \u001b[1m0s\u001b[0m 7ms/step - accuracy: 0.0952 - loss: 4.2141 \n",
      "Epoch 5/50\n",
      "\u001b[1m9/9\u001b[0m \u001b[32m━━━━━━━━━━━━━━━━━━━━\u001b[0m\u001b[37m\u001b[0m \u001b[1m0s\u001b[0m 6ms/step - accuracy: 0.0952 - loss: 4.1091 \n",
      "Epoch 6/50\n",
      "\u001b[1m9/9\u001b[0m \u001b[32m━━━━━━━━━━━━━━━━━━━━\u001b[0m\u001b[37m\u001b[0m \u001b[1m0s\u001b[0m 6ms/step - accuracy: 0.1071 - loss: 3.9837 \n",
      "Epoch 7/50\n",
      "\u001b[1m9/9\u001b[0m \u001b[32m━━━━━━━━━━━━━━━━━━━━\u001b[0m\u001b[37m\u001b[0m \u001b[1m0s\u001b[0m 6ms/step - accuracy: 0.1310 - loss: 3.8442 \n",
      "Epoch 8/50\n",
      "\u001b[1m9/9\u001b[0m \u001b[32m━━━━━━━━━━━━━━━━━━━━\u001b[0m\u001b[37m\u001b[0m \u001b[1m0s\u001b[0m 13ms/step - accuracy: 0.1429 - loss: 3.6556\n",
      "Epoch 9/50\n",
      "\u001b[1m9/9\u001b[0m \u001b[32m━━━━━━━━━━━━━━━━━━━━\u001b[0m\u001b[37m\u001b[0m \u001b[1m0s\u001b[0m 5ms/step - accuracy: 0.1667 - loss: 3.4668 \n",
      "Epoch 10/50\n",
      "\u001b[1m9/9\u001b[0m \u001b[32m━━━━━━━━━━━━━━━━━━━━\u001b[0m\u001b[37m\u001b[0m \u001b[1m0s\u001b[0m 6ms/step - accuracy: 0.2143 - loss: 3.2677 \n",
      "Epoch 11/50\n",
      "\u001b[1m9/9\u001b[0m \u001b[32m━━━━━━━━━━━━━━━━━━━━\u001b[0m\u001b[37m\u001b[0m \u001b[1m0s\u001b[0m 6ms/step - accuracy: 0.2500 - loss: 3.0802 \n",
      "Epoch 12/50\n",
      "\u001b[1m9/9\u001b[0m \u001b[32m━━━━━━━━━━━━━━━━━━━━\u001b[0m\u001b[37m\u001b[0m \u001b[1m0s\u001b[0m 6ms/step - accuracy: 0.3452 - loss: 2.9555 \n",
      "Epoch 13/50\n",
      "\u001b[1m9/9\u001b[0m \u001b[32m━━━━━━━━━━━━━━━━━━━━\u001b[0m\u001b[37m\u001b[0m \u001b[1m0s\u001b[0m 6ms/step - accuracy: 0.4048 - loss: 2.8541 \n",
      "Epoch 14/50\n",
      "\u001b[1m9/9\u001b[0m \u001b[32m━━━━━━━━━━━━━━━━━━━━\u001b[0m\u001b[37m\u001b[0m \u001b[1m0s\u001b[0m 7ms/step - accuracy: 0.3571 - loss: 2.7253 \n",
      "Epoch 15/50\n",
      "\u001b[1m9/9\u001b[0m \u001b[32m━━━━━━━━━━━━━━━━━━━━\u001b[0m\u001b[37m\u001b[0m \u001b[1m0s\u001b[0m 7ms/step - accuracy: 0.3929 - loss: 2.5353 \n",
      "Epoch 16/50\n",
      "\u001b[1m9/9\u001b[0m \u001b[32m━━━━━━━━━━━━━━━━━━━━\u001b[0m\u001b[37m\u001b[0m \u001b[1m0s\u001b[0m 6ms/step - accuracy: 0.4405 - loss: 2.2809 \n",
      "Epoch 17/50\n",
      "\u001b[1m9/9\u001b[0m \u001b[32m━━━━━━━━━━━━━━━━━━━━\u001b[0m\u001b[37m\u001b[0m \u001b[1m0s\u001b[0m 8ms/step - accuracy: 0.4762 - loss: 2.0641 \n",
      "Epoch 18/50\n",
      "\u001b[1m9/9\u001b[0m \u001b[32m━━━━━━━━━━━━━━━━━━━━\u001b[0m\u001b[37m\u001b[0m \u001b[1m0s\u001b[0m 7ms/step - accuracy: 0.5238 - loss: 1.8858 \n",
      "Epoch 19/50\n",
      "\u001b[1m9/9\u001b[0m \u001b[32m━━━━━━━━━━━━━━━━━━━━\u001b[0m\u001b[37m\u001b[0m \u001b[1m0s\u001b[0m 7ms/step - accuracy: 0.5595 - loss: 1.7113 \n",
      "Epoch 20/50\n",
      "\u001b[1m9/9\u001b[0m \u001b[32m━━━━━━━━━━━━━━━━━━━━\u001b[0m\u001b[37m\u001b[0m \u001b[1m0s\u001b[0m 7ms/step - accuracy: 0.6429 - loss: 1.5115 \n",
      "Epoch 21/50\n",
      "\u001b[1m9/9\u001b[0m \u001b[32m━━━━━━━━━━━━━━━━━━━━\u001b[0m\u001b[37m\u001b[0m \u001b[1m0s\u001b[0m 7ms/step - accuracy: 0.6786 - loss: 1.3453 \n",
      "Epoch 22/50\n",
      "\u001b[1m9/9\u001b[0m \u001b[32m━━━━━━━━━━━━━━━━━━━━\u001b[0m\u001b[37m\u001b[0m \u001b[1m0s\u001b[0m 7ms/step - accuracy: 0.7262 - loss: 1.1955 \n",
      "Epoch 23/50\n",
      "\u001b[1m9/9\u001b[0m \u001b[32m━━━━━━━━━━━━━━━━━━━━\u001b[0m\u001b[37m\u001b[0m \u001b[1m0s\u001b[0m 7ms/step - accuracy: 0.7738 - loss: 1.0683 \n",
      "Epoch 24/50\n",
      "\u001b[1m9/9\u001b[0m \u001b[32m━━━━━━━━━━━━━━━━━━━━\u001b[0m\u001b[37m\u001b[0m \u001b[1m0s\u001b[0m 8ms/step - accuracy: 0.8095 - loss: 0.9304 \n",
      "Epoch 25/50\n",
      "\u001b[1m9/9\u001b[0m \u001b[32m━━━━━━━━━━━━━━━━━━━━\u001b[0m\u001b[37m\u001b[0m \u001b[1m0s\u001b[0m 7ms/step - accuracy: 0.8214 - loss: 0.8395 \n",
      "Epoch 26/50\n",
      "\u001b[1m9/9\u001b[0m \u001b[32m━━━━━━━━━━━━━━━━━━━━\u001b[0m\u001b[37m\u001b[0m \u001b[1m0s\u001b[0m 7ms/step - accuracy: 0.8690 - loss: 0.7140 \n",
      "Epoch 27/50\n",
      "\u001b[1m9/9\u001b[0m \u001b[32m━━━━━━━━━━━━━━━━━━━━\u001b[0m\u001b[37m\u001b[0m \u001b[1m0s\u001b[0m 7ms/step - accuracy: 0.8810 - loss: 0.6460 \n",
      "Epoch 28/50\n",
      "\u001b[1m9/9\u001b[0m \u001b[32m━━━━━━━━━━━━━━━━━━━━\u001b[0m\u001b[37m\u001b[0m \u001b[1m0s\u001b[0m 6ms/step - accuracy: 0.8810 - loss: 0.5656 \n",
      "Epoch 29/50\n",
      "\u001b[1m9/9\u001b[0m \u001b[32m━━━━━━━━━━━━━━━━━━━━\u001b[0m\u001b[37m\u001b[0m \u001b[1m0s\u001b[0m 6ms/step - accuracy: 0.8929 - loss: 0.4921 \n",
      "Epoch 30/50\n",
      "\u001b[1m9/9\u001b[0m \u001b[32m━━━━━━━━━━━━━━━━━━━━\u001b[0m\u001b[37m\u001b[0m \u001b[1m0s\u001b[0m 6ms/step - accuracy: 0.9405 - loss: 0.4265 \n",
      "Epoch 31/50\n",
      "\u001b[1m9/9\u001b[0m \u001b[32m━━━━━━━━━━━━━━━━━━━━\u001b[0m\u001b[37m\u001b[0m \u001b[1m0s\u001b[0m 7ms/step - accuracy: 0.9167 - loss: 0.3832 \n",
      "Epoch 32/50\n",
      "\u001b[1m9/9\u001b[0m \u001b[32m━━━━━━━━━━━━━━━━━━━━\u001b[0m\u001b[37m\u001b[0m \u001b[1m0s\u001b[0m 7ms/step - accuracy: 0.9405 - loss: 0.3334 \n",
      "Epoch 33/50\n",
      "\u001b[1m9/9\u001b[0m \u001b[32m━━━━━━━━━━━━━━━━━━━━\u001b[0m\u001b[37m\u001b[0m \u001b[1m0s\u001b[0m 6ms/step - accuracy: 0.9524 - loss: 0.2995 \n",
      "Epoch 34/50\n",
      "\u001b[1m9/9\u001b[0m \u001b[32m━━━━━━━━━━━━━━━━━━━━\u001b[0m\u001b[37m\u001b[0m \u001b[1m0s\u001b[0m 6ms/step - accuracy: 0.9524 - loss: 0.2650 \n",
      "Epoch 35/50\n",
      "\u001b[1m9/9\u001b[0m \u001b[32m━━━━━━━━━━━━━━━━━━━━\u001b[0m\u001b[37m\u001b[0m \u001b[1m0s\u001b[0m 7ms/step - accuracy: 0.9762 - loss: 0.2401 \n",
      "Epoch 36/50\n",
      "\u001b[1m9/9\u001b[0m \u001b[32m━━━━━━━━━━━━━━━━━━━━\u001b[0m\u001b[37m\u001b[0m \u001b[1m0s\u001b[0m 7ms/step - accuracy: 0.9643 - loss: 0.2109 \n",
      "Epoch 37/50\n",
      "\u001b[1m9/9\u001b[0m \u001b[32m━━━━━━━━━━━━━━━━━━━━\u001b[0m\u001b[37m\u001b[0m \u001b[1m0s\u001b[0m 7ms/step - accuracy: 0.9762 - loss: 0.1889 \n",
      "Epoch 38/50\n",
      "\u001b[1m9/9\u001b[0m \u001b[32m━━━━━━━━━━━━━━━━━━━━\u001b[0m\u001b[37m\u001b[0m \u001b[1m0s\u001b[0m 7ms/step - accuracy: 0.9762 - loss: 0.1635 \n",
      "Epoch 39/50\n",
      "\u001b[1m9/9\u001b[0m \u001b[32m━━━━━━━━━━━━━━━━━━━━\u001b[0m\u001b[37m\u001b[0m \u001b[1m0s\u001b[0m 7ms/step - accuracy: 0.9762 - loss: 0.1520 \n",
      "Epoch 40/50\n",
      "\u001b[1m9/9\u001b[0m \u001b[32m━━━━━━━━━━━━━━━━━━━━\u001b[0m\u001b[37m\u001b[0m \u001b[1m0s\u001b[0m 7ms/step - accuracy: 0.9762 - loss: 0.1331 \n",
      "Epoch 41/50\n",
      "\u001b[1m9/9\u001b[0m \u001b[32m━━━━━━━━━━━━━━━━━━━━\u001b[0m\u001b[37m\u001b[0m \u001b[1m0s\u001b[0m 7ms/step - accuracy: 0.9762 - loss: 0.1185 \n",
      "Epoch 42/50\n",
      "\u001b[1m9/9\u001b[0m \u001b[32m━━━━━━━━━━━━━━━━━━━━\u001b[0m\u001b[37m\u001b[0m \u001b[1m0s\u001b[0m 7ms/step - accuracy: 0.9762 - loss: 0.1055 \n",
      "Epoch 43/50\n",
      "\u001b[1m9/9\u001b[0m \u001b[32m━━━━━━━━━━━━━━━━━━━━\u001b[0m\u001b[37m\u001b[0m \u001b[1m0s\u001b[0m 8ms/step - accuracy: 0.9762 - loss: 0.0992 \n",
      "Epoch 44/50\n",
      "\u001b[1m9/9\u001b[0m \u001b[32m━━━━━━━━━━━━━━━━━━━━\u001b[0m\u001b[37m\u001b[0m \u001b[1m0s\u001b[0m 7ms/step - accuracy: 0.9762 - loss: 0.0898 \n",
      "Epoch 45/50\n",
      "\u001b[1m9/9\u001b[0m \u001b[32m━━━━━━━━━━━━━━━━━━━━\u001b[0m\u001b[37m\u001b[0m \u001b[1m0s\u001b[0m 6ms/step - accuracy: 0.9762 - loss: 0.0877 \n",
      "Epoch 46/50\n",
      "\u001b[1m9/9\u001b[0m \u001b[32m━━━━━━━━━━━━━━━━━━━━\u001b[0m\u001b[37m\u001b[0m \u001b[1m0s\u001b[0m 7ms/step - accuracy: 0.9762 - loss: 0.0812 \n",
      "Epoch 47/50\n",
      "\u001b[1m9/9\u001b[0m \u001b[32m━━━━━━━━━━━━━━━━━━━━\u001b[0m\u001b[37m\u001b[0m \u001b[1m0s\u001b[0m 7ms/step - accuracy: 0.9762 - loss: 0.0751 \n",
      "Epoch 48/50\n",
      "\u001b[1m9/9\u001b[0m \u001b[32m━━━━━━━━━━━━━━━━━━━━\u001b[0m\u001b[37m\u001b[0m \u001b[1m0s\u001b[0m 7ms/step - accuracy: 0.9762 - loss: 0.0710 \n",
      "Epoch 49/50\n",
      "\u001b[1m9/9\u001b[0m \u001b[32m━━━━━━━━━━━━━━━━━━━━\u001b[0m\u001b[37m\u001b[0m \u001b[1m0s\u001b[0m 6ms/step - accuracy: 0.9762 - loss: 0.0716 \n",
      "Epoch 50/50\n",
      "\u001b[1m9/9\u001b[0m \u001b[32m━━━━━━━━━━━━━━━━━━━━\u001b[0m\u001b[37m\u001b[0m \u001b[1m0s\u001b[0m 9ms/step - accuracy: 0.9762 - loss: 0.0683 \n"
     ]
    },
    {
     "data": {
      "text/plain": [
       "<keras.src.callbacks.history.History at 0x2401005f9d0>"
      ]
     },
     "execution_count": 38,
     "metadata": {},
     "output_type": "execute_result"
    }
   ],
   "source": [
    "corpus=[\n",
    "    'wish you a very happy birthday',\n",
    "    'python is widely used in AI and Automation',\n",
    "    'virat kohli is a cricketer',\n",
    "    'india is a great country',\n",
    "    'noida is a city in india',\n",
    "    'rajnikant is the superstar of south',\n",
    "    'Virat kohli was the captain of ODI indian cricket team',\n",
    "    'happy birthday to you',\n",
    "    \"मौसम आज बहुत अच्छा है\",\n",
    "    \"मुझे चाय पीना पसंद है\",\n",
    "    \"वह स्कूल जा रहा है\",\n",
    "    \"सूरज पूर्व दिशा से उगता है\",\n",
    "    \"रवि रोज सुबह दौड़ने जाता है\",\n",
    "    \"मां ने स्वादिष्ट खाना बनाया\",\n",
    "    \"मैं किताब पढ़ रहा हूँ\",\n",
    "    \"हम कल बाजार जाएंगे\",\n",
    "    \"भारत एक महान देश है\",\n",
    "    \"बच्चे पार्क में खेल रहे हैं\"\n",
    "]\n",
    "tk=Tokenizer()\n",
    "tk.fit_on_texts(corpus)\n",
    "sequences=tk.texts_to_sequences(corpus)\n",
    "input_sequesces=[]\n",
    "maxlen=0\n",
    "for s in sequences:\n",
    "    length=len(s)\n",
    "    if length>maxlen:\n",
    "        maxlen=length\n",
    "    for i in range(1,len(s)):\n",
    "        input_sequesces.append(s[:i+1])\n",
    "pad_input_sequences=pad_sequences(input_sequesces,maxlen=maxlen,padding='pre')\n",
    "X=pad_input_sequences[:,:-1]\n",
    "y=pad_input_sequences[:,-1]\n",
    "\n",
    "random.seed(42)\n",
    "tf.random.set_seed(42)\n",
    "np.random.seed(42)\n",
    "\n",
    "model=Sequential()\n",
    "model.add(Embedding(input_dim=len(tk.index_word)+1,output_dim=50))\n",
    "model.add(SimpleRNN(units=200))\n",
    "model.add(Dense(units=100,activation='relu'))\n",
    "model.add(Dense(units=50,activation='relu'))\n",
    "model.add(Dense(units=len(tk.index_word)+1,activation='softmax'))\n",
    "model.compile(loss='sparse_categorical_crossentropy',optimizer='adam',metrics=['accuracy'])\n",
    "model.fit(X,y,batch_size=10,epochs=50)"
   ]
  },
  {
   "cell_type": "code",
   "execution_count": 40,
   "id": "dbc996e6-cef9-48c3-8204-46f68ce42a16",
   "metadata": {},
   "outputs": [
    {
     "name": "stdout",
     "output_type": "stream",
     "text": [
      "[[8]]\n",
      "[[0 0 0 0 0 0 0 0 0 8]]\n",
      "\u001b[1m1/1\u001b[0m \u001b[32m━━━━━━━━━━━━━━━━━━━━\u001b[0m\u001b[37m\u001b[0m \u001b[1m0s\u001b[0m 54ms/step\n",
      "kohli\n"
     ]
    }
   ],
   "source": [
    "text='virat'\n",
    "seq=tk.texts_to_sequences([text])\n",
    "print(seq)\n",
    "pad_seq=pad_sequences(seq,maxlen=maxlen,padding='pre')\n",
    "print(pad_seq)\n",
    "\n",
    "index=np.argmax(model.predict(pad_seq))\n",
    "print(tk.index_word[index])"
   ]
  },
  {
   "cell_type": "code",
   "execution_count": 41,
   "id": "a9ee5182-3a24-431d-b2a7-55b762516b92",
   "metadata": {},
   "outputs": [],
   "source": [
    "from gensim.models import Word2Vec"
   ]
  },
  {
   "cell_type": "code",
   "execution_count": 42,
   "id": "c89a5864-967d-48d5-8ec1-275ec88f8d32",
   "metadata": {},
   "outputs": [],
   "source": [
    "sentences = [\n",
    " ['food', 'was', 'good'],\n",
    " ['taste', 'was', 'not', 'good'],\n",
    " ['will', 'not', 'recommend', 'to', 'others'],\n",
    " ['service', 'was', 'very', 'prompt'],\n",
    " ['awesome', 'food'],\n",
    "]"
   ]
  },
  {
   "cell_type": "code",
   "execution_count": 45,
   "id": "1ee9d852-c931-44df-9e1a-1b637f787621",
   "metadata": {},
   "outputs": [],
   "source": [
    "emb_model=Word2Vec(\n",
    "    sentences=sentences,\n",
    "    vector_size=5,\n",
    "    sg=1,               # 1=Skip-Gram, 0=CBOW\n",
    "    window=2,\n",
    "    min_count=1          # ignore words with frequency < 1\n",
    ")"
   ]
  },
  {
   "cell_type": "code",
   "execution_count": 54,
   "id": "1b19279c-0cca-4c32-a2d5-2a922b674e1b",
   "metadata": {},
   "outputs": [
    {
     "name": "stdout",
     "output_type": "stream",
     "text": [
      "sonu not found\n",
      "[0. 0. 0. 0. 0.]\n"
     ]
    }
   ],
   "source": [
    "word='sonu'\n",
    "if word in emb_model.wv.key_to_index:\n",
    "    print(emb_model.wv.get_vector(word))\n",
    "else:\n",
    "    print(word,'not found')\n",
    "    print(np.zeros(5)) "
   ]
  },
  {
   "cell_type": "code",
   "execution_count": 55,
   "id": "f2933b6c-7d09-4e50-a866-0da7875e29be",
   "metadata": {},
   "outputs": [],
   "source": [
    "from gensim.models import KeyedVectors\n",
    "emd_model=KeyedVectors.load_word2vec_format('GoogleNews-vectors-negative300.bin.gz',binary=True)"
   ]
  },
  {
   "cell_type": "code",
   "execution_count": 61,
   "id": "278a1a71-982e-492a-bc99-1894ac911d4d",
   "metadata": {},
   "outputs": [
    {
     "data": {
      "text/plain": [
       "array([-0.18164062,  0.16503906, -0.16601562,  0.35742188, -0.09228516,\n",
       "        0.20117188, -0.0546875 , -0.26171875, -0.17285156, -0.08056641,\n",
       "        0.14648438, -0.24609375,  0.18652344,  0.10253906, -0.3203125 ,\n",
       "        0.16699219, -0.0032196 , -0.06640625,  0.06591797, -0.109375  ,\n",
       "        0.13964844, -0.05029297,  0.25390625,  0.0859375 ,  0.02026367,\n",
       "        0.05517578, -0.08447266,  0.07324219,  0.15429688, -0.13867188,\n",
       "       -0.25195312, -0.15136719,  0.07958984,  0.00848389, -0.24902344,\n",
       "        0.05224609,  0.04394531, -0.19726562, -0.2109375 ,  0.01477051,\n",
       "       -0.23632812, -0.14355469,  0.17773438,  0.26757812, -0.08789062,\n",
       "       -0.07910156, -0.16113281,  0.23632812, -0.07177734,  0.08837891,\n",
       "        0.07177734, -0.11962891, -0.09228516, -0.12060547, -0.00448608,\n",
       "       -0.21875   , -0.05712891, -0.04418945,  0.07226562, -0.05883789,\n",
       "       -0.12597656,  0.03125   , -0.24609375,  0.19140625,  0.14941406,\n",
       "       -0.19335938, -0.1875    , -0.05126953,  0.03369141, -0.21679688,\n",
       "        0.05273438, -0.13183594,  0.04101562, -0.00500488, -0.21484375,\n",
       "       -0.18066406, -0.36914062,  0.05957031,  0.02075195, -0.18457031,\n",
       "        0.12011719, -0.18359375,  0.23144531,  0.05810547, -0.23730469,\n",
       "       -0.15039062, -0.20410156,  0.07617188, -0.0234375 , -0.09521484,\n",
       "        0.06787109, -0.05566406, -0.07324219, -0.36328125, -0.00579834,\n",
       "       -0.10742188,  0.00964355, -0.00224304,  0.00427246, -0.00512695,\n",
       "       -0.06640625,  0.17285156,  0.23730469,  0.19433594, -0.00976562,\n",
       "       -0.06542969, -0.02868652, -0.23242188, -0.18554688, -0.03662109,\n",
       "       -0.20898438, -0.30078125, -0.10839844, -0.03540039, -0.18066406,\n",
       "        0.10693359,  0.13671875, -0.01599121, -0.09814453,  0.0055542 ,\n",
       "       -0.3203125 ,  0.09033203, -0.25976562, -0.15039062, -0.11230469,\n",
       "        0.08886719,  0.01080322, -0.04418945, -0.04418945, -0.10253906,\n",
       "       -0.17382812,  0.04541016, -0.20507812,  0.05932617, -0.22753906,\n",
       "        0.34179688,  0.28515625, -0.12255859,  0.14453125, -0.01843262,\n",
       "        0.140625  , -0.10986328, -0.18457031, -0.1171875 , -0.08251953,\n",
       "       -0.07080078,  0.14941406,  0.19628906, -0.36328125, -0.02526855,\n",
       "        0.05102539,  0.25976562, -0.203125  , -0.04394531,  0.04125977,\n",
       "       -0.10009766, -0.06835938,  0.05322266, -0.375     , -0.25195312,\n",
       "       -0.16796875, -0.04931641, -0.05761719,  0.23535156, -0.06591797,\n",
       "        0.05297852, -0.14550781, -0.00145721,  0.12109375, -0.21582031,\n",
       "       -0.41210938,  0.03088379,  0.14257812, -0.09130859, -0.12109375,\n",
       "       -0.07080078,  0.07763672,  0.0291748 , -0.04589844, -0.02355957,\n",
       "       -0.29296875, -0.19238281,  0.10302734, -0.1171875 ,  0.08935547,\n",
       "       -0.07373047, -0.11914062,  0.04272461, -0.05712891,  0.11328125,\n",
       "        0.04150391,  0.11621094,  0.125     , -0.0390625 , -0.08496094,\n",
       "        0.24121094,  0.17675781, -0.25585938, -0.19433594, -0.12011719,\n",
       "       -0.0559082 , -0.03417969, -0.0255127 , -0.22949219, -0.24609375,\n",
       "        0.00946045,  0.18066406, -0.05493164,  0.06176758,  0.03027344,\n",
       "       -0.28125   , -0.05004883,  0.15527344,  0.10888672,  0.19140625,\n",
       "        0.0088501 ,  0.11865234,  0.09228516, -0.05175781,  0.05200195,\n",
       "        0.20019531, -0.08691406,  0.16210938,  0.03125   ,  0.20800781,\n",
       "        0.16894531, -0.03198242,  0.01177979,  0.09033203,  0.07617188,\n",
       "       -0.05810547,  0.19726562, -0.10986328,  0.11425781, -0.00257874,\n",
       "       -0.18066406,  0.3046875 ,  0.02893066, -0.01525879, -0.06542969,\n",
       "        0.18847656,  0.17285156,  0.13867188,  0.00222778,  0.06054688,\n",
       "       -0.04199219,  0.20800781, -0.20214844,  0.01300049,  0.03417969,\n",
       "        0.03027344, -0.09228516, -0.14648438, -0.09619141, -0.02416992,\n",
       "       -0.27929688,  0.17285156, -0.07763672, -0.05102539,  0.15429688,\n",
       "       -0.01733398, -0.01177979, -0.01940918, -0.07128906,  0.02331543,\n",
       "       -0.07177734, -0.1875    ,  0.04638672, -0.05249023, -0.05566406,\n",
       "       -0.2734375 ,  0.11279297,  0.17089844,  0.01782227,  0.00387573,\n",
       "        0.00753784, -0.20996094, -0.25390625,  0.2265625 , -0.04614258,\n",
       "       -0.06738281, -0.02160645,  0.10791016,  0.26757812, -0.18554688,\n",
       "        0.09326172, -0.09521484,  0.35546875,  0.05737305,  0.45898438,\n",
       "       -0.36914062, -0.05517578, -0.14941406,  0.3984375 ,  0.09277344,\n",
       "        0.03393555, -0.06152344,  0.15917969,  0.12792969,  0.00222778],\n",
       "      dtype=float32)"
      ]
     },
     "execution_count": 61,
     "metadata": {},
     "output_type": "execute_result"
    }
   ],
   "source": [
    "emd_model.get_vector('food')"
   ]
  },
  {
   "cell_type": "code",
   "execution_count": 64,
   "id": "db706a90-1a7d-44e9-8819-cc1da4759304",
   "metadata": {},
   "outputs": [
    {
     "data": {
      "text/plain": [
       "[('chairs', 0.7871319055557251),\n",
       " ('Chair', 0.748843789100647),\n",
       " ('chairperson', 0.6301862597465515)]"
      ]
     },
     "execution_count": 64,
     "metadata": {},
     "output_type": "execute_result"
    }
   ],
   "source": [
    "emd_model.most_similar('chair',topn=3)"
   ]
  },
  {
   "cell_type": "code",
   "execution_count": 65,
   "id": "12a2ac62-ceca-4391-9d46-ad9b2711c2cc",
   "metadata": {},
   "outputs": [
    {
     "data": {
      "text/plain": [
       "[('queen', 0.6660672426223755)]"
      ]
     },
     "execution_count": 65,
     "metadata": {},
     "output_type": "execute_result"
    }
   ],
   "source": [
    "emd_model.most_similar(positive=['king','female'],negative=['male'],topn=1)"
   ]
  },
  {
   "cell_type": "code",
   "execution_count": null,
   "id": "e9383de5-90e3-48e1-a64d-f044b17274e5",
   "metadata": {},
   "outputs": [],
   "source": []
  }
 ],
 "metadata": {
  "kernelspec": {
   "display_name": "Python 3 (ipykernel)",
   "language": "python",
   "name": "python3"
  },
  "language_info": {
   "codemirror_mode": {
    "name": "ipython",
    "version": 3
   },
   "file_extension": ".py",
   "mimetype": "text/x-python",
   "name": "python",
   "nbconvert_exporter": "python",
   "pygments_lexer": "ipython3",
   "version": "3.13.5"
  }
 },
 "nbformat": 4,
 "nbformat_minor": 5
}
